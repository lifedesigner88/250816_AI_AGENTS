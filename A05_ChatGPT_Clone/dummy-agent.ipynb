{
 "cells": [
  {
   "metadata": {},
   "cell_type": "code",
   "source": [
    "from agents import Agent, Runner, function_tool\n",
    "\n",
    "@function_tool\n",
    "def get_weather(city:str):\n",
    "    \"\"\" Get weather from city \"\"\"\n",
    "    print(city, \"🔥🔥\")\n",
    "    return \"30 degrees\"\n",
    "\n",
    "agent = Agent(\n",
    "    name=\"Assistant Agent\",\n",
    "    instructions=\"You are a helpful assistant. Use tools when needed to answer questions.\",\n",
    "    tools=[get_weather],\n",
    ")\n"
   ],
   "id": "2d3128fde2db128e",
   "outputs": [],
   "execution_count": null
  },
  {
   "metadata": {},
   "cell_type": "code",
   "source": [
    "stream = Runner.run_streamed(agent, \"Hello how are you? What is the weather in the capital of Spain\")\n",
    "\n",
    "import json\n",
    "def convert_to_serializable(obj):\n",
    "    if hasattr(obj, 'model_dump'):\n",
    "        return obj.model_dump()\n",
    "    if hasattr(obj, 'to_dict'):\n",
    "        return obj.to_dict()\n",
    "    if hasattr(obj, '__dict__'):\n",
    "        return obj.__dict__\n",
    "    return str(obj)\n",
    "\n",
    "async for event in stream.stream_events():\n",
    "    if event.type == \"raw_response_event\":\n",
    "        continue\n",
    "    elif event.type == \"agent_updated_stream_event\":\n",
    "        print(\"🚀\", event.type)\n",
    "        print(json.dumps(event, indent=4, default=convert_to_serializable))\n",
    "    elif event.type == \"run_item_stream_event\":\n",
    "        print(\"✅\", event.item.type)\n",
    "        print(json.dumps(event.item.raw_item, indent=4, default=convert_to_serializable))"
   ],
   "id": "2624a569441589e",
   "outputs": [],
   "execution_count": null
  },
  {
   "metadata": {},
   "cell_type": "code",
   "source": [
    "stream = Runner.run_streamed(agent, \"Hello how are you? What is the weather in the capital of Spain\")\n",
    "\n",
    "message = \"\"\n",
    "args = \"\"\n",
    "\n",
    "async for event in stream.stream_events():\n",
    "\n",
    "    if event.type == \"raw_response_event\":\n",
    "        event_type = event.data.type\n",
    "        if event_type == \"response.output_text.delta\":\n",
    "            message += event.data.delta\n",
    "            print(message)\n",
    "        elif event_type == \"response.function_call_arguments.delta\":\n",
    "            args += event.data.delta\n",
    "            print(args)\n",
    "        elif event_type == \"response.completed\":\n",
    "            message = \"\"\n",
    "            args = \"\""
   ],
   "id": "a720a8178416f6e7",
   "outputs": [],
   "execution_count": null
  },
  {
   "metadata": {},
   "cell_type": "code",
   "source": [
    "stream = Runner.run_streamed(agent, \"Hello how are you? What is the weather in the capital of Spain\")\n",
    "async for event in stream.stream_events():\n",
    "    print(event.type)\n"
   ],
   "id": "746a5f8516b994d6",
   "outputs": [],
   "execution_count": null
  }
 ],
 "metadata": {
  "kernelspec": {
   "name": "python3",
   "language": "python",
   "display_name": "Python 3 (ipykernel)"
  }
 },
 "nbformat": 4,
 "nbformat_minor": 5
}
