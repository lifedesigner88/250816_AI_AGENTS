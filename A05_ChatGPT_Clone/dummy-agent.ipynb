{
 "cells": [
  {
   "metadata": {
    "ExecuteTime": {
     "end_time": "2025-10-04T06:26:14.139802Z",
     "start_time": "2025-10-04T06:26:14.094843Z"
    }
   },
   "cell_type": "code",
   "source": [
    "from agents import Agent, Runner, function_tool, SQLiteSession\n",
    "\n",
    "session = SQLiteSession(\"user_1\", \"ai-memory.db\")\n",
    "\n",
    "@function_tool\n",
    "def get_weather(city:str):\n",
    "    \"\"\" Get weather from city \"\"\"\n",
    "    print(city, \"🔥🔥\")\n",
    "    return \"30 degrees\"\n",
    "\n",
    "agent = Agent(\n",
    "    name=\"Assistant Agent\",\n",
    "    instructions=\"You are a helpful assistant. Use tools when needed to answer questions.\",\n",
    "    tools=[get_weather],\n",
    ")\n"
   ],
   "id": "2d3128fde2db128e",
   "outputs": [],
   "execution_count": 32
  },
  {
   "metadata": {},
   "cell_type": "code",
   "source": [
    "stream = Runner.run_streamed(agent, \"Hello how are you? What is the weather in the capital of Spain\")\n",
    "\n",
    "import json\n",
    "def convert_to_serializable(obj):\n",
    "    if hasattr(obj, 'model_dump'):\n",
    "        return obj.model_dump()\n",
    "    if hasattr(obj, 'to_dict'):\n",
    "        return obj.to_dict()\n",
    "    if hasattr(obj, '__dict__'):\n",
    "        return obj.__dict__\n",
    "    return str(obj)\n",
    "\n",
    "async for event in stream.stream_events():\n",
    "    if event.type == \"raw_response_event\":\n",
    "        continue\n",
    "    elif event.type == \"agent_updated_stream_event\":\n",
    "        print(\"🚀\", event.type)\n",
    "        print(json.dumps(event, indent=4, default=convert_to_serializable))\n",
    "    elif event.type == \"run_item_stream_event\":\n",
    "        print(\"✅\", event.item.type)\n",
    "        print(json.dumps(event.item.raw_item, indent=4, default=convert_to_serializable))"
   ],
   "id": "2624a569441589e",
   "outputs": [],
   "execution_count": null
  },
  {
   "metadata": {},
   "cell_type": "code",
   "source": [
    "stream = Runner.run_streamed(agent, \"Hello how are you? What is the weather in the capital of Spain\")\n",
    "\n",
    "message = \"\"\n",
    "args = \"\"\n",
    "\n",
    "async for event in stream.stream_events():\n",
    "\n",
    "    if event.type == \"raw_response_event\":\n",
    "        event_type = event.data.type\n",
    "        if event_type == \"response.output_text.delta\":\n",
    "            message += event.data.delta\n",
    "            print(message)\n",
    "        elif event_type == \"response.function_call_arguments.delta\":\n",
    "            args += event.data.delta\n",
    "            print(args)\n",
    "        elif event_type == \"response.completed\":\n",
    "            message = \"\"\n",
    "            args = \"\""
   ],
   "id": "a720a8178416f6e7",
   "outputs": [],
   "execution_count": null
  },
  {
   "metadata": {},
   "cell_type": "code",
   "source": [
    "stream = Runner.run_streamed(agent, \"Hello how are you? What is the weather in the capital of Spain\")\n",
    "async for event in stream.stream_events():\n",
    "    print(event.type)\n"
   ],
   "id": "746a5f8516b994d6",
   "outputs": [],
   "execution_count": null
  },
  {
   "metadata": {
    "ExecuteTime": {
     "end_time": "2025-10-04T06:29:17.277221Z",
     "start_time": "2025-10-04T06:29:14.923359Z"
    }
   },
   "cell_type": "code",
   "source": [
    "result = await Runner.run(\n",
    "    agent,\n",
    "    \"let me know my first question about weather\",\n",
    "    session=session\n",
    ")\n",
    "\n",
    "print(result.final_output)"
   ],
   "id": "9a47387d4c713c2c",
   "outputs": [
    {
     "name": "stdout",
     "output_type": "stream",
     "text": [
      "Your first question about the weather was:\n",
      "\n",
      "\"What is the weather in the capital of Spain?\"\n",
      "\n",
      "I answered that the weather in Madrid, the capital of Spain, is currently 30 degrees. If you need more details or have any other questions, let me know, Sejong!\n"
     ]
    }
   ],
   "execution_count": 37
  }
 ],
 "metadata": {
  "kernelspec": {
   "name": "python3",
   "language": "python",
   "display_name": "Python 3 (ipykernel)"
  }
 },
 "nbformat": 4,
 "nbformat_minor": 5
}
