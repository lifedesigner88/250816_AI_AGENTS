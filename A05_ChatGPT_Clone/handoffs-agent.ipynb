{
 "cells": [
  {
   "cell_type": "code",
   "id": "initial_id",
   "metadata": {
    "collapsed": true
   },
   "source": [
    "from agents import Agent, Runner, SQLiteSession, function_tool, trace\n",
    "from agents.extensions.visualization import draw_graph\n",
    "from pydantic import BaseModel\n",
    "\n",
    "session = SQLiteSession(\"user_2\", \"ai-memory.db\")\n",
    "\n",
    "\n",
    "class Ansewr(BaseModel):\n",
    "    answer: str\n",
    "    background_explanation: str\n",
    "\n",
    "\n",
    "@function_tool\n",
    "def get_weather():\n",
    "    return \"30\"\n",
    "\n",
    "\n",
    "geaography_agent = Agent(\n",
    "    name=\"Geo Expert Agent\",\n",
    "    instructions=\"You are a expert in geography, you answer questions related to them.\",\n",
    "    handoff_description=\"Use this to answer geography related questions.\",\n",
    "    tools=[\n",
    "        get_weather\n",
    "    ],\n",
    "    output_type=Ansewr\n",
    ")\n",
    "economics_agent = Agent(\n",
    "    name=\"Economics Expert Agent\",\n",
    "    instructions=\"You are a expert in economics, you answer questions related to them.\",\n",
    "    handoff_description=\"Use this to answer economics questions.\",\n",
    ")\n",
    "\n",
    "main_agent = Agent(\n",
    "    name=\"Main Agent\",\n",
    "    instructions=\"You are a user facing agent. Transfer to the agent most capable of answering the user's question.\",\n",
    "    handoffs=[\n",
    "        economics_agent,\n",
    "        geaography_agent,\n",
    "    ],\n",
    ")\n",
    "\n",
    "draw_graph(main_agent)"
   ],
   "outputs": [],
   "execution_count": null
  },
  {
   "metadata": {},
   "cell_type": "code",
   "source": [
    "with trace(\"user_2\"):\n",
    "\n",
    "    result = await Runner.run(\n",
    "        main_agent,\n",
    "        \"let me know about weather of seoul\",\n",
    "        session=session,\n",
    "    )\n",
    "    result = await Runner.run(\n",
    "        main_agent,\n",
    "        \"let me know about weather of busan\",\n",
    "        session=session,\n",
    "    )\n",
    "    result = await Runner.run(\n",
    "        main_agent,\n",
    "        \"let me know about weather of tokyo in Japan\",\n",
    "        session=session,\n",
    "    )\n",
    "\n"
   ],
   "id": "3dc56f81ed016727",
   "outputs": [],
   "execution_count": null
  }
 ],
 "metadata": {
  "kernelspec": {
   "display_name": "Python 3",
   "language": "python",
   "name": "python3"
  },
  "language_info": {
   "codemirror_mode": {
    "name": "ipython",
    "version": 2
   },
   "file_extension": ".py",
   "mimetype": "text/x-python",
   "name": "python",
   "nbconvert_exporter": "python",
   "pygments_lexer": "ipython2",
   "version": "2.7.6"
  }
 },
 "nbformat": 4,
 "nbformat_minor": 5
}
