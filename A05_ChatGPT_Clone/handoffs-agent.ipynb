{
 "cells": [
  {
   "cell_type": "code",
   "id": "initial_id",
   "metadata": {
    "collapsed": true,
    "ExecuteTime": {
     "end_time": "2025-10-04T07:26:20.298433Z",
     "start_time": "2025-10-04T07:26:18.401305Z"
    }
   },
   "source": [
    "from agents import Agent, Runner, SQLiteSession\n",
    "\n",
    "session = SQLiteSession(\"user_2\", \"ai-memory.db\")\n",
    "\n",
    "geaography_agent = Agent(\n",
    "    name=\"Geo Expert Agent\",\n",
    "    instructions=\"You are a expert in geography, you answer questions related to them.\",\n",
    "    handoff_description=\"Use this to answer geography related questions.\",\n",
    ")\n",
    "economics_agent = Agent(\n",
    "    name=\"Economics Expert Agent\",\n",
    "    instructions=\"You are a expert in economics, you answer questions related to them.\",\n",
    "    handoff_description=\"Use this to answer economics questions.\",\n",
    ")\n",
    "\n",
    "main_agent = Agent(\n",
    "    name=\"Main Agent\",\n",
    "    instructions=\"You are a user facing agent. Transfer to the agent most capable of answering the user's question.\",\n",
    "    handoffs=[\n",
    "        economics_agent,\n",
    "        geaography_agent,\n",
    "    ],\n",
    ")"
   ],
   "outputs": [],
   "execution_count": 1
  },
  {
   "metadata": {
    "ExecuteTime": {
     "end_time": "2025-10-04T07:26:27.692064Z",
     "start_time": "2025-10-04T07:26:20.321011Z"
    }
   },
   "cell_type": "code",
   "source": [
    "result = await Runner.run(\n",
    "    main_agent,\n",
    "    \"Why do countries sell bonds?\",\n",
    "    session=session,\n",
    ")\n",
    "\n",
    "print(result.last_agent.name)\n",
    "print(result.final_output)"
   ],
   "id": "3dc56f81ed016727",
   "outputs": [
    {
     "name": "stdout",
     "output_type": "stream",
     "text": [
      "Economics Expert Agent\n",
      "Countries sell bonds primarily to raise money for various purposes without immediately raising taxes. Here’s why and how it works:\n",
      "\n",
      "1. **Government Financing**: When countries need to finance spending that exceeds their tax revenue—such as for infrastructure projects, public services, or social programs—they issue bonds (government debt securities) to borrow funds from investors.\n",
      "\n",
      "2. **Deficit Financing**: If a government's budget is in deficit (spending more than it earns), selling bonds allows it to cover the gap.\n",
      "\n",
      "3. **Monetary Policy**: Sometimes, central banks buy and sell government bonds to influence interest rates and the money supply in the economy (open market operations).\n",
      "\n",
      "4. **Managing Cash Flow**: Governments may have uneven revenue/tax inflows and need short-term funds, which they obtain by issuing short-term bonds or treasury bills.\n",
      "\n",
      "**How it works**: Investors buy bonds, effectively lending money to the government. In return, the government promises to pay back the amount in the future plus periodic interest (coupon payments).\n",
      "\n",
      "**Why investors buy**: Government bonds are usually considered safe investments because they are backed by the government's promise to pay, making them attractive for individuals, banks, pension funds, and foreign governments.\n",
      "\n",
      "**Summary**:  \n",
      "Countries sell bonds to borrow money from the public, organizations, or foreign governments in order to finance public spending, manage the economy, or maintain liquidity—without raising taxes right away.\n"
     ]
    }
   ],
   "execution_count": 2
  }
 ],
 "metadata": {
  "kernelspec": {
   "display_name": "Python 3",
   "language": "python",
   "name": "python3"
  },
  "language_info": {
   "codemirror_mode": {
    "name": "ipython",
    "version": 2
   },
   "file_extension": ".py",
   "mimetype": "text/x-python",
   "name": "python",
   "nbconvert_exporter": "python",
   "pygments_lexer": "ipython2",
   "version": "2.7.6"
  }
 },
 "nbformat": 4,
 "nbformat_minor": 5
}
