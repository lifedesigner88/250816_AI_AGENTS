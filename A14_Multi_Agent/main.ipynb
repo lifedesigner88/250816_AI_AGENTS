{
 "cells": [
  {
   "cell_type": "code",
   "id": "initial_id",
   "metadata": {
    "collapsed": true
   },
   "source": [
    "from langgraph.graph import StateGraph, START, END\n",
    "from langgraph.types import Command\n",
    "from langgraph.graph.message import MessagesState\n",
    "from langgraph.prebuilt import ToolNode, tools_condition\n",
    "from langchain_core.tools import tool\n",
    "from langchain.chat_models import init_chat_model"
   ],
   "outputs": [],
   "execution_count": null
  },
  {
   "metadata": {},
   "cell_type": "code",
   "source": [
    "class AgentsState(MessagesState):\n",
    "    current_agent: str\n",
    "    transfered_by: str\n",
    "    error:str\n",
    "\n",
    "llm = init_chat_model(\"openai:gpt-4o\")\n"
   ],
   "id": "c93a646dfd3ba3c4",
   "outputs": [],
   "execution_count": null
  },
  {
   "metadata": {},
   "cell_type": "code",
   "source": [
    "def make_agent(prompt, tools):\n",
    "    def agent_node(state: AgentsState):\n",
    "        llm_with_tools = llm.bind_tools(tools)\n",
    "        response = llm_with_tools.invoke(\n",
    "            f\"\"\"\n",
    "            {prompt}\n",
    "\n",
    "            You have a tool called 'handoff_tool' user it to transfer\n",
    "            to other agent, don't use it to transfer to yourself\n",
    "\n",
    "            Conversation History:\n",
    "            {state[\"messages\"]}\n",
    "            \"\"\"\n",
    "        )\n",
    "        return {\"messages\": [response]}\n",
    "\n",
    "    agent_builder = StateGraph(AgentsState)\n",
    "\n",
    "    (\n",
    "        agent_builder\n",
    "        .add_node(\"agent\", agent_node)\n",
    "        .add_node(\"tools\", ToolNode(tools=tools))\n",
    "\n",
    "        .add_edge(START, \"agent\")\n",
    "        .add_conditional_edges(\"agent\", tools_condition)\n",
    "        .add_edge(\"tools\", \"agent\")\n",
    "        .add_edge(\"agent\", END)\n",
    "    )\n",
    "    return agent_builder.compile()\n"
   ],
   "id": "7616c92b5c5ac4d1",
   "outputs": [],
   "execution_count": null
  },
  {
   "metadata": {},
   "cell_type": "code",
   "source": [
    "@tool\n",
    "def handoff_tool(transfer_to: str, transfered_by: str):\n",
    "    \"\"\"\n",
    "     Handoff to another agent.\n",
    "\n",
    "     Use this tool when the customer speaks a language that you don't understand.\n",
    "\n",
    "     Possible values for `transfer_to`:\n",
    "     - `korean_agent`\n",
    "     - `greek_agent`\n",
    "     - `spanish_agent`\n",
    "\n",
    "     Possible values for `transfered_by`:\n",
    "     - `korean_agent`\n",
    "     - `greek_agent`\n",
    "     - `spanish_agent`\n",
    "\n",
    "     Args:\n",
    "         transfer_to: The agent to transfer the conversation to\n",
    "         transfered_by: The agent that transferred the conversation\n",
    "     \"\"\"\n",
    "\n",
    "    if transfer_to == transfered_by:\n",
    "        return {\n",
    "            \"error\" : \" Stop trying to transfer to your self\"\n",
    "        }\n",
    "    return Command(\n",
    "        update={\n",
    "            \"current_agent\": transfer_to,\n",
    "            \"transfered_by\": transfered_by,\n",
    "        },\n",
    "        goto=transfer_to,\n",
    "        graph=Command.PARENT\n",
    "    )"
   ],
   "id": "5ef26c727627f68e",
   "outputs": [],
   "execution_count": null
  },
  {
   "metadata": {},
   "cell_type": "code",
   "source": [
    "graph_builder = StateGraph(AgentsState)\n",
    "\n",
    "(\n",
    "    graph_builder\n",
    "\n",
    "    .add_node(\"korean_agent\", make_agent(\n",
    "        prompt=\"You're a Korean customer support agent. You only speak and understand Korean.\",\n",
    "        tools=[handoff_tool]))\n",
    "\n",
    "    .add_node(\"greek_agent\", make_agent(\n",
    "        prompt=\"You're a Greek customer support agent. You only speak and understand Greek.\",\n",
    "        tools=[handoff_tool]))\n",
    "\n",
    "    .add_node(\"spanish_agent\", make_agent(\n",
    "        prompt=\"You're a Spanish customer support agent. You only speak and understand Spanish.\",\n",
    "        tools=[handoff_tool]))\n",
    "\n",
    "    .add_edge(START, \"korean_agent\")\n",
    ")\n",
    "graph = graph_builder.compile()\n",
    "\n"
   ],
   "id": "25680bd9ab3f42e9",
   "outputs": [],
   "execution_count": null
  },
  {
   "metadata": {},
   "cell_type": "code",
   "source": [
    "for event in graph.stream(\n",
    "        {\n",
    "            \"messages\": [\n",
    "                {\n",
    "                    \"role\": \"user\",\n",
    "                    \"content\": \"Hola! Necesito ayuda con mi cuenta.\"\n",
    "                }\n",
    "            ]\n",
    "        },\n",
    "        stream_mode=\"updates\"\n",
    "):\n",
    "    print(event)"
   ],
   "id": "8a1ed609a90d0e48",
   "outputs": [],
   "execution_count": null
  }
 ],
 "metadata": {
  "kernelspec": {
   "display_name": "Python 3",
   "language": "python",
   "name": "python3"
  },
  "language_info": {
   "codemirror_mode": {
    "name": "ipython",
    "version": 2
   },
   "file_extension": ".py",
   "mimetype": "text/x-python",
   "name": "python",
   "nbconvert_exporter": "python",
   "pygments_lexer": "ipython2",
   "version": "2.7.6"
  }
 },
 "nbformat": 4,
 "nbformat_minor": 5
}
