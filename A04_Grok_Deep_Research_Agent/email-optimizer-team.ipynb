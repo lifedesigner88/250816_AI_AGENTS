{
 "cells": [
  {
   "cell_type": "code",
   "id": "initial_id",
   "metadata": {
    "collapsed": true,
    "ExecuteTime": {
     "end_time": "2025-10-04T01:54:25.015182Z",
     "start_time": "2025-10-04T01:54:23.727102Z"
    }
   },
   "source": [
    "from autogen_agentchat.teams import RoundRobinGroupChat\n",
    "from autogen_agentchat.agents import AssistantAgent\n",
    "from autogen_ext.models.openai import OpenAIChatCompletionClient\n",
    "from autogen_agentchat.conditions import MaxMessageTermination, TextMentionTermination\n",
    "from autogen_agentchat.ui import Console"
   ],
   "outputs": [],
   "execution_count": 3
  },
  {
   "metadata": {
    "ExecuteTime": {
     "end_time": "2025-10-04T01:59:39.185581Z",
     "start_time": "2025-10-04T01:59:38.957073Z"
    }
   },
   "cell_type": "code",
   "outputs": [],
   "execution_count": 4,
   "source": [
    "model = OpenAIChatCompletionClient(model=\"gpt-4o-mini\")\n",
    "\n",
    "clarity_agent = AssistantAgent(\n",
    "    \"ClarityAgent\",\n",
    "    model_client=model,\n",
    "    system_message=\"\"\"You are an expert editor focused on clarity and simplicity.\n",
    "            Your job is to eliminate ambiguity, redundancy, and make every sentence crisp and clear.\n",
    "            Don't worry about persuasion or tone — just make the message easy to read and understand.\"\"\",\n",
    ")\n",
    "\n",
    "tone_agent = AssistantAgent(\n",
    "    \"ToneAgent\",\n",
    "    model_client=model,\n",
    "    system_message=\"\"\"You are a communication coach focused on emotional tone and professionalism.\n",
    "            Your job is to make the email sound warm, confident, and human — while staying professional\n",
    "            and appropriate for the audience. Improve the emotional resonance, polish the phrasing,\n",
    "            and adjust any words that may come off as stiff, cold, or overly casual.\"\"\",\n",
    ")\n",
    "\n",
    "persuasion_agent = AssistantAgent(\n",
    "    \"PersuasionAgent\",\n",
    "    model_client=model,\n",
    "    system_message=\"\"\"You are a persuasion expert trained in marketing, behavioral psychology,\n",
    "            and copywriting. Your job is to enhance the email's persuasive power: improve call to action, structure arguments, and emphasize benefits. Remove weak or passive language.\"\"\",\n",
    ")\n",
    "\n",
    "synthesizer_agent = AssistantAgent(\n",
    "    \"SynthesizerAgent\",\n",
    "    model_client=model,\n",
    "    system_message=\"\"\"You are an advanced email-writing specialist. Your role is to read all\n",
    "            prior agent responses and revisions, and then **synthesize the best ideas** into a unified,\n",
    "            polished draft of the email. Focus on: Integrating clarity, tone, and persuasion improvements;\n",
    "            Ensuring coherence, fluency, and a natural voice; Creating a version that feels professional,\n",
    "            effective, and readable.\"\"\",\n",
    ")\n",
    "\n",
    "critic_agent = AssistantAgent(\n",
    "    \"CriticAgent\",\n",
    "    model_client=model,\n",
    "    system_message=\"\"\"You are an email quality evaluator. Your job is to perform a final review\n",
    "            of the synthesized email and determine if it meets professional standards. Review the email for:\n",
    "            Clarity and flow, appropriate professional tone, effective call-to-action, and overall coherence.\n",
    "            Be constructive but decisive. If the email has major flaws (unclear message, unprofessional tone,\n",
    "            or missing key elements), provide ONE specific improvement suggestion. If the email meets professional standards and communicates effectively, respond with 'The email meets professional standards.' followed by `TERMINATE` on a new line. You should only approve emails that are perfect enough for professional use, dont settle.\"\"\",\n",
    ")"
   ],
   "id": "6378a72510880939"
  },
  {
   "metadata": {
    "ExecuteTime": {
     "end_time": "2025-10-04T02:00:21.087048Z",
     "start_time": "2025-10-04T02:00:21.084449Z"
    }
   },
   "cell_type": "code",
   "source": [
    "\n",
    "text_termination = TextMentionTermination(\"TERMINATE\")\n",
    "max_messages_termination = MaxMessageTermination(max_messages=30)\n",
    "\n",
    "termination_condition = text_termination | max_messages_termination"
   ],
   "id": "bad6a21ad47f5b89",
   "outputs": [],
   "execution_count": 5
  },
  {
   "metadata": {
    "ExecuteTime": {
     "end_time": "2025-10-04T02:00:39.744660Z",
     "start_time": "2025-10-04T02:00:25.395524Z"
    }
   },
   "cell_type": "code",
   "source": [
    "team = RoundRobinGroupChat(\n",
    "    participants=[\n",
    "        clarity_agent,\n",
    "        tone_agent,\n",
    "        persuasion_agent,\n",
    "        synthesizer_agent,\n",
    "        critic_agent,\n",
    "    ],\n",
    "    termination_condition=termination_condition,\n",
    ")\n",
    "\n",
    "await Console(\n",
    "    team.run_stream(\n",
    "        task=\"Hi! Im hungry, buy me lunch and invest in my business. Thanks.\"\n",
    "    )\n",
    ")"
   ],
   "id": "4af2f114af9dd8ee",
   "outputs": [
    {
     "name": "stdout",
     "output_type": "stream",
     "text": [
      "---------- TextMessage (user) ----------\n",
      "Hi! Im hungry, buy me lunch and invest in my business. Thanks.\n",
      "---------- TextMessage (ClarityAgent) ----------\n",
      "Hi! I'm hungry. Please buy me lunch and invest in my business. Thanks.\n",
      "---------- TextMessage (ToneAgent) ----------\n",
      "Subject: A Quick Favor\n",
      "\n",
      "Hi [Recipient's Name],\n",
      "\n",
      "I hope this message finds you well! I wanted to reach out because I’m feeling a bit hungry today, and I thought it might be a great opportunity to catch up over lunch. If you’re available, I’d love to share some ideas about my business and discuss how you could potentially invest in its future.\n",
      "\n",
      "Thank you for considering this! I truly appreciate your support.\n",
      "\n",
      "Warm regards,\n",
      "\n",
      "[Your Name]  \n",
      "[Your Contact Information]  \n",
      "---------- TextMessage (PersuasionAgent) ----------\n",
      "Subject: Let’s Grab Lunch and Explore a Business Opportunity!\n",
      "\n",
      "Hi [Recipient's Name],\n",
      "\n",
      "I hope you’re doing well! I’m reaching out with a two-fold request that I believe can lead to exciting opportunities for both of us.\n",
      "\n",
      "First, I’m feeling a bit hungry today, and it would be wonderful to share a meal together. This isn’t just about lunch; I genuinely value your insights and would love to discuss my business ideas with you. \n",
      "\n",
      "I’m excited to explore the possibility of you investing in my venture. I believe that with your expertise and resources, we can take it to the next level. Joining forces could lead to remarkable outcomes.\n",
      "\n",
      "Could we set a time to meet for lunch this week? Your support could make a significant difference in my journey.\n",
      "\n",
      "Thank you for considering this opportunity! I’m looking forward to hearing from you soon.\n",
      "\n",
      "Best,  \n",
      "[Your Name]  \n",
      "[Your Contact Information]  \n",
      "---------- TextMessage (SynthesizerAgent) ----------\n",
      "Subject: Let’s Grab Lunch and Explore a Business Opportunity!\n",
      "\n",
      "Hi [Recipient's Name],\n",
      "\n",
      "I hope this message finds you well! I'm reaching out with a two-fold request that I believe could lead to exciting opportunities for both of us.\n",
      "\n",
      "First, I could really use a meal today, and it would be fantastic to share lunch together. More importantly, I’m eager to discuss my business ideas with you. Your insights and perspective are invaluable to me.\n",
      "\n",
      "I’m also keen to explore the possibility of your investment in my venture. With your expertise and support, I truly believe we can take it to the next level and achieve remarkable outcomes.\n",
      "\n",
      "Could we set up a time to meet for lunch this week? Your encouragement and guidance could make a significant difference in my journey.\n",
      "\n",
      "Thank you for considering this opportunity! I look forward to hearing from you soon.\n",
      "\n",
      "Best,  \n",
      "[Your Name]  \n",
      "[Your Contact Information]  \n",
      "---------- TextMessage (CriticAgent) ----------\n",
      "The email meets professional standards.  \n",
      "TERMINATE\n"
     ]
    },
    {
     "data": {
      "text/plain": [
       "TaskResult(messages=[TextMessage(id='8542a464-72df-45d7-8d50-3cc531b3e9ab', source='user', models_usage=None, metadata={}, created_at=datetime.datetime(2025, 10, 4, 2, 0, 25, 405248, tzinfo=datetime.timezone.utc), content='Hi! Im hungry, buy me lunch and invest in my business. Thanks.', type='TextMessage'), TextMessage(id='aa70da34-df68-4213-b85a-f353e23a3e21', source='ClarityAgent', models_usage=RequestUsage(prompt_tokens=75, completion_tokens=17), metadata={}, created_at=datetime.datetime(2025, 10, 4, 2, 0, 29, 112430, tzinfo=datetime.timezone.utc), content=\"Hi! I'm hungry. Please buy me lunch and invest in my business. Thanks.\", type='TextMessage'), TextMessage(id='eb273421-891c-47eb-a58f-d2d062d3bf60', source='ToneAgent', models_usage=RequestUsage(prompt_tokens=120, completion_tokens=101), metadata={}, created_at=datetime.datetime(2025, 10, 4, 2, 0, 32, 7009, tzinfo=datetime.timezone.utc), content=\"Subject: A Quick Favor\\n\\nHi [Recipient's Name],\\n\\nI hope this message finds you well! I wanted to reach out because I’m feeling a bit hungry today, and I thought it might be a great opportunity to catch up over lunch. If you’re available, I’d love to share some ideas about my business and discuss how you could potentially invest in its future.\\n\\nThank you for considering this! I truly appreciate your support.\\n\\nWarm regards,\\n\\n[Your Name]  \\n[Your Contact Information]  \", type='TextMessage'), TextMessage(id='a7e9a9cc-fdc3-433e-b1c5-8695aa4138ae', source='PersuasionAgent', models_usage=RequestUsage(prompt_tokens=207, completion_tokens=186), metadata={}, created_at=datetime.datetime(2025, 10, 4, 2, 0, 36, 61334, tzinfo=datetime.timezone.utc), content=\"Subject: Let’s Grab Lunch and Explore a Business Opportunity!\\n\\nHi [Recipient's Name],\\n\\nI hope you’re doing well! I’m reaching out with a two-fold request that I believe can lead to exciting opportunities for both of us.\\n\\nFirst, I’m feeling a bit hungry today, and it would be wonderful to share a meal together. This isn’t just about lunch; I genuinely value your insights and would love to discuss my business ideas with you. \\n\\nI’m excited to explore the possibility of you investing in my venture. I believe that with your expertise and resources, we can take it to the next level. Joining forces could lead to remarkable outcomes.\\n\\nCould we set a time to meet for lunch this week? Your support could make a significant difference in my journey.\\n\\nThank you for considering this opportunity! I’m looking forward to hearing from you soon.\\n\\nBest,  \\n[Your Name]  \\n[Your Contact Information]  \", type='TextMessage'), TextMessage(id='49a54447-a716-4418-950a-5a6c2c344320', source='SynthesizerAgent', models_usage=RequestUsage(prompt_tokens=437, completion_tokens=183), metadata={}, created_at=datetime.datetime(2025, 10, 4, 2, 0, 38, 963625, tzinfo=datetime.timezone.utc), content=\"Subject: Let’s Grab Lunch and Explore a Business Opportunity!\\n\\nHi [Recipient's Name],\\n\\nI hope this message finds you well! I'm reaching out with a two-fold request that I believe could lead to exciting opportunities for both of us.\\n\\nFirst, I could really use a meal today, and it would be fantastic to share lunch together. More importantly, I’m eager to discuss my business ideas with you. Your insights and perspective are invaluable to me.\\n\\nI’m also keen to explore the possibility of your investment in my venture. With your expertise and support, I truly believe we can take it to the next level and achieve remarkable outcomes.\\n\\nCould we set up a time to meet for lunch this week? Your encouragement and guidance could make a significant difference in my journey.\\n\\nThank you for considering this opportunity! I look forward to hearing from you soon.\\n\\nBest,  \\n[Your Name]  \\n[Your Contact Information]  \", type='TextMessage'), TextMessage(id='7c36f91e-0078-4d61-901f-e9b0793cd4de', source='CriticAgent', models_usage=RequestUsage(prompt_tokens=681, completion_tokens=10), metadata={}, created_at=datetime.datetime(2025, 10, 4, 2, 0, 39, 738473, tzinfo=datetime.timezone.utc), content='The email meets professional standards.  \\nTERMINATE', type='TextMessage')], stop_reason=\"Text 'TERMINATE' mentioned\")"
      ]
     },
     "execution_count": 6,
     "metadata": {},
     "output_type": "execute_result"
    }
   ],
   "execution_count": 6
  }
 ],
 "metadata": {
  "kernelspec": {
   "display_name": "Python 3",
   "language": "python",
   "name": "python3"
  },
  "language_info": {
   "codemirror_mode": {
    "name": "ipython",
    "version": 2
   },
   "file_extension": ".py",
   "mimetype": "text/x-python",
   "name": "python",
   "nbconvert_exporter": "python",
   "pygments_lexer": "ipython2",
   "version": "2.7.6"
  }
 },
 "nbformat": 4,
 "nbformat_minor": 5
}
