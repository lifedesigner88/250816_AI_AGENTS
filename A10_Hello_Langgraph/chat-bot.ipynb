{
 "cells": [
  {
   "cell_type": "code",
   "id": "initial_id",
   "metadata": {
    "collapsed": true,
    "ExecuteTime": {
     "end_time": "2025-10-11T04:35:38.469855Z",
     "start_time": "2025-10-11T04:35:37.973171Z"
    }
   },
   "source": [
    "import dotenv\n",
    "dotenv.load_dotenv()\n",
    "\n",
    "from langgraph.graph import StateGraph, START, END\n",
    "from langchain.chat_models import init_chat_model\n",
    "from langgraph.graph.message import MessagesState\n",
    "from langgraph.prebuilt import ToolNode, tools_condition\n",
    "\n",
    "from langgraph.checkpoint.sqlite import SqliteSaver\n",
    "import sqlite3\n",
    "\n",
    "llm = init_chat_model(\"openai:gpt-4o-mini\")\n",
    "\n",
    "conn = sqlite3.connect(\n",
    "    \"chat.db\",\n",
    "    check_same_thread=False,\n",
    ")\n",
    "\n",
    "config = {\n",
    "    \"configurable\": {\n",
    "        \"thread_id\": \"O_X\",\n",
    "    }\n",
    "}\n"
   ],
   "outputs": [],
   "execution_count": 2
  },
  {
   "metadata": {
    "ExecuteTime": {
     "end_time": "2025-10-11T04:04:10.124809Z",
     "start_time": "2025-10-11T04:04:10.121552Z"
    }
   },
   "cell_type": "code",
   "source": [
    "class State(MessagesState):\n",
    "    pass\n",
    "\n",
    "\n",
    "graph_builder = StateGraph(State)\n"
   ],
   "id": "4e2a85064183147",
   "outputs": [],
   "execution_count": 56
  },
  {
   "metadata": {
    "ExecuteTime": {
     "end_time": "2025-10-11T04:04:10.156912Z",
     "start_time": "2025-10-11T04:04:10.137771Z"
    }
   },
   "cell_type": "code",
   "source": [
    "from langchain_core.tools import tool\n",
    "from langgraph.types import interrupt\n",
    "\n",
    "\n",
    "@tool\n",
    "def get_human_feedback(poem: str):\n",
    "    \"\"\"\n",
    "    Ask the user for feedback on the poem.\n",
    "    Use this before returning the final response.\n",
    "    \"\"\"\n",
    "    feedback = interrupt(f\"Here is the poem, tell me what you think \\n {poem}\")\n",
    "    return feedback\n",
    "\n",
    "\n",
    "llm_with_tool = llm.bind_tools(tools=[get_human_feedback])\n",
    "\n",
    "\n",
    "def chatbot(chatbot_state: State):\n",
    "    response = llm_with_tool.invoke(\n",
    "        f\"\"\"\n",
    "\n",
    "        You are an expert in making poems.\n",
    "        Use the `get_human_feedback` tool to get feedback on your poem.\n",
    "\n",
    "        Only after you receive positive feedback you can return the final poem.\n",
    "        Always ask for FeedBACK FIRST.\n",
    "        Here is the confersation history :\n",
    "\n",
    "        {chatbot_state[\"messages\"]}\n",
    "        \"\"\"\n",
    "                                    )\n",
    "    return {\"messages\": [response]}\n",
    "\n",
    "\n"
   ],
   "id": "b09751db1457687f",
   "outputs": [],
   "execution_count": 57
  },
  {
   "metadata": {
    "ExecuteTime": {
     "end_time": "2025-10-11T04:04:10.186148Z",
     "start_time": "2025-10-11T04:04:10.180026Z"
    }
   },
   "cell_type": "code",
   "source": [
    "\n",
    "tool_node = ToolNode(\n",
    "    tools=[get_human_feedback]\n",
    ")\n",
    "\n",
    "graph_builder.add_node(\"chatbot\", chatbot)\n",
    "graph_builder.add_node(\"tools\", tool_node)\n",
    "\n",
    "graph_builder.add_edge(START, \"chatbot\")\n",
    "graph_builder.add_conditional_edges(\"chatbot\", tools_condition)\n",
    "graph_builder.add_edge(\"tools\", \"chatbot\")\n",
    "\n",
    "graph = graph_builder.compile(\n",
    "    checkpointer=SqliteSaver(conn)\n",
    ")\n"
   ],
   "id": "8d16a91b7c01832b",
   "outputs": [],
   "execution_count": 58
  },
  {
   "metadata": {
    "ExecuteTime": {
     "end_time": "2025-10-11T04:04:10.658803Z",
     "start_time": "2025-10-11T04:04:10.191438Z"
    }
   },
   "cell_type": "code",
   "source": "display(graph)\n",
   "id": "7f2a22d6b509d6b",
   "outputs": [
    {
     "data": {
      "text/plain": [
       "<langgraph.graph.state.CompiledStateGraph object at 0x000002819B30D220>"
      ],
      "image/png": "[encoded data removed]"
     },
     "metadata": {},
     "output_type": "display_data",
     "jetTransient": {
      "display_id": null
     }
    }
   ],
   "execution_count": 59
  },
  {
   "metadata": {
    "ExecuteTime": {
     "end_time": "2025-10-11T04:04:17.914386Z",
     "start_time": "2025-10-11T04:04:10.681029Z"
    }
   },
   "cell_type": "code",
   "source": [
    "\n",
    "result1 = graph.invoke(\n",
    "    {\n",
    "        \"messages\": [{\n",
    "            \"role\": \"user\",\n",
    "            \"content\": \"Please make a poem about Python code.\"\n",
    "        }]\n",
    "    },\n",
    "    config=config\n",
    ")\n",
    "\n"
   ],
   "id": "2a27843c5f6410fb",
   "outputs": [
    {
     "data": {
      "text/plain": [
       "{'messages': [HumanMessage(content='Please make a poem about Python code.', additional_kwargs={}, response_metadata={}, id='60821dc7-6c1d-42a5-bf48-d4b7ecc917f7'),\n",
       "  AIMessage(content='', additional_kwargs={'tool_calls': [{'id': 'call_7NbMrumhpfXmWMazIH8wLm5X', 'function': {'arguments': '{\"poem\":\"In the realm of logic, where ideas flow,\\\\nA serpentine syntax begins to glow.\\\\nPython code dances, sleek and bright,\\\\nCrafting solutions with elegant light.\\\\n\\\\nVariables whisper in dynamic cheer,\\\\nLoops spin stories, both far and near.\\\\nFunctions beckon with purpose and grace,\\\\nIn every indentation, a world to embrace.\\\\n\\\\nImporting libraries like treasures untold,\\\\nFrom NumPy to Pandas, their wonders unfold.\\\\nDebugging the journey, with care and with wit,\\\\nEach colon and bracket a puzzle well-fit.\\\\n\\\\nA community thrives, where coders unite,\\\\nSharing their knowledge, igniting the light.\\\\nIn Python we trust, our favorite tool,\\\\nA language so powerful, yet splendidly cool.\"}', 'name': 'get_human_feedback'}, 'type': 'function'}], 'refusal': None}, response_metadata={'token_usage': {'completion_tokens': 175, 'prompt_tokens': 162, 'total_tokens': 337, 'completion_tokens_details': {'accepted_prediction_tokens': 0, 'audio_tokens': 0, 'reasoning_tokens': 0, 'rejected_prediction_tokens': 0}, 'prompt_tokens_details': {'audio_tokens': 0, 'cached_tokens': 0}}, 'model_name': 'gpt-4o-mini-2024-07-18', 'system_fingerprint': 'fp_560af6e559', 'id': 'chatcmpl-CPL7zPhthmrphLDsmkWcnt7W3gkPi', 'service_tier': 'default', 'finish_reason': 'tool_calls', 'logprobs': None}, id='run--e5aa6c5c-38cf-4e53-ab98-61bf6961f651-0', tool_calls=[{'name': 'get_human_feedback', 'args': {'poem': 'In the realm of logic, where ideas flow,\\nA serpentine syntax begins to glow.\\nPython code dances, sleek and bright,\\nCrafting solutions with elegant light.\\n\\nVariables whisper in dynamic cheer,\\nLoops spin stories, both far and near.\\nFunctions beckon with purpose and grace,\\nIn every indentation, a world to embrace.\\n\\nImporting libraries like treasures untold,\\nFrom NumPy to Pandas, their wonders unfold.\\nDebugging the journey, with care and with wit,\\nEach colon and bracket a puzzle well-fit.\\n\\nA community thrives, where coders unite,\\nSharing their knowledge, igniting the light.\\nIn Python we trust, our favorite tool,\\nA language so powerful, yet splendidly cool.'}, 'id': 'call_7NbMrumhpfXmWMazIH8wLm5X', 'type': 'tool_call'}], usage_metadata={'input_tokens': 162, 'output_tokens': 175, 'total_tokens': 337, 'input_token_details': {'audio': 0, 'cache_read': 0}, 'output_token_details': {'audio': 0, 'reasoning': 0}})],\n",
       " '__interrupt__': [Interrupt(value='Here is the poem, tell me what you think \\n In the realm of logic, where ideas flow,\\nA serpentine syntax begins to glow.\\nPython code dances, sleek and bright,\\nCrafting solutions with elegant light.\\n\\nVariables whisper in dynamic cheer,\\nLoops spin stories, both far and near.\\nFunctions beckon with purpose and grace,\\nIn every indentation, a world to embrace.\\n\\nImporting libraries like treasures untold,\\nFrom NumPy to Pandas, their wonders unfold.\\nDebugging the journey, with care and with wit,\\nEach colon and bracket a puzzle well-fit.\\n\\nA community thrives, where coders unite,\\nSharing their knowledge, igniting the light.\\nIn Python we trust, our favorite tool,\\nA language so powerful, yet splendidly cool.', id='e78f86757a06a8d3aa7a99be0d9cd5af')]}"
      ]
     },
     "execution_count": 60,
     "metadata": {},
     "output_type": "execute_result"
    }
   ],
   "execution_count": 60
  },
  {
   "metadata": {
    "ExecuteTime": {
     "end_time": "2025-10-11T04:05:12.009337Z",
     "start_time": "2025-10-11T04:05:06.103283Z"
    }
   },
   "cell_type": "code",
   "source": [
    "from langgraph.types import Command\n",
    "\n",
    "response = Command(resume=\"It looks great!\")\n",
    "\n",
    "result = graph.invoke(\n",
    "    response,\n",
    "    config=config,\n",
    ")\n",
    "for message in result[\"messages\"]:\n",
    "    message.pretty_print()"
   ],
   "id": "2fa17f9be7cebb2d",
   "outputs": [
    {
     "name": "stdout",
     "output_type": "stream",
     "text": [
      "================================\u001B[1m Human Message \u001B[0m=================================\n",
      "\n",
      "Please make a poem about Python code.\n",
      "==================================\u001B[1m Ai Message \u001B[0m==================================\n",
      "Tool Calls:\n",
      "  get_human_feedback (call_7NbMrumhpfXmWMazIH8wLm5X)\n",
      " Call ID: call_7NbMrumhpfXmWMazIH8wLm5X\n",
      "  Args:\n",
      "    poem: In the realm of logic, where ideas flow,\n",
      "A serpentine syntax begins to glow.\n",
      "Python code dances, sleek and bright,\n",
      "Crafting solutions with elegant light.\n",
      "\n",
      "Variables whisper in dynamic cheer,\n",
      "Loops spin stories, both far and near.\n",
      "Functions beckon with purpose and grace,\n",
      "In every indentation, a world to embrace.\n",
      "\n",
      "Importing libraries like treasures untold,\n",
      "From NumPy to Pandas, their wonders unfold.\n",
      "Debugging the journey, with care and with wit,\n",
      "Each colon and bracket a puzzle well-fit.\n",
      "\n",
      "A community thrives, where coders unite,\n",
      "Sharing their knowledge, igniting the light.\n",
      "In Python we trust, our favorite tool,\n",
      "A language so powerful, yet splendidly cool.\n",
      "=================================\u001B[1m Tool Message \u001B[0m=================================\n",
      "Name: get_human_feedback\n",
      "\n",
      "It looks great!\n",
      "==================================\u001B[1m Ai Message \u001B[0m==================================\n",
      "\n",
      "The poem about Python code received great feedback! Here it is for you:\n",
      "\n",
      "---\n",
      "\n",
      "In the realm of logic, where ideas flow,  \n",
      "A serpentine syntax begins to glow.  \n",
      "Python code dances, sleek and bright,  \n",
      "Crafting solutions with elegant light.  \n",
      "\n",
      "Variables whisper in dynamic cheer,  \n",
      "Loops spin stories, both far and near.  \n",
      "Functions beckon with purpose and grace,  \n",
      "In every indentation, a world to embrace.  \n",
      "\n",
      "Importing libraries like treasures untold,  \n",
      "From NumPy to Pandas, their wonders unfold.  \n",
      "Debugging the journey, with care and with wit,  \n",
      "Each colon and bracket a puzzle well-fit.  \n",
      "\n",
      "A community thrives, where coders unite,  \n",
      "Sharing their knowledge, igniting the light.  \n",
      "In Python we trust, our favorite tool,  \n",
      "A language so powerful, yet splendidly cool.  \n",
      "\n",
      "--- \n",
      "\n",
      "I hope you enjoy it!\n"
     ]
    }
   ],
   "execution_count": 63
  },
  {
   "metadata": {
    "ExecuteTime": {
     "end_time": "2025-10-11T04:04:17.983067Z",
     "start_time": "2025-10-11T04:04:17.978934Z"
    }
   },
   "cell_type": "code",
   "source": [
    "\n",
    "\"\"\"\n",
    "\n",
    "for state in graph.get_state_history(\n",
    "    {\n",
    "        \"configurable\": {\n",
    "            \"thread_id\": \"2\",\n",
    "        },\n",
    "    }\n",
    "):\n",
    "    print(state)\n",
    "\n",
    "# Stream 모드는 데이터베이스 연동을 다르게 해야 함.\n",
    "async for event in graph.astream(\n",
    "    {\n",
    "        \"messages\": [\n",
    "            {\n",
    "                \"role\": \"user\",\n",
    "                \"content\": \"what is the weather in berlin, budapest and bratislava.\",\n",
    "            },\n",
    "        ]\n",
    "    },\n",
    "    stream_mode=\"updates\",\n",
    "    # config={\n",
    "    #     \"configurable\": {\n",
    "    #         \"thread_id\": \"2\",\n",
    "    #     },\n",
    "    # },\n",
    "):\n",
    "    print(event)\n",
    "\n",
    "\"\"\""
   ],
   "id": "c5767d41d0fda80c",
   "outputs": [
    {
     "data": {
      "text/plain": [
       "'\\n\\nfor state in graph.get_state_history(\\n    {\\n        \"configurable\": {\\n            \"thread_id\": \"2\",\\n        },\\n    }\\n):\\n    print(state)\\n\\n# Stream 모드는 데이터베이스 연동을 다르게 해야 함.\\nasync for event in graph.astream(\\n    {\\n        \"messages\": [\\n            {\\n                \"role\": \"user\",\\n                \"content\": \"what is the weather in berlin, budapest and bratislava.\",\\n            },\\n        ]\\n    },\\n    stream_mode=\"updates\",\\n    # config={\\n    #     \"configurable\": {\\n    #         \"thread_id\": \"2\",\\n    #     },\\n    # },\\n):\\n    print(event)\\n\\n'"
      ]
     },
     "execution_count": 62,
     "metadata": {},
     "output_type": "execute_result"
    }
   ],
   "execution_count": 62
  }
 ],
 "metadata": {
  "kernelspec": {
   "display_name": "Python 3",
   "language": "python",
   "name": "python3"
  },
  "language_info": {
   "codemirror_mode": {
    "name": "ipython",
    "version": 2
   },
   "file_extension": ".py",
   "mimetype": "text/x-python",
   "name": "python",
   "nbconvert_exporter": "python",
   "pygments_lexer": "ipython2",
   "version": "2.7.6"
  }
 },
 "nbformat": 4,
 "nbformat_minor": 5
}
