{
 "cells": [
  {
   "cell_type": "code",
   "id": "initial_id",
   "metadata": {
    "collapsed": true
   },
   "source": [
    "from langgraph.graph import StateGraph, START, END\n",
    "from typing_extensions import TypedDict"
   ],
   "outputs": [],
   "execution_count": null
  },
  {
   "metadata": {},
   "cell_type": "code",
   "source": [
    "class State(TypedDict):\n",
    "    hello: str\n",
    "    a : bool\n",
    "\n",
    "\n",
    "graph_builder = StateGraph(State)\n"
   ],
   "id": "dc7625eca45b3a42",
   "outputs": [],
   "execution_count": null
  },
  {
   "metadata": {},
   "cell_type": "code",
   "source": [
    "def node_one(state: State):\n",
    "    print(\"node1: \", state)\n",
    "    return {\n",
    "        \"hello\": state[\"hello\"] + \" node1\",\n",
    "        \"a\": not state[\"a\"]\n",
    "    }\n",
    "\n",
    "\n",
    "def node_two(state: State):\n",
    "    print(\"node2: \", state)\n",
    "    return {\n",
    "        \"hello\": state[\"hello\"] + \" node2\"\n",
    "    }\n",
    "\n",
    "def node_three(state: State):\n",
    "    print(\"node3: \", state)\n",
    "    return {\n",
    "        \"hello\": state[\"hello\"] + \" node3\"\n",
    "    }"
   ],
   "id": "a6de522cb9957f60",
   "outputs": [],
   "execution_count": null
  },
  {
   "metadata": {},
   "cell_type": "code",
   "source": [
    "graph_builder.add_node(\"node_one\", node_one)\n",
    "graph_builder.add_node(\"node_two\", node_two)\n",
    "graph_builder.add_node(\"node_three\", node_three)\n",
    "\n",
    "graph_builder.add_edge(START, \"node_one\")\n",
    "graph_builder.add_edge(\"node_one\", \"node_two\")\n",
    "graph_builder.add_edge(\"node_two\", \"node_three\")\n",
    "graph_builder.add_edge(\"node_three\", END)\n"
   ],
   "id": "2e68a87cb0900411",
   "outputs": [],
   "execution_count": null
  },
  {
   "metadata": {
    "ExecuteTime": {
     "end_time": "2025-10-10T02:31:53.955208Z",
     "start_time": "2025-10-10T02:31:53.487019Z"
    }
   },
   "cell_type": "code",
   "source": [
    "graph = graph_builder.compile()\n",
    "display(graph)\n",
    "print(graph.get_graph().draw_ascii())\n",
    "\n",
    "result = graph.invoke({\n",
    "    \"hello\": \"world\",\n",
    "    \"a\": True\n",
    "})\n",
    "\n",
    "print(\"result:\", result)"
   ],
   "id": "a995da8a06de0396",
   "outputs": [
    {
     "data": {
      "text/plain": [
       "<langgraph.graph.state.CompiledStateGraph object at 0x000001F4FA263680>"
      ],
      "image/png": "[encoded data removed]"
     },
     "metadata": {},
     "output_type": "display_data",
     "jetTransient": {
      "display_id": null
     }
    },
    {
     "name": "stdout",
     "output_type": "stream",
     "text": [
      "+-----------+  \r\n",
      "| __start__ |  \r\n",
      "+-----------+  \r\n",
      "       *       \r\n",
      "       *       \r\n",
      "       *       \r\n",
      " +----------+  \r\n",
      " | node_one |  \r\n",
      " +----------+  \r\n",
      "       *       \r\n",
      "       *       \r\n",
      "       *       \r\n",
      " +----------+  \r\n",
      " | node_two |  \r\n",
      " +----------+  \r\n",
      "       *       \r\n",
      "       *       \r\n",
      "       *       \r\n",
      "+------------+ \r\n",
      "| node_three | \r\n",
      "+------------+ \r\n",
      "       *       \r\n",
      "       *       \r\n",
      "       *       \r\n",
      "  +---------+  \r\n",
      "  | __end__ |  \r\n",
      "  +---------+  \n",
      "node1:  {'hello': 'world', 'a': True}\n",
      "node2:  {'hello': 'world node1', 'a': False}\n",
      "node3:  {'hello': 'world node1 node2', 'a': False}\n",
      "result: {'hello': 'world node1 node2 node3', 'a': False}\n"
     ]
    }
   ],
   "execution_count": 144
  }
 ],
 "metadata": {
  "kernelspec": {
   "display_name": "Python 3",
   "language": "python",
   "name": "python3"
  },
  "language_info": {
   "codemirror_mode": {
    "name": "ipython",
    "version": 2
   },
   "file_extension": ".py",
   "mimetype": "text/x-python",
   "name": "python",
   "nbconvert_exporter": "python",
   "pygments_lexer": "ipython2",
   "version": "2.7.6"
  }
 },
 "nbformat": 4,
 "nbformat_minor": 5
}
