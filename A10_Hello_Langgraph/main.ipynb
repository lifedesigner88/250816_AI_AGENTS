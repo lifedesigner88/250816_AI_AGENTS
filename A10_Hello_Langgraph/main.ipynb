{
 "cells": [
  {
   "cell_type": "code",
   "id": "initial_id",
   "metadata": {
    "collapsed": true,
    "ExecuteTime": {
     "end_time": "2025-10-10T05:21:38.333782Z",
     "start_time": "2025-10-10T05:21:38.330161Z"
    }
   },
   "source": [
    "from langgraph.graph import StateGraph, START, END\n",
    "from pygments.lexer import words\n",
    "from typing_extensions import TypedDict\n",
    "from langgraph.types import CachePolicy\n",
    "from langgraph.cache.memory import InMemoryCache\n",
    "from datetime import datetime\n",
    "from typing import Annotated\n",
    "from langgraph.types import Send, Command"
   ],
   "outputs": [],
   "execution_count": 341
  },
  {
   "metadata": {
    "ExecuteTime": {
     "end_time": "2025-10-10T05:21:38.353552Z",
     "start_time": "2025-10-10T05:21:38.349251Z"
    }
   },
   "cell_type": "code",
   "source": [
    "import operator\n",
    "\n",
    "\n",
    "def update_function(old, new):\n",
    "    return old + new\n",
    "\n",
    "\n",
    "class InputState(TypedDict):\n",
    "    hello: Annotated[list[str], update_function]\n",
    "\n",
    "\n",
    "class State(TypedDict):\n",
    "    words: list[str]\n",
    "    output: Annotated[list[dict[str, int]], operator.add]\n",
    "    transfer_reason: str\n",
    "    support : str\n",
    "\n",
    "\n",
    "graph_builder = StateGraph(State)\n"
   ],
   "id": "dc7625eca45b3a42",
   "outputs": [],
   "execution_count": 342
  },
  {
   "metadata": {
    "ExecuteTime": {
     "end_time": "2025-10-10T05:21:38.362455Z",
     "start_time": "2025-10-10T05:21:38.357857Z"
    }
   },
   "cell_type": "code",
   "source": [
    "def node_one(state: State) -> State:\n",
    "    return state\n",
    "\n",
    "\n",
    "def node_two(word: str) -> State:\n",
    "    return {\n",
    "        \"output\": [\n",
    "            {\n",
    "                \"word\": word,\n",
    "                \"output\": len(word)\n",
    "            }\n",
    "        ],\n",
    "        \"node_two_name\": word\n",
    "    }\n",
    "\n",
    "def tech_support(state: State):\n",
    "    print(\"Tech Support\")\n",
    "    return {\n",
    "        \"support\": \"Tech support\",\n",
    "    }\n",
    "\n",
    "def account_support(state: State):\n",
    "    print(\"Account Support\")\n",
    "    return {\n",
    "        \"support\": \"account_support\",\n",
    "    }\n",
    "from typing import Literal\n",
    "\n",
    "def triage_node(state: State) -> Command[Literal[\"tech_support\", \"account_support\"]]:\n",
    "    length_hint = len(state[\"output\"])\n",
    "    print(length_hint)\n",
    "    return Command(\n",
    "        goto=\"tech_support\" if length_hint <= 3 else \"account_support\",\n",
    "        update={\n",
    "            \"transfer_reason\": \"is need support\",\n",
    "        }\n",
    "    )\n"
   ],
   "id": "a6de522cb9957f60",
   "outputs": [],
   "execution_count": 343
  },
  {
   "metadata": {
    "ExecuteTime": {
     "end_time": "2025-10-10T05:21:38.374514Z",
     "start_time": "2025-10-10T05:21:38.368192Z"
    }
   },
   "cell_type": "code",
   "source": [
    "\n",
    "graph_builder.add_node(\"node_one\", node_one)\n",
    "graph_builder.add_node(\"node_two\", node_two)\n",
    "graph_builder.add_node(\"triage_node\", triage_node)\n",
    "graph_builder.add_node(\"tech_support\", tech_support)\n",
    "graph_builder.add_node(\"account_support\", account_support)\n",
    "\n",
    "\n",
    "graph_builder.add_edge(START, \"node_one\")\n",
    "def dispatcher(state: State):\n",
    "    return [Send(\"node_two\", word) for word in state[\"words\"]]\n",
    "graph_builder.add_conditional_edges(\"node_one\", dispatcher, [\"node_two\"])\n",
    "graph_builder.add_edge(\"node_two\", \"triage_node\")\n",
    "graph_builder.add_edge(\"tech_support\", END)\n",
    "graph_builder.add_edge(\"account_support\", END)\n",
    "\n"
   ],
   "id": "2e68a87cb0900411",
   "outputs": [
    {
     "data": {
      "text/plain": [
       "<langgraph.graph.state.StateGraph at 0x1f4fb583540>"
      ]
     },
     "execution_count": 344,
     "metadata": {},
     "output_type": "execute_result"
    }
   ],
   "execution_count": 344
  },
  {
   "metadata": {
    "ExecuteTime": {
     "end_time": "2025-10-10T05:21:39.536587Z",
     "start_time": "2025-10-10T05:21:38.410164Z"
    }
   },
   "cell_type": "code",
   "source": [
    "graph = graph_builder.compile(cache=InMemoryCache())\n",
    "display(graph)\n",
    "# print(graph.get_graph().draw_ascii())\n",
    "\n",
    "\n",
    "import time\n",
    "\n",
    "result = graph.invoke({\n",
    "    \"words\": [\"hello\", \"world\", \"how\", \"are\", \"you\", \"doing\"],\n",
    "})\n",
    "print(\"result:\", result)"
   ],
   "id": "a995da8a06de0396",
   "outputs": [
    {
     "data": {
      "text/plain": [
       "<langgraph.graph.state.CompiledStateGraph object at 0x000001F4FB3F4F30>"
      ],
      "image/png": "[encoded data removed]"
     },
     "metadata": {},
     "output_type": "display_data",
     "jetTransient": {
      "display_id": null
     }
    },
    {
     "name": "stdout",
     "output_type": "stream",
     "text": [
      "6\n",
      "Account Support\n",
      "result: {'words': ['hello', 'world', 'how', 'are', 'you', 'doing'], 'output': [{'word': 'hello', 'output': 5}, {'word': 'world', 'output': 5}, {'word': 'how', 'output': 3}, {'word': 'are', 'output': 3}, {'word': 'you', 'output': 3}, {'word': 'doing', 'output': 5}], 'transfer_reason': 'is need support', 'support': 'account_support'}\n"
     ]
    }
   ],
   "execution_count": 345
  }
 ],
 "metadata": {
  "kernelspec": {
   "display_name": "Python 3",
   "language": "python",
   "name": "python3"
  },
  "language_info": {
   "codemirror_mode": {
    "name": "ipython",
    "version": 2
   },
   "file_extension": ".py",
   "mimetype": "text/x-python",
   "name": "python",
   "nbconvert_exporter": "python",
   "pygments_lexer": "ipython2",
   "version": "2.7.6"
  }
 },
 "nbformat": 4,
 "nbformat_minor": 5
}
