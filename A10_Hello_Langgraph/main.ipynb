{
 "cells": [
  {
   "cell_type": "code",
   "id": "initial_id",
   "metadata": {
    "collapsed": true,
    "ExecuteTime": {
     "end_time": "2025-10-10T04:42:47.003906Z",
     "start_time": "2025-10-10T04:42:46.999967Z"
    }
   },
   "source": [
    "from langgraph.graph import StateGraph, START, END\n",
    "from pygments.lexer import words\n",
    "from typing_extensions import TypedDict\n",
    "from langgraph.types import CachePolicy\n",
    "from langgraph.cache.memory import InMemoryCache\n",
    "from datetime import datetime\n",
    "from typing import Annotated\n",
    "from langgraph.types import Send"
   ],
   "outputs": [],
   "execution_count": 291
  },
  {
   "metadata": {
    "ExecuteTime": {
     "end_time": "2025-10-10T04:42:47.015559Z",
     "start_time": "2025-10-10T04:42:47.008819Z"
    }
   },
   "cell_type": "code",
   "source": [
    "import operator\n",
    "\n",
    "\n",
    "def update_function(old, new):\n",
    "    return old + new\n",
    "\n",
    "\n",
    "class InputState(TypedDict):\n",
    "    hello: Annotated[list[str], update_function]\n",
    "\n",
    "class State(TypedDict):\n",
    "    words : list[str]\n",
    "    output: Annotated[list[dict[str, int]], operator.add]\n",
    "\n",
    "graph_builder = StateGraph(State)\n"
   ],
   "id": "dc7625eca45b3a42",
   "outputs": [],
   "execution_count": 292
  },
  {
   "metadata": {
    "ExecuteTime": {
     "end_time": "2025-10-10T04:42:47.024751Z",
     "start_time": "2025-10-10T04:42:47.020813Z"
    }
   },
   "cell_type": "code",
   "source": [
    "def node_one(state: State) -> State:\n",
    "    return state\n",
    "\n",
    "\n",
    "def node_two(word : str) -> State:\n",
    "    return {\n",
    "        \"output\" : [\n",
    "            {\n",
    "                \"word\" : word,\n",
    "                \"output\" : len(word)\n",
    "            }\n",
    "        ]\n",
    "    }\n"
   ],
   "id": "a6de522cb9957f60",
   "outputs": [],
   "execution_count": 293
  },
  {
   "metadata": {
    "ExecuteTime": {
     "end_time": "2025-10-10T04:42:47.036768Z",
     "start_time": "2025-10-10T04:42:47.031407Z"
    }
   },
   "cell_type": "code",
   "source": [
    "graph_builder.add_node(\"node_one\", node_one)\n",
    "graph_builder.add_node(\"node_two\", node_two)\n",
    "\n",
    "def dispatcher(state: State):\n",
    "    return [Send(\"node_two\", word) for word in state[\"words\"]]\n",
    "\n",
    "graph_builder.add_edge(START, \"node_one\")\n",
    "graph_builder.add_conditional_edges(\"node_one\", dispatcher, [\"node_two\"])\n",
    "graph_builder.add_edge(\"node_two\", END)\n"
   ],
   "id": "2e68a87cb0900411",
   "outputs": [
    {
     "data": {
      "text/plain": [
       "<langgraph.graph.state.StateGraph at 0x1f4fb402fc0>"
      ]
     },
     "execution_count": 294,
     "metadata": {},
     "output_type": "execute_result"
    }
   ],
   "execution_count": 294
  },
  {
   "metadata": {
    "ExecuteTime": {
     "end_time": "2025-10-10T04:42:47.417352Z",
     "start_time": "2025-10-10T04:42:47.068931Z"
    }
   },
   "cell_type": "code",
   "source": [
    "graph = graph_builder.compile(cache=InMemoryCache())\n",
    "display(graph)\n",
    "# print(graph.get_graph().draw_ascii())\n",
    "\n",
    "\n",
    "import time\n",
    "\n",
    "result = graph.invoke({\n",
    "    \"words\": [\"hello\", \"world\", \"how\", \"are\", \"you\", \"doing\"],\n",
    "})\n",
    "print(\"result:\", result)"
   ],
   "id": "a995da8a06de0396",
   "outputs": [
    {
     "data": {
      "text/plain": [
       "<langgraph.graph.state.CompiledStateGraph object at 0x000001F4FA96BF00>"
      ],
      "image/png": "[encoded data removed]"
     },
     "metadata": {},
     "output_type": "display_data",
     "jetTransient": {
      "display_id": null
     }
    },
    {
     "name": "stdout",
     "output_type": "stream",
     "text": [
      "result: {'words': ['hello', 'world', 'how', 'are', 'you', 'doing'], 'output': [{'word': 'hello', 'output': 5}, {'word': 'world', 'output': 5}, {'word': 'how', 'output': 3}, {'word': 'are', 'output': 3}, {'word': 'you', 'output': 3}, {'word': 'doing', 'output': 5}]}\n"
     ]
    }
   ],
   "execution_count": 295
  }
 ],
 "metadata": {
  "kernelspec": {
   "display_name": "Python 3",
   "language": "python",
   "name": "python3"
  },
  "language_info": {
   "codemirror_mode": {
    "name": "ipython",
    "version": 2
   },
   "file_extension": ".py",
   "mimetype": "text/x-python",
   "name": "python",
   "nbconvert_exporter": "python",
   "pygments_lexer": "ipython2",
   "version": "2.7.6"
  }
 },
 "nbformat": 4,
 "nbformat_minor": 5
}
