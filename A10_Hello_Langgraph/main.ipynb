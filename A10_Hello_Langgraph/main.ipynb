{
 "cells": [
  {
   "cell_type": "code",
   "id": "initial_id",
   "metadata": {
    "collapsed": true,
    "ExecuteTime": {
     "end_time": "2025-10-10T04:12:22.184764Z",
     "start_time": "2025-10-10T04:12:22.181483Z"
    }
   },
   "source": [
    "from langgraph.graph import StateGraph, START, END\n",
    "from typing_extensions import TypedDict\n",
    "from langgraph.types import CachePolicy\n",
    "from langgraph.cache.memory import InMemoryCache\n",
    "from datetime import datetime\n",
    "from typing import Annotated"
   ],
   "outputs": [],
   "execution_count": 275
  },
  {
   "metadata": {
    "ExecuteTime": {
     "end_time": "2025-10-10T04:12:22.208017Z",
     "start_time": "2025-10-10T04:12:22.202770Z"
    }
   },
   "cell_type": "code",
   "source": [
    "def update_function(old, new):\n",
    "    return old + new\n",
    "\n",
    "\n",
    "class InputState(TypedDict):\n",
    "    hello: Annotated[list[str], update_function]\n",
    "\n",
    "class State(TypedDict):\n",
    "    seed: int\n",
    "\n",
    "graph_builder = StateGraph(State)\n"
   ],
   "id": "dc7625eca45b3a42",
   "outputs": [],
   "execution_count": 276
  },
  {
   "metadata": {
    "ExecuteTime": {
     "end_time": "2025-10-10T04:12:22.217846Z",
     "start_time": "2025-10-10T04:12:22.214083Z"
    }
   },
   "cell_type": "code",
   "source": [
    "def node_one(state: State) -> State:\n",
    "    print(\"node1: \", state)\n",
    "    return state\n",
    "\n",
    "\n",
    "def node_two(state: State) -> State:\n",
    "    print(\"node2: \", state)\n",
    "    return state\n",
    "\n",
    "\n",
    "\n",
    "def node_three(state: State) -> State:\n",
    "    print(\"node3: \", state)\n",
    "    return state\n",
    "\n",
    "\n",
    "\n",
    "def node_four(state: State) -> State:\n",
    "    print(\"node4: \", state)\n",
    "    return state"
   ],
   "id": "a6de522cb9957f60",
   "outputs": [],
   "execution_count": 277
  },
  {
   "metadata": {
    "ExecuteTime": {
     "end_time": "2025-10-10T04:12:22.247368Z",
     "start_time": "2025-10-10T04:12:22.240633Z"
    }
   },
   "cell_type": "code",
   "source": [
    "graph_builder.add_node(\"node_one\", node_one)\n",
    "graph_builder.add_node(\"node_two\", node_two)\n",
    "graph_builder.add_node(\"node_three\", node_three)\n",
    "graph_builder.add_node(\"node_four\", node_four)\n",
    "\n",
    "def decide_path(state: State) -> bool:\n",
    "    return state[\"seed\"] % 2 == 0\n",
    "\n",
    "graph_builder.add_edge(START, \"node_one\")\n",
    "graph_builder.add_conditional_edges(\"node_one\", decide_path, {\n",
    "    True : \"node_two\",\n",
    "    False: \"node_four\"\n",
    "})\n",
    "graph_builder.add_edge(\"node_two\", \"node_three\")\n",
    "graph_builder.add_edge(\"node_three\", \"node_four\")\n",
    "graph_builder.add_edge(\"node_four\", END)\n"
   ],
   "id": "2e68a87cb0900411",
   "outputs": [
    {
     "data": {
      "text/plain": [
       "<langgraph.graph.state.StateGraph at 0x1f4fb44dd30>"
      ]
     },
     "execution_count": 278,
     "metadata": {},
     "output_type": "execute_result"
    }
   ],
   "execution_count": 278
  },
  {
   "metadata": {
    "ExecuteTime": {
     "end_time": "2025-10-10T04:12:22.621446Z",
     "start_time": "2025-10-10T04:12:22.259665Z"
    }
   },
   "cell_type": "code",
   "source": [
    "graph = graph_builder.compile(cache=InMemoryCache())\n",
    "display(graph)\n",
    "# print(graph.get_graph().draw_ascii())\n",
    "\n",
    "\n",
    "\n",
    "import time\n",
    "\n",
    "result = graph.invoke({\n",
    "    \"seed\": 2,\n",
    "})\n",
    "print(\"result:\", result)"
   ],
   "id": "a995da8a06de0396",
   "outputs": [
    {
     "data": {
      "text/plain": [
       "<langgraph.graph.state.CompiledStateGraph object at 0x000001F4FA96B8A0>"
      ],
      "image/png": "[encoded data removed]"
     },
     "metadata": {},
     "output_type": "display_data",
     "jetTransient": {
      "display_id": null
     }
    },
    {
     "name": "stdout",
     "output_type": "stream",
     "text": [
      "node1:  {'seed': 2}\n",
      "node2:  {'seed': 2}\n",
      "node3:  {'seed': 2}\n",
      "node4:  {'seed': 2}\n",
      "result: {'seed': 2}\n"
     ]
    }
   ],
   "execution_count": 279
  }
 ],
 "metadata": {
  "kernelspec": {
   "display_name": "Python 3",
   "language": "python",
   "name": "python3"
  },
  "language_info": {
   "codemirror_mode": {
    "name": "ipython",
    "version": 2
   },
   "file_extension": ".py",
   "mimetype": "text/x-python",
   "name": "python",
   "nbconvert_exporter": "python",
   "pygments_lexer": "ipython2",
   "version": "2.7.6"
  }
 },
 "nbformat": 4,
 "nbformat_minor": 5
}
