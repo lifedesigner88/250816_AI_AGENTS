{
 "cells": [
  {
   "cell_type": "code",
   "id": "initial_id",
   "metadata": {
    "collapsed": true,
    "ExecuteTime": {
     "end_time": "2025-10-10T03:13:14.563054Z",
     "start_time": "2025-10-10T03:13:14.559620Z"
    }
   },
   "source": [
    "from langgraph.graph import StateGraph, START, END\n",
    "from typing_extensions import TypedDict"
   ],
   "outputs": [],
   "execution_count": 200
  },
  {
   "metadata": {
    "ExecuteTime": {
     "end_time": "2025-10-10T03:13:14.586737Z",
     "start_time": "2025-10-10T03:13:14.582276Z"
    }
   },
   "cell_type": "code",
   "source": [
    "class PrivateState(TypedDict):\n",
    "    a: int\n",
    "    b: int\n",
    "\n",
    "\n",
    "class InputState(TypedDict):\n",
    "    hello: str\n",
    "\n",
    "\n",
    "class OutputState(TypedDict):\n",
    "    bye: str\n",
    "\n",
    "\n",
    "graph_builder = StateGraph(\n",
    "    PrivateState,\n",
    "    input_schema=InputState,\n",
    "    output_schema=OutputState,\n",
    ")\n"
   ],
   "id": "dc7625eca45b3a42",
   "outputs": [],
   "execution_count": 201
  },
  {
   "metadata": {
    "ExecuteTime": {
     "end_time": "2025-10-10T03:13:14.599220Z",
     "start_time": "2025-10-10T03:13:14.595215Z"
    }
   },
   "cell_type": "code",
   "source": [
    "def node_one(state: InputState) -> InputState:\n",
    "    print(\"node1: \", state)\n",
    "    return {\n",
    "        \"hello\": state[\"hello\"] + \" node1\",\n",
    "    }\n",
    "\n",
    "\n",
    "def node_two(state: PrivateState) -> PrivateState:\n",
    "    print(\"node2: \", state)\n",
    "    return {\n",
    "        \"a\" : 1\n",
    "    }\n",
    "\n",
    "\n",
    "def node_three(state: PrivateState) -> PrivateState:\n",
    "    print(\"node3: \", state)\n",
    "    return {\n",
    "        \"b\" : 2\n",
    "    }\n",
    "\n",
    "def node_four(state: OutputState) -> OutputState:\n",
    "    print(\"node4: \", state)\n",
    "    return {\n",
    "        \"bye\": \"state\",\n",
    "    }"
   ],
   "id": "a6de522cb9957f60",
   "outputs": [],
   "execution_count": 202
  },
  {
   "metadata": {
    "ExecuteTime": {
     "end_time": "2025-10-10T03:13:14.629742Z",
     "start_time": "2025-10-10T03:13:14.624438Z"
    }
   },
   "cell_type": "code",
   "source": [
    "graph_builder.add_node(\"node_one\", node_one)\n",
    "graph_builder.add_node(\"node_two\", node_two)\n",
    "graph_builder.add_node(\"node_three\", node_three)\n",
    "graph_builder.add_node(\"node_four\", node_four)\n",
    "\n",
    "graph_builder.add_edge(START, \"node_one\")\n",
    "graph_builder.add_edge(\"node_one\", \"node_two\")\n",
    "graph_builder.add_edge(\"node_two\", \"node_three\")\n",
    "graph_builder.add_edge(\"node_three\",\"node_four\")\n",
    "graph_builder.add_edge(\"node_four\", END)\n"
   ],
   "id": "2e68a87cb0900411",
   "outputs": [
    {
     "data": {
      "text/plain": [
       "<langgraph.graph.state.StateGraph at 0x1f4fab9a410>"
      ]
     },
     "execution_count": 203,
     "metadata": {},
     "output_type": "execute_result"
    }
   ],
   "execution_count": 203
  },
  {
   "metadata": {
    "ExecuteTime": {
     "end_time": "2025-10-10T03:13:14.666334Z",
     "start_time": "2025-10-10T03:13:14.660202Z"
    }
   },
   "cell_type": "code",
   "source": [
    "graph = graph_builder.compile()\n",
    "# display(graph)\n",
    "# print(graph.get_graph().draw_ascii())\n",
    "\n",
    "result = graph.invoke({\n",
    "    \"hello\": \"world\",\n",
    "})\n",
    "\n",
    "print(\"result:\", result)"
   ],
   "id": "a995da8a06de0396",
   "outputs": [
    {
     "name": "stdout",
     "output_type": "stream",
     "text": [
      "node1:  {'hello': 'world'}\n",
      "node2:  {}\n",
      "node3:  {'a': 1}\n",
      "node4:  {}\n",
      "result: {'bye': 'state'}\n"
     ]
    }
   ],
   "execution_count": 204
  }
 ],
 "metadata": {
  "kernelspec": {
   "display_name": "Python 3",
   "language": "python",
   "name": "python3"
  },
  "language_info": {
   "codemirror_mode": {
    "name": "ipython",
    "version": 2
   },
   "file_extension": ".py",
   "mimetype": "text/x-python",
   "name": "python",
   "nbconvert_exporter": "python",
   "pygments_lexer": "ipython2",
   "version": "2.7.6"
  }
 },
 "nbformat": 4,
 "nbformat_minor": 5
}
