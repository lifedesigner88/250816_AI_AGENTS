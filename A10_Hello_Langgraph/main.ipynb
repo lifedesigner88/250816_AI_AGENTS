{
 "cells": [
  {
   "cell_type": "code",
   "id": "initial_id",
   "metadata": {
    "collapsed": true,
    "ExecuteTime": {
     "end_time": "2025-10-10T03:39:47.234188Z",
     "start_time": "2025-10-10T03:39:47.231152Z"
    }
   },
   "source": [
    "from langgraph.graph import StateGraph, START, END\n",
    "from typing_extensions import TypedDict\n",
    "from typing import Annotated"
   ],
   "outputs": [],
   "execution_count": 235
  },
  {
   "metadata": {
    "ExecuteTime": {
     "end_time": "2025-10-10T03:39:47.255862Z",
     "start_time": "2025-10-10T03:39:47.252054Z"
    }
   },
   "cell_type": "code",
   "source": [
    "class PrivateState(TypedDict):\n",
    "    a: int\n",
    "    b: int\n",
    "\n",
    "\n",
    "def update_function(old, new):\n",
    "    return old + new\n",
    "\n",
    "\n",
    "class InputState(TypedDict):\n",
    "    hello: Annotated[list[str], update_function]\n",
    "\n",
    "\n",
    "class OutputState(TypedDict):\n",
    "    bye: Annotated[list[str], update_function]\n",
    "\n",
    "\n",
    "graph_builder = StateGraph(InputState)\n"
   ],
   "id": "dc7625eca45b3a42",
   "outputs": [],
   "execution_count": 236
  },
  {
   "metadata": {
    "ExecuteTime": {
     "end_time": "2025-10-10T03:39:47.263635Z",
     "start_time": "2025-10-10T03:39:47.260318Z"
    }
   },
   "cell_type": "code",
   "source": [
    "def node_one(state: InputState) -> InputState:\n",
    "    print(\"node1: \", state)\n",
    "    return {\n",
    "        \"hello\": [\"node1\"],\n",
    "    }\n",
    "\n",
    "\n",
    "def node_two(state: InputState) -> InputState:\n",
    "    print(\"node2: \", state)\n",
    "    return {\n",
    "        \"hello\": [\"node2\"],\n",
    "    }\n",
    "\n",
    "\n",
    "def node_three(state: InputState) -> InputState:\n",
    "    print(\"node3: \", state)\n",
    "    return {\n",
    "        \"hello\": [\"node3\"],\n",
    "    }\n",
    "\n",
    "\n",
    "def node_four(state: InputState) -> InputState:\n",
    "    print(\"node4: \", state)\n",
    "    return {\n",
    "        \"hello\": [\"node4\"],\n",
    "    }"
   ],
   "id": "a6de522cb9957f60",
   "outputs": [],
   "execution_count": 237
  },
  {
   "metadata": {
    "ExecuteTime": {
     "end_time": "2025-10-10T03:39:47.274055Z",
     "start_time": "2025-10-10T03:39:47.269617Z"
    }
   },
   "cell_type": "code",
   "source": [
    "graph_builder.add_node(\"node_one\", node_one)\n",
    "graph_builder.add_node(\"node_two\", node_two)\n",
    "graph_builder.add_node(\"node_three\", node_three)\n",
    "graph_builder.add_node(\"node_four\", node_four)\n",
    "\n",
    "graph_builder.add_edge(START, \"node_one\")\n",
    "graph_builder.add_edge(\"node_one\", \"node_two\")\n",
    "graph_builder.add_edge(\"node_two\", \"node_three\")\n",
    "graph_builder.add_edge(\"node_three\", \"node_four\")\n",
    "graph_builder.add_edge(\"node_four\", END)\n"
   ],
   "id": "2e68a87cb0900411",
   "outputs": [
    {
     "data": {
      "text/plain": [
       "<langgraph.graph.state.StateGraph at 0x1f4fb147540>"
      ]
     },
     "execution_count": 238,
     "metadata": {},
     "output_type": "execute_result"
    }
   ],
   "execution_count": 238
  },
  {
   "metadata": {
    "ExecuteTime": {
     "end_time": "2025-10-10T03:39:47.331504Z",
     "start_time": "2025-10-10T03:39:47.325884Z"
    }
   },
   "cell_type": "code",
   "source": [
    "graph = graph_builder.compile()\n",
    "# display(graph)\n",
    "# print(graph.get_graph().draw_ascii())\n",
    "\n",
    "result = graph.invoke({\n",
    "    \"hello\": [\"world\"],\n",
    "})\n",
    "\n",
    "print(\"result:\", result)"
   ],
   "id": "a995da8a06de0396",
   "outputs": [
    {
     "name": "stdout",
     "output_type": "stream",
     "text": [
      "node1:  {'hello': ['world']}\n",
      "node2:  {'hello': ['world', 'node1']}\n",
      "node3:  {'hello': ['world', 'node1', 'node2']}\n",
      "node4:  {'hello': ['world', 'node1', 'node2', 'node3']}\n",
      "result: {'hello': ['world', 'node1', 'node2', 'node3', 'node4']}\n"
     ]
    }
   ],
   "execution_count": 239
  }
 ],
 "metadata": {
  "kernelspec": {
   "display_name": "Python 3",
   "language": "python",
   "name": "python3"
  },
  "language_info": {
   "codemirror_mode": {
    "name": "ipython",
    "version": 2
   },
   "file_extension": ".py",
   "mimetype": "text/x-python",
   "name": "python",
   "nbconvert_exporter": "python",
   "pygments_lexer": "ipython2",
   "version": "2.7.6"
  }
 },
 "nbformat": 4,
 "nbformat_minor": 5
}
