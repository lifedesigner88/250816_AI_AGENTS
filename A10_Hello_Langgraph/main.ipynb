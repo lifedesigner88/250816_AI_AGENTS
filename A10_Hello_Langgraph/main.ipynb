{
 "cells": [
  {
   "cell_type": "code",
   "id": "initial_id",
   "metadata": {
    "collapsed": true,
    "ExecuteTime": {
     "end_time": "2025-10-10T03:49:28.091359Z",
     "start_time": "2025-10-10T03:49:28.087536Z"
    }
   },
   "source": [
    "from langgraph.graph import StateGraph, START, END\n",
    "from typing_extensions import TypedDict\n",
    "from langgraph.types import CachePolicy\n",
    "from langgraph.cache.memory import InMemoryCache\n",
    "from datetime import datetime\n",
    "from typing import Annotated"
   ],
   "outputs": [],
   "execution_count": 245
  },
  {
   "metadata": {
    "ExecuteTime": {
     "end_time": "2025-10-10T03:49:28.117962Z",
     "start_time": "2025-10-10T03:49:28.114209Z"
    }
   },
   "cell_type": "code",
   "source": [
    "class PrivateState(TypedDict):\n",
    "    a: int\n",
    "    b: int\n",
    "\n",
    "\n",
    "def update_function(old, new):\n",
    "    return old + new\n",
    "\n",
    "\n",
    "class InputState(TypedDict):\n",
    "    hello: Annotated[list[str], update_function]\n",
    "\n",
    "\n",
    "class OutputState(TypedDict):\n",
    "    bye: Annotated[list[str], update_function]\n",
    "\n",
    "\n",
    "graph_builder = StateGraph(InputState)\n"
   ],
   "id": "dc7625eca45b3a42",
   "outputs": [],
   "execution_count": 246
  },
  {
   "metadata": {
    "ExecuteTime": {
     "end_time": "2025-10-10T03:49:28.126392Z",
     "start_time": "2025-10-10T03:49:28.123062Z"
    }
   },
   "cell_type": "code",
   "source": [
    "def node_one(state: InputState) -> InputState:\n",
    "    print(\"node1: \", state)\n",
    "    return {\n",
    "        \"hello\": [\"node1\"],\n",
    "    }\n",
    "\n",
    "\n",
    "def node_two(state: InputState) -> InputState:\n",
    "    print(\"node2: \", state)\n",
    "    return {\n",
    "        \"hello\": [f\"{datetime.now()}\"],\n",
    "    }\n",
    "\n",
    "\n",
    "def node_three(state: InputState) -> InputState:\n",
    "    print(\"node3: \", state)\n",
    "    return {\n",
    "        \"hello\": [\"node3\"],\n",
    "    }\n",
    "\n",
    "\n",
    "def node_four(state: InputState) -> InputState:\n",
    "    print(\"node4: \", state)\n",
    "    return {\n",
    "        \"hello\": [\"node4\"],\n",
    "    }"
   ],
   "id": "a6de522cb9957f60",
   "outputs": [],
   "execution_count": 247
  },
  {
   "metadata": {
    "ExecuteTime": {
     "end_time": "2025-10-10T03:49:28.140335Z",
     "start_time": "2025-10-10T03:49:28.134682Z"
    }
   },
   "cell_type": "code",
   "source": [
    "graph_builder.add_node(\"node_one\", node_one)\n",
    "graph_builder.add_node(\n",
    "    \"node_two\",\n",
    "    node_two,\n",
    "    cache_policy=CachePolicy(ttl=20)\n",
    ")\n",
    "graph_builder.add_node(\"node_three\", node_three)\n",
    "graph_builder.add_node(\"node_four\", node_four)\n",
    "\n",
    "graph_builder.add_edge(START, \"node_one\")\n",
    "graph_builder.add_edge(\"node_one\", \"node_two\")\n",
    "graph_builder.add_edge(\"node_two\", \"node_three\")\n",
    "graph_builder.add_edge(\"node_three\", \"node_four\")\n",
    "graph_builder.add_edge(\"node_four\", END)\n"
   ],
   "id": "2e68a87cb0900411",
   "outputs": [
    {
     "data": {
      "text/plain": [
       "<langgraph.graph.state.StateGraph at 0x1f4fb147b70>"
      ]
     },
     "execution_count": 248,
     "metadata": {},
     "output_type": "execute_result"
    }
   ],
   "execution_count": 248
  },
  {
   "metadata": {
    "ExecuteTime": {
     "end_time": "2025-10-10T03:50:03.226101Z",
     "start_time": "2025-10-10T03:49:28.195628Z"
    }
   },
   "cell_type": "code",
   "source": [
    "graph = graph_builder.compile(cache=InMemoryCache())\n",
    "# display(graph)\n",
    "# print(graph.get_graph().draw_ascii())\n",
    "\n",
    "\n",
    "\n",
    "import time\n",
    "\n",
    "result = graph.invoke({\n",
    "    \"hello\": [\"world\"],\n",
    "})\n",
    "time.sleep(5)\n",
    "result = graph.invoke({\n",
    "    \"hello\": [\"world\"],\n",
    "})\n",
    "time.sleep(5)\n",
    "result = graph.invoke({\n",
    "    \"hello\": [\"world\"],\n",
    "})\n",
    "time.sleep(5)\n",
    "result = graph.invoke({\n",
    "    \"hello\": [\"world\"],\n",
    "})\n",
    "time.sleep(5)\n",
    "result = graph.invoke({\n",
    "    \"hello\": [\"world\"],\n",
    "})\n",
    "time.sleep(5)\n",
    "result = graph.invoke({\n",
    "    \"hello\": [\"world\"],\n",
    "})\n",
    "time.sleep(5)\n",
    "result = graph.invoke({\n",
    "    \"hello\": [\"world\"],\n",
    "})\n",
    "time.sleep(5)\n",
    "print(\"result:\", result)"
   ],
   "id": "a995da8a06de0396",
   "outputs": [
    {
     "name": "stdout",
     "output_type": "stream",
     "text": [
      "node1:  {'hello': ['world']}\n",
      "node2:  {'hello': ['world', 'node1']}\n",
      "node3:  {'hello': ['world', 'node1', '2025-10-10 12:49:28.201033']}\n",
      "node4:  {'hello': ['world', 'node1', '2025-10-10 12:49:28.201033', 'node3']}\n",
      "node1:  {'hello': ['world']}\n",
      "node3:  {'hello': ['world', 'node1', '2025-10-10 12:49:28.201033']}\n",
      "node4:  {'hello': ['world', 'node1', '2025-10-10 12:49:28.201033', 'node3']}\n",
      "node1:  {'hello': ['world']}\n",
      "node3:  {'hello': ['world', 'node1', '2025-10-10 12:49:28.201033']}\n",
      "node4:  {'hello': ['world', 'node1', '2025-10-10 12:49:28.201033', 'node3']}\n",
      "node1:  {'hello': ['world']}\n",
      "node3:  {'hello': ['world', 'node1', '2025-10-10 12:49:28.201033']}\n",
      "node4:  {'hello': ['world', 'node1', '2025-10-10 12:49:28.201033', 'node3']}\n",
      "node1:  {'hello': ['world']}\n",
      "node2:  {'hello': ['world', 'node1']}\n",
      "node3:  {'hello': ['world', 'node1', '2025-10-10 12:49:48.216397']}\n",
      "node4:  {'hello': ['world', 'node1', '2025-10-10 12:49:48.216397', 'node3']}\n",
      "node1:  {'hello': ['world']}\n",
      "node3:  {'hello': ['world', 'node1', '2025-10-10 12:49:48.216397']}\n",
      "node4:  {'hello': ['world', 'node1', '2025-10-10 12:49:48.216397', 'node3']}\n",
      "node1:  {'hello': ['world']}\n",
      "node3:  {'hello': ['world', 'node1', '2025-10-10 12:49:48.216397']}\n",
      "node4:  {'hello': ['world', 'node1', '2025-10-10 12:49:48.216397', 'node3']}\n",
      "result: {'hello': ['world', 'node1', '2025-10-10 12:49:48.216397', 'node3', 'node4']}\n"
     ]
    }
   ],
   "execution_count": 249
  }
 ],
 "metadata": {
  "kernelspec": {
   "display_name": "Python 3",
   "language": "python",
   "name": "python3"
  },
  "language_info": {
   "codemirror_mode": {
    "name": "ipython",
    "version": 2
   },
   "file_extension": ".py",
   "mimetype": "text/x-python",
   "name": "python",
   "nbconvert_exporter": "python",
   "pygments_lexer": "ipython2",
   "version": "2.7.6"
  }
 },
 "nbformat": 4,
 "nbformat_minor": 5
}
