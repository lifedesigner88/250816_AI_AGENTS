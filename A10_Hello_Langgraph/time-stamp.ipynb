{
 "cells": [
  {
   "cell_type": "code",
   "id": "initial_id",
   "metadata": {
    "collapsed": true,
    "ExecuteTime": {
     "end_time": "2025-10-11T05:19:24.917639Z",
     "start_time": "2025-10-11T05:19:24.543941Z"
    }
   },
   "source": [
    "import dotenv\n",
    "\n",
    "dotenv.load_dotenv()\n",
    "\n",
    "import sqlite3\n",
    "from langgraph.graph import StateGraph, START, END\n",
    "from langchain.chat_models import init_chat_model\n",
    "from langgraph.graph.message import MessagesState\n",
    "from langgraph.checkpoint.sqlite import SqliteSaver\n",
    "\n",
    "llm = init_chat_model(\"openai:gpt-4o-mini\")\n",
    "\n",
    "conn = sqlite3.connect(\n",
    "    \"memory.db\",\n",
    "    check_same_thread=False,\n",
    ")\n",
    "\n",
    "config = {\n",
    "    \"configurable\": {\n",
    "        \"thread_id\": \"0_x\",\n",
    "    },\n",
    "}"
   ],
   "outputs": [],
   "execution_count": 2
  },
  {
   "metadata": {
    "ExecuteTime": {
     "end_time": "2025-10-11T05:19:24.927557Z",
     "start_time": "2025-10-11T05:19:24.924087Z"
    }
   },
   "cell_type": "code",
   "source": [
    "class State(MessagesState):\n",
    "    pass\n",
    "\n",
    "\n",
    "graph_builder = StateGraph(State)"
   ],
   "id": "ca925892faf4b04d",
   "outputs": [],
   "execution_count": 3
  },
  {
   "metadata": {
    "ExecuteTime": {
     "end_time": "2025-10-11T05:19:24.942744Z",
     "start_time": "2025-10-11T05:19:24.939685Z"
    }
   },
   "cell_type": "code",
   "source": [
    "def chatbot(state: State):\n",
    "    response = llm.invoke(state[\"messages\"])\n",
    "    return {\n",
    "        \"messages\": [response],\n",
    "    }"
   ],
   "id": "52957b8178eb036e",
   "outputs": [],
   "execution_count": 4
  },
  {
   "metadata": {
    "ExecuteTime": {
     "end_time": "2025-10-11T05:19:24.955277Z",
     "start_time": "2025-10-11T05:19:24.950786Z"
    }
   },
   "cell_type": "code",
   "source": [
    "graph_builder.add_node(\"chatbot\", chatbot)\n",
    "\n",
    "graph_builder.add_edge(START, \"chatbot\")\n",
    "graph_builder.add_edge(\"chatbot\", END)\n",
    "\n",
    "graph = graph_builder.compile(\n",
    "    checkpointer=SqliteSaver(conn),\n",
    ")"
   ],
   "id": "695d77292441dec4",
   "outputs": [],
   "execution_count": 5
  },
  {
   "metadata": {
    "ExecuteTime": {
     "end_time": "2025-10-11T05:19:25.495443Z",
     "start_time": "2025-10-11T05:19:24.964046Z"
    }
   },
   "cell_type": "code",
   "source": "display(graph)",
   "id": "b89bd57d678bd1a7",
   "outputs": [
    {
     "data": {
      "text/plain": [
       "<langgraph.graph.state.CompiledStateGraph object at 0x00000271AA110D70>"
      ],
      "image/png": "[encoded data removed]"
     },
     "metadata": {},
     "output_type": "display_data",
     "jetTransient": {
      "display_id": null
     }
    }
   ],
   "execution_count": 6
  },
  {
   "metadata": {
    "ExecuteTime": {
     "end_time": "2025-10-11T05:22:48.560572Z",
     "start_time": "2025-10-11T05:22:46.491158Z"
    }
   },
   "cell_type": "code",
   "source": [
    "result = graph.invoke(\n",
    "    {\n",
    "        \"messages\": [\n",
    "            {\n",
    "                \"role\": \"user\",\n",
    "                \"content\": \"i'm 38 years old\",\n",
    "            },\n",
    "        ]\n",
    "    },\n",
    "    config=config,\n",
    ")"
   ],
   "id": "1bfa5dad599a2fa",
   "outputs": [],
   "execution_count": 12
  },
  {
   "metadata": {
    "ExecuteTime": {
     "end_time": "2025-10-11T05:22:51.559850Z",
     "start_time": "2025-10-11T05:22:51.556546Z"
    }
   },
   "cell_type": "code",
   "source": [
    "for message in result[\"messages\"]:\n",
    "    message.pretty_print()"
   ],
   "id": "878b1a39479e0a89",
   "outputs": [
    {
     "name": "stdout",
     "output_type": "stream",
     "text": [
      "================================\u001B[1m Human Message \u001B[0m=================================\n",
      "\n",
      "I live in Europe now. And the city I live in is Valencia.\n",
      "==================================\u001B[1m Ai Message \u001B[0m==================================\n",
      "\n",
      "Valencia is a beautiful city in Spain, known for its rich history, stunning architecture, and delicious cuisine, including the famous paella. It also boasts lovely beaches, vibrant cultural scenes, and beautiful parks like the Turia Gardens. If you have any questions about things to do, places to visit, or local customs in Valencia, feel free to ask!\n",
      "================================\u001B[1m Human Message \u001B[0m=================================\n",
      "\n",
      "how old are you\n",
      "==================================\u001B[1m Ai Message \u001B[0m==================================\n",
      "\n",
      "I don’t have an age in the traditional sense, but I was created by OpenAI and released in November 2022. My knowledge is up to date until October 2023. Is there anything specific you’d like to know?\n",
      "================================\u001B[1m Human Message \u001B[0m=================================\n",
      "\n",
      "i'm 38 years old\n",
      "==================================\u001B[1m Ai Message \u001B[0m==================================\n",
      "\n",
      "That's great! Being 38 often comes with a lot of experiences and insights. If you'd like to discuss anything related to your age, such as life experiences, interests, or goals, or if you have any questions, feel free to share!\n"
     ]
    }
   ],
   "execution_count": 13
  },
  {
   "metadata": {
    "ExecuteTime": {
     "end_time": "2025-10-11T05:38:12.915085Z",
     "start_time": "2025-10-11T05:38:12.908668Z"
    }
   },
   "cell_type": "code",
   "source": [
    "state_history = graph.get_state_history(config)\n",
    "for state_snapshot in list(state_history):\n",
    "    print(state_snapshot.next)\n",
    "    print(state_snapshot.config)\n",
    "    print(state_snapshot.values[\"messages\"])\n",
    "    print(\"=========\\n\")"
   ],
   "id": "760bf99124ca6364",
   "outputs": [
    {
     "name": "stdout",
     "output_type": "stream",
     "text": [
      "()\n",
      "{'configurable': {'thread_id': '0_x', 'checkpoint_ns': '', 'checkpoint_id': '1f0a6646-9129-6d9a-8008-92b2c0e7ad90'}}\n",
      "[HumanMessage(content='I live in Europe now. And the city I live in is Valencia.', additional_kwargs={}, response_metadata={}, id='909bad83-022e-442d-9490-b700010fcf58'), AIMessage(content='Valencia is a beautiful city in Spain, known for its rich history, stunning architecture, and delicious cuisine, including the famous paella. It also boasts lovely beaches, vibrant cultural scenes, and beautiful parks like the Turia Gardens. If you have any questions about things to do, places to visit, or local customs in Valencia, feel free to ask!', additional_kwargs={'refusal': None}, response_metadata={'token_usage': {'completion_tokens': 72, 'prompt_tokens': 22, 'total_tokens': 94, 'completion_tokens_details': {'accepted_prediction_tokens': 0, 'audio_tokens': 0, 'reasoning_tokens': 0, 'rejected_prediction_tokens': 0}, 'prompt_tokens_details': {'audio_tokens': 0, 'cached_tokens': 0}}, 'model_name': 'gpt-4o-mini-2024-07-18', 'system_fingerprint': 'fp_560af6e559', 'id': 'chatcmpl-CPMJY1TcYTkusgznhzc82HpJFum2m', 'service_tier': 'default', 'finish_reason': 'stop', 'logprobs': None}, id='run--12fe4e29-da3a-445a-9612-f7a09264183e-0', usage_metadata={'input_tokens': 22, 'output_tokens': 72, 'total_tokens': 94, 'input_token_details': {'audio': 0, 'cache_read': 0}, 'output_token_details': {'audio': 0, 'reasoning': 0}}), HumanMessage(content='how old are you', additional_kwargs={}, response_metadata={}, id='43e66168-9386-431d-a8e8-89b1d13fb499'), AIMessage(content='I don’t have an age in the traditional sense, but I was created by OpenAI and released in November 2022. My knowledge is up to date until October 2023. Is there anything specific you’d like to know?', additional_kwargs={'refusal': None}, response_metadata={'token_usage': {'completion_tokens': 48, 'prompt_tokens': 106, 'total_tokens': 154, 'completion_tokens_details': {'accepted_prediction_tokens': 0, 'audio_tokens': 0, 'reasoning_tokens': 0, 'rejected_prediction_tokens': 0}, 'prompt_tokens_details': {'audio_tokens': 0, 'cached_tokens': 0}}, 'model_name': 'gpt-4o-mini-2024-07-18', 'system_fingerprint': 'fp_560af6e559', 'id': 'chatcmpl-CPMK6Gxj2BVuW8xCMbMA74rcMrhNE', 'service_tier': 'default', 'finish_reason': 'stop', 'logprobs': None}, id='run--f2e4e080-1510-42e0-9e1e-41695a335db1-0', usage_metadata={'input_tokens': 106, 'output_tokens': 48, 'total_tokens': 154, 'input_token_details': {'audio': 0, 'cache_read': 0}, 'output_token_details': {'audio': 0, 'reasoning': 0}}), HumanMessage(content='I live in Europe now. And the city I live in is Zagreb.', additional_kwargs={}, response_metadata={}, id='d10038ab-ccb0-4821-aeb4-8f3213a0e7dc'), AIMessage(content=\"Zagreb, the capital of Croatia, is a vibrant city known for its mix of 18th and 19th-century Austro-Hungarian architecture, as well as its lively culture and history. The city is known for its beautiful parks, museums, and a bustling café scene. \\n\\nPopular attractions include the medieval Gornji Grad (Upper Town), St. Mark's Church with its colorful roof, the Zagreb Cathedral, and the Museum of Broken Relationships. Don’t miss the chance to explore Dolac Market for fresh local produce or enjoy the views from the Lotrščak Tower.\\n\\nIf you have any specific queries or need tips about living in Zagreb, feel free to ask!\", additional_kwargs={'refusal': None}, response_metadata={'token_usage': {'completion_tokens': 139, 'prompt_tokens': 177, 'total_tokens': 316, 'completion_tokens_details': {'accepted_prediction_tokens': 0, 'audio_tokens': 0, 'reasoning_tokens': 0, 'rejected_prediction_tokens': 0}, 'prompt_tokens_details': {'audio_tokens': 0, 'cached_tokens': 0}}, 'model_name': 'gpt-4o-mini-2024-07-18', 'system_fingerprint': 'fp_560af6e559', 'id': 'chatcmpl-CPMaSHvhQyggz0weIPDQikZPMsrPK', 'service_tier': 'default', 'finish_reason': 'stop', 'logprobs': None}, id='run--15fe19ee-339a-45d0-9acb-9161ac04df34-0', usage_metadata={'input_tokens': 177, 'output_tokens': 139, 'total_tokens': 316, 'input_token_details': {'audio': 0, 'cache_read': 0}, 'output_token_details': {'audio': 0, 'reasoning': 0}})]\n",
      "=========\n",
      "\n",
      "('chatbot',)\n",
      "{'configurable': {'thread_id': '0_x', 'checkpoint_ns': '', 'checkpoint_id': '1f0a6638-7473-6a50-8007-e3eaf97b8375'}}\n",
      "[HumanMessage(content='I live in Europe now. And the city I live in is Valencia.', additional_kwargs={}, response_metadata={}, id='909bad83-022e-442d-9490-b700010fcf58'), AIMessage(content='Valencia is a beautiful city in Spain, known for its rich history, stunning architecture, and delicious cuisine, including the famous paella. It also boasts lovely beaches, vibrant cultural scenes, and beautiful parks like the Turia Gardens. If you have any questions about things to do, places to visit, or local customs in Valencia, feel free to ask!', additional_kwargs={'refusal': None}, response_metadata={'token_usage': {'completion_tokens': 72, 'prompt_tokens': 22, 'total_tokens': 94, 'completion_tokens_details': {'accepted_prediction_tokens': 0, 'audio_tokens': 0, 'reasoning_tokens': 0, 'rejected_prediction_tokens': 0}, 'prompt_tokens_details': {'audio_tokens': 0, 'cached_tokens': 0}}, 'model_name': 'gpt-4o-mini-2024-07-18', 'system_fingerprint': 'fp_560af6e559', 'id': 'chatcmpl-CPMJY1TcYTkusgznhzc82HpJFum2m', 'service_tier': 'default', 'finish_reason': 'stop', 'logprobs': None}, id='run--12fe4e29-da3a-445a-9612-f7a09264183e-0', usage_metadata={'input_tokens': 22, 'output_tokens': 72, 'total_tokens': 94, 'input_token_details': {'audio': 0, 'cache_read': 0}, 'output_token_details': {'audio': 0, 'reasoning': 0}}), HumanMessage(content='how old are you', additional_kwargs={}, response_metadata={}, id='43e66168-9386-431d-a8e8-89b1d13fb499'), AIMessage(content='I don’t have an age in the traditional sense, but I was created by OpenAI and released in November 2022. My knowledge is up to date until October 2023. Is there anything specific you’d like to know?', additional_kwargs={'refusal': None}, response_metadata={'token_usage': {'completion_tokens': 48, 'prompt_tokens': 106, 'total_tokens': 154, 'completion_tokens_details': {'accepted_prediction_tokens': 0, 'audio_tokens': 0, 'reasoning_tokens': 0, 'rejected_prediction_tokens': 0}, 'prompt_tokens_details': {'audio_tokens': 0, 'cached_tokens': 0}}, 'model_name': 'gpt-4o-mini-2024-07-18', 'system_fingerprint': 'fp_560af6e559', 'id': 'chatcmpl-CPMK6Gxj2BVuW8xCMbMA74rcMrhNE', 'service_tier': 'default', 'finish_reason': 'stop', 'logprobs': None}, id='run--f2e4e080-1510-42e0-9e1e-41695a335db1-0', usage_metadata={'input_tokens': 106, 'output_tokens': 48, 'total_tokens': 154, 'input_token_details': {'audio': 0, 'cache_read': 0}, 'output_token_details': {'audio': 0, 'reasoning': 0}}), HumanMessage(content='I live in Europe now. And the city I live in is Zagreb.', additional_kwargs={}, response_metadata={}, id='d10038ab-ccb0-4821-aeb4-8f3213a0e7dc')]\n",
      "=========\n",
      "\n",
      "()\n",
      "{'configurable': {'thread_id': '0_x', 'checkpoint_ns': '', 'checkpoint_id': '1f0a6625-371c-6602-8007-683f4b3f9b94'}}\n",
      "[HumanMessage(content='I live in Europe now. And the city I live in is Valencia.', additional_kwargs={}, response_metadata={}, id='909bad83-022e-442d-9490-b700010fcf58'), AIMessage(content='Valencia is a beautiful city in Spain, known for its rich history, stunning architecture, and delicious cuisine, including the famous paella. It also boasts lovely beaches, vibrant cultural scenes, and beautiful parks like the Turia Gardens. If you have any questions about things to do, places to visit, or local customs in Valencia, feel free to ask!', additional_kwargs={'refusal': None}, response_metadata={'token_usage': {'completion_tokens': 72, 'prompt_tokens': 22, 'total_tokens': 94, 'completion_tokens_details': {'accepted_prediction_tokens': 0, 'audio_tokens': 0, 'reasoning_tokens': 0, 'rejected_prediction_tokens': 0}, 'prompt_tokens_details': {'audio_tokens': 0, 'cached_tokens': 0}}, 'model_name': 'gpt-4o-mini-2024-07-18', 'system_fingerprint': 'fp_560af6e559', 'id': 'chatcmpl-CPMJY1TcYTkusgznhzc82HpJFum2m', 'service_tier': 'default', 'finish_reason': 'stop', 'logprobs': None}, id='run--12fe4e29-da3a-445a-9612-f7a09264183e-0', usage_metadata={'input_tokens': 22, 'output_tokens': 72, 'total_tokens': 94, 'input_token_details': {'audio': 0, 'cache_read': 0}, 'output_token_details': {'audio': 0, 'reasoning': 0}}), HumanMessage(content='how old are you', additional_kwargs={}, response_metadata={}, id='43e66168-9386-431d-a8e8-89b1d13fb499'), AIMessage(content='I don’t have an age in the traditional sense, but I was created by OpenAI and released in November 2022. My knowledge is up to date until October 2023. Is there anything specific you’d like to know?', additional_kwargs={'refusal': None}, response_metadata={'token_usage': {'completion_tokens': 48, 'prompt_tokens': 106, 'total_tokens': 154, 'completion_tokens_details': {'accepted_prediction_tokens': 0, 'audio_tokens': 0, 'reasoning_tokens': 0, 'rejected_prediction_tokens': 0}, 'prompt_tokens_details': {'audio_tokens': 0, 'cached_tokens': 0}}, 'model_name': 'gpt-4o-mini-2024-07-18', 'system_fingerprint': 'fp_560af6e559', 'id': 'chatcmpl-CPMK6Gxj2BVuW8xCMbMA74rcMrhNE', 'service_tier': 'default', 'finish_reason': 'stop', 'logprobs': None}, id='run--f2e4e080-1510-42e0-9e1e-41695a335db1-0', usage_metadata={'input_tokens': 106, 'output_tokens': 48, 'total_tokens': 154, 'input_token_details': {'audio': 0, 'cache_read': 0}, 'output_token_details': {'audio': 0, 'reasoning': 0}}), HumanMessage(content=\"i'm 38 years old\", additional_kwargs={}, response_metadata={}, id='d10038ab-ccb0-4821-aeb4-8f3213a0e7dc'), AIMessage(content=\"That's great! Being 38 often comes with a lot of experiences and insights. If you'd like to discuss anything related to your age, such as life experiences, interests, or goals, or if you have any questions, feel free to share!\", additional_kwargs={'refusal': None}, response_metadata={'token_usage': {'completion_tokens': 49, 'prompt_tokens': 168, 'total_tokens': 217, 'completion_tokens_details': {'accepted_prediction_tokens': 0, 'audio_tokens': 0, 'reasoning_tokens': 0, 'rejected_prediction_tokens': 0}, 'prompt_tokens_details': {'audio_tokens': 0, 'cached_tokens': 0}}, 'model_name': 'gpt-4o-mini-2024-07-18', 'system_fingerprint': 'fp_560af6e559', 'id': 'chatcmpl-CPMM3CTS4420iIHCJT2rUFKpDTZKM', 'service_tier': 'default', 'finish_reason': 'stop', 'logprobs': None}, id='run--2e2296ab-e12d-4f5e-9887-6dd164ac5fc3-0', usage_metadata={'input_tokens': 168, 'output_tokens': 49, 'total_tokens': 217, 'input_token_details': {'audio': 0, 'cache_read': 0}, 'output_token_details': {'audio': 0, 'reasoning': 0}})]\n",
      "=========\n",
      "\n",
      "('chatbot',)\n",
      "{'configurable': {'thread_id': '0_x', 'checkpoint_ns': '', 'checkpoint_id': '1f0a6625-238d-6285-8006-81c8073903dd'}}\n",
      "[HumanMessage(content='I live in Europe now. And the city I live in is Valencia.', additional_kwargs={}, response_metadata={}, id='909bad83-022e-442d-9490-b700010fcf58'), AIMessage(content='Valencia is a beautiful city in Spain, known for its rich history, stunning architecture, and delicious cuisine, including the famous paella. It also boasts lovely beaches, vibrant cultural scenes, and beautiful parks like the Turia Gardens. If you have any questions about things to do, places to visit, or local customs in Valencia, feel free to ask!', additional_kwargs={'refusal': None}, response_metadata={'token_usage': {'completion_tokens': 72, 'prompt_tokens': 22, 'total_tokens': 94, 'completion_tokens_details': {'accepted_prediction_tokens': 0, 'audio_tokens': 0, 'reasoning_tokens': 0, 'rejected_prediction_tokens': 0}, 'prompt_tokens_details': {'audio_tokens': 0, 'cached_tokens': 0}}, 'model_name': 'gpt-4o-mini-2024-07-18', 'system_fingerprint': 'fp_560af6e559', 'id': 'chatcmpl-CPMJY1TcYTkusgznhzc82HpJFum2m', 'service_tier': 'default', 'finish_reason': 'stop', 'logprobs': None}, id='run--12fe4e29-da3a-445a-9612-f7a09264183e-0', usage_metadata={'input_tokens': 22, 'output_tokens': 72, 'total_tokens': 94, 'input_token_details': {'audio': 0, 'cache_read': 0}, 'output_token_details': {'audio': 0, 'reasoning': 0}}), HumanMessage(content='how old are you', additional_kwargs={}, response_metadata={}, id='43e66168-9386-431d-a8e8-89b1d13fb499'), AIMessage(content='I don’t have an age in the traditional sense, but I was created by OpenAI and released in November 2022. My knowledge is up to date until October 2023. Is there anything specific you’d like to know?', additional_kwargs={'refusal': None}, response_metadata={'token_usage': {'completion_tokens': 48, 'prompt_tokens': 106, 'total_tokens': 154, 'completion_tokens_details': {'accepted_prediction_tokens': 0, 'audio_tokens': 0, 'reasoning_tokens': 0, 'rejected_prediction_tokens': 0}, 'prompt_tokens_details': {'audio_tokens': 0, 'cached_tokens': 0}}, 'model_name': 'gpt-4o-mini-2024-07-18', 'system_fingerprint': 'fp_560af6e559', 'id': 'chatcmpl-CPMK6Gxj2BVuW8xCMbMA74rcMrhNE', 'service_tier': 'default', 'finish_reason': 'stop', 'logprobs': None}, id='run--f2e4e080-1510-42e0-9e1e-41695a335db1-0', usage_metadata={'input_tokens': 106, 'output_tokens': 48, 'total_tokens': 154, 'input_token_details': {'audio': 0, 'cache_read': 0}, 'output_token_details': {'audio': 0, 'reasoning': 0}}), HumanMessage(content=\"i'm 38 years old\", additional_kwargs={}, response_metadata={}, id='d10038ab-ccb0-4821-aeb4-8f3213a0e7dc')]\n",
      "=========\n",
      "\n",
      "('__start__',)\n",
      "{'configurable': {'thread_id': '0_x', 'checkpoint_ns': '', 'checkpoint_id': '1f0a6625-238a-61d4-8005-ad464c75d638'}}\n",
      "[HumanMessage(content='I live in Europe now. And the city I live in is Valencia.', additional_kwargs={}, response_metadata={}, id='909bad83-022e-442d-9490-b700010fcf58'), AIMessage(content='Valencia is a beautiful city in Spain, known for its rich history, stunning architecture, and delicious cuisine, including the famous paella. It also boasts lovely beaches, vibrant cultural scenes, and beautiful parks like the Turia Gardens. If you have any questions about things to do, places to visit, or local customs in Valencia, feel free to ask!', additional_kwargs={'refusal': None}, response_metadata={'token_usage': {'completion_tokens': 72, 'prompt_tokens': 22, 'total_tokens': 94, 'completion_tokens_details': {'accepted_prediction_tokens': 0, 'audio_tokens': 0, 'reasoning_tokens': 0, 'rejected_prediction_tokens': 0}, 'prompt_tokens_details': {'audio_tokens': 0, 'cached_tokens': 0}}, 'model_name': 'gpt-4o-mini-2024-07-18', 'system_fingerprint': 'fp_560af6e559', 'id': 'chatcmpl-CPMJY1TcYTkusgznhzc82HpJFum2m', 'service_tier': 'default', 'finish_reason': 'stop', 'logprobs': None}, id='run--12fe4e29-da3a-445a-9612-f7a09264183e-0', usage_metadata={'input_tokens': 22, 'output_tokens': 72, 'total_tokens': 94, 'input_token_details': {'audio': 0, 'cache_read': 0}, 'output_token_details': {'audio': 0, 'reasoning': 0}}), HumanMessage(content='how old are you', additional_kwargs={}, response_metadata={}, id='43e66168-9386-431d-a8e8-89b1d13fb499'), AIMessage(content='I don’t have an age in the traditional sense, but I was created by OpenAI and released in November 2022. My knowledge is up to date until October 2023. Is there anything specific you’d like to know?', additional_kwargs={'refusal': None}, response_metadata={'token_usage': {'completion_tokens': 48, 'prompt_tokens': 106, 'total_tokens': 154, 'completion_tokens_details': {'accepted_prediction_tokens': 0, 'audio_tokens': 0, 'reasoning_tokens': 0, 'rejected_prediction_tokens': 0}, 'prompt_tokens_details': {'audio_tokens': 0, 'cached_tokens': 0}}, 'model_name': 'gpt-4o-mini-2024-07-18', 'system_fingerprint': 'fp_560af6e559', 'id': 'chatcmpl-CPMK6Gxj2BVuW8xCMbMA74rcMrhNE', 'service_tier': 'default', 'finish_reason': 'stop', 'logprobs': None}, id='run--f2e4e080-1510-42e0-9e1e-41695a335db1-0', usage_metadata={'input_tokens': 106, 'output_tokens': 48, 'total_tokens': 154, 'input_token_details': {'audio': 0, 'cache_read': 0}, 'output_token_details': {'audio': 0, 'reasoning': 0}})]\n",
      "=========\n",
      "\n",
      "()\n",
      "{'configurable': {'thread_id': '0_x', 'checkpoint_ns': '', 'checkpoint_id': '1f0a6620-b343-670e-8004-bbb445f2749b'}}\n",
      "[HumanMessage(content='I live in Europe now. And the city I live in is Valencia.', additional_kwargs={}, response_metadata={}, id='909bad83-022e-442d-9490-b700010fcf58'), AIMessage(content='Valencia is a beautiful city in Spain, known for its rich history, stunning architecture, and delicious cuisine, including the famous paella. It also boasts lovely beaches, vibrant cultural scenes, and beautiful parks like the Turia Gardens. If you have any questions about things to do, places to visit, or local customs in Valencia, feel free to ask!', additional_kwargs={'refusal': None}, response_metadata={'token_usage': {'completion_tokens': 72, 'prompt_tokens': 22, 'total_tokens': 94, 'completion_tokens_details': {'accepted_prediction_tokens': 0, 'audio_tokens': 0, 'reasoning_tokens': 0, 'rejected_prediction_tokens': 0}, 'prompt_tokens_details': {'audio_tokens': 0, 'cached_tokens': 0}}, 'model_name': 'gpt-4o-mini-2024-07-18', 'system_fingerprint': 'fp_560af6e559', 'id': 'chatcmpl-CPMJY1TcYTkusgznhzc82HpJFum2m', 'service_tier': 'default', 'finish_reason': 'stop', 'logprobs': None}, id='run--12fe4e29-da3a-445a-9612-f7a09264183e-0', usage_metadata={'input_tokens': 22, 'output_tokens': 72, 'total_tokens': 94, 'input_token_details': {'audio': 0, 'cache_read': 0}, 'output_token_details': {'audio': 0, 'reasoning': 0}}), HumanMessage(content='how old are you', additional_kwargs={}, response_metadata={}, id='43e66168-9386-431d-a8e8-89b1d13fb499'), AIMessage(content='I don’t have an age in the traditional sense, but I was created by OpenAI and released in November 2022. My knowledge is up to date until October 2023. Is there anything specific you’d like to know?', additional_kwargs={'refusal': None}, response_metadata={'token_usage': {'completion_tokens': 48, 'prompt_tokens': 106, 'total_tokens': 154, 'completion_tokens_details': {'accepted_prediction_tokens': 0, 'audio_tokens': 0, 'reasoning_tokens': 0, 'rejected_prediction_tokens': 0}, 'prompt_tokens_details': {'audio_tokens': 0, 'cached_tokens': 0}}, 'model_name': 'gpt-4o-mini-2024-07-18', 'system_fingerprint': 'fp_560af6e559', 'id': 'chatcmpl-CPMK6Gxj2BVuW8xCMbMA74rcMrhNE', 'service_tier': 'default', 'finish_reason': 'stop', 'logprobs': None}, id='run--f2e4e080-1510-42e0-9e1e-41695a335db1-0', usage_metadata={'input_tokens': 106, 'output_tokens': 48, 'total_tokens': 154, 'input_token_details': {'audio': 0, 'cache_read': 0}, 'output_token_details': {'audio': 0, 'reasoning': 0}})]\n",
      "=========\n",
      "\n",
      "('chatbot',)\n",
      "{'configurable': {'thread_id': '0_x', 'checkpoint_ns': '', 'checkpoint_id': '1f0a6620-a294-61b7-8003-7f3ccb7fbdff'}}\n",
      "[HumanMessage(content='I live in Europe now. And the city I live in is Valencia.', additional_kwargs={}, response_metadata={}, id='909bad83-022e-442d-9490-b700010fcf58'), AIMessage(content='Valencia is a beautiful city in Spain, known for its rich history, stunning architecture, and delicious cuisine, including the famous paella. It also boasts lovely beaches, vibrant cultural scenes, and beautiful parks like the Turia Gardens. If you have any questions about things to do, places to visit, or local customs in Valencia, feel free to ask!', additional_kwargs={'refusal': None}, response_metadata={'token_usage': {'completion_tokens': 72, 'prompt_tokens': 22, 'total_tokens': 94, 'completion_tokens_details': {'accepted_prediction_tokens': 0, 'audio_tokens': 0, 'reasoning_tokens': 0, 'rejected_prediction_tokens': 0}, 'prompt_tokens_details': {'audio_tokens': 0, 'cached_tokens': 0}}, 'model_name': 'gpt-4o-mini-2024-07-18', 'system_fingerprint': 'fp_560af6e559', 'id': 'chatcmpl-CPMJY1TcYTkusgznhzc82HpJFum2m', 'service_tier': 'default', 'finish_reason': 'stop', 'logprobs': None}, id='run--12fe4e29-da3a-445a-9612-f7a09264183e-0', usage_metadata={'input_tokens': 22, 'output_tokens': 72, 'total_tokens': 94, 'input_token_details': {'audio': 0, 'cache_read': 0}, 'output_token_details': {'audio': 0, 'reasoning': 0}}), HumanMessage(content='how old are you', additional_kwargs={}, response_metadata={}, id='43e66168-9386-431d-a8e8-89b1d13fb499')]\n",
      "=========\n",
      "\n",
      "('__start__',)\n",
      "{'configurable': {'thread_id': '0_x', 'checkpoint_ns': '', 'checkpoint_id': '1f0a6620-a291-637d-8002-19782d742307'}}\n",
      "[HumanMessage(content='I live in Europe now. And the city I live in is Valencia.', additional_kwargs={}, response_metadata={}, id='909bad83-022e-442d-9490-b700010fcf58'), AIMessage(content='Valencia is a beautiful city in Spain, known for its rich history, stunning architecture, and delicious cuisine, including the famous paella. It also boasts lovely beaches, vibrant cultural scenes, and beautiful parks like the Turia Gardens. If you have any questions about things to do, places to visit, or local customs in Valencia, feel free to ask!', additional_kwargs={'refusal': None}, response_metadata={'token_usage': {'completion_tokens': 72, 'prompt_tokens': 22, 'total_tokens': 94, 'completion_tokens_details': {'accepted_prediction_tokens': 0, 'audio_tokens': 0, 'reasoning_tokens': 0, 'rejected_prediction_tokens': 0}, 'prompt_tokens_details': {'audio_tokens': 0, 'cached_tokens': 0}}, 'model_name': 'gpt-4o-mini-2024-07-18', 'system_fingerprint': 'fp_560af6e559', 'id': 'chatcmpl-CPMJY1TcYTkusgznhzc82HpJFum2m', 'service_tier': 'default', 'finish_reason': 'stop', 'logprobs': None}, id='run--12fe4e29-da3a-445a-9612-f7a09264183e-0', usage_metadata={'input_tokens': 22, 'output_tokens': 72, 'total_tokens': 94, 'input_token_details': {'audio': 0, 'cache_read': 0}, 'output_token_details': {'audio': 0, 'reasoning': 0}})]\n",
      "=========\n",
      "\n",
      "()\n",
      "{'configurable': {'thread_id': '0_x', 'checkpoint_ns': '', 'checkpoint_id': '1f0a661f-6fd4-6ab5-8001-6acb1faa47dc'}}\n",
      "[HumanMessage(content='I live in Europe now. And the city I live in is Valencia.', additional_kwargs={}, response_metadata={}, id='909bad83-022e-442d-9490-b700010fcf58'), AIMessage(content='Valencia is a beautiful city in Spain, known for its rich history, stunning architecture, and delicious cuisine, including the famous paella. It also boasts lovely beaches, vibrant cultural scenes, and beautiful parks like the Turia Gardens. If you have any questions about things to do, places to visit, or local customs in Valencia, feel free to ask!', additional_kwargs={'refusal': None}, response_metadata={'token_usage': {'completion_tokens': 72, 'prompt_tokens': 22, 'total_tokens': 94, 'completion_tokens_details': {'accepted_prediction_tokens': 0, 'audio_tokens': 0, 'reasoning_tokens': 0, 'rejected_prediction_tokens': 0}, 'prompt_tokens_details': {'audio_tokens': 0, 'cached_tokens': 0}}, 'model_name': 'gpt-4o-mini-2024-07-18', 'system_fingerprint': 'fp_560af6e559', 'id': 'chatcmpl-CPMJY1TcYTkusgznhzc82HpJFum2m', 'service_tier': 'default', 'finish_reason': 'stop', 'logprobs': None}, id='run--12fe4e29-da3a-445a-9612-f7a09264183e-0', usage_metadata={'input_tokens': 22, 'output_tokens': 72, 'total_tokens': 94, 'input_token_details': {'audio': 0, 'cache_read': 0}, 'output_token_details': {'audio': 0, 'reasoning': 0}})]\n",
      "=========\n",
      "\n",
      "('chatbot',)\n",
      "{'configurable': {'thread_id': '0_x', 'checkpoint_ns': '', 'checkpoint_id': '1f0a661f-5a05-697b-8000-cf24d958e7c9'}}\n",
      "[HumanMessage(content='I live in Europe now. And the city I live in is Valencia.', additional_kwargs={}, response_metadata={}, id='909bad83-022e-442d-9490-b700010fcf58')]\n",
      "=========\n",
      "\n",
      "('__start__',)\n",
      "{'configurable': {'thread_id': '0_x', 'checkpoint_ns': '', 'checkpoint_id': '1f0a661f-5a02-6925-bfff-0b422cad4832'}}\n",
      "[]\n",
      "=========\n",
      "\n"
     ]
    }
   ],
   "execution_count": 25
  },
  {
   "metadata": {
    "ExecuteTime": {
     "end_time": "2025-10-11T05:26:13.083606Z",
     "start_time": "2025-10-11T05:26:13.078079Z"
    }
   },
   "cell_type": "code",
   "source": [
    "state_history = graph.get_state_history(config)\n",
    "\n",
    "to_fork = list(state_history)[-8]\n",
    "\n",
    "to_fork.config"
   ],
   "id": "54d35745939eea86",
   "outputs": [
    {
     "data": {
      "text/plain": [
       "{'configurable': {'thread_id': '0_x',\n",
       "  'checkpoint_ns': '',\n",
       "  'checkpoint_id': '1f0a6625-238d-6285-8006-81c8073903dd'}}"
      ]
     },
     "execution_count": 18,
     "metadata": {},
     "output_type": "execute_result"
    }
   ],
   "execution_count": 18
  },
  {
   "metadata": {
    "ExecuteTime": {
     "end_time": "2025-10-11T05:31:25.010364Z",
     "start_time": "2025-10-11T05:31:24.992824Z"
    }
   },
   "cell_type": "code",
   "source": [
    "from langchain_core.messages import HumanMessage\n",
    "\n",
    "graph.update_state(\n",
    "    to_fork.config,\n",
    "    {\n",
    "        \"messages\": [\n",
    "            HumanMessage(\n",
    "                content=\"I live in Europe now. And the city I live in is Zagreb.\",\n",
    "                id=\"d10038ab-ccb0-4821-aeb4-8f3213a0e7dc\",\n",
    "            )\n",
    "        ]\n",
    "    },\n",
    ")"
   ],
   "id": "c59b81f98b497965",
   "outputs": [
    {
     "data": {
      "text/plain": [
       "{'configurable': {'thread_id': '0_x',\n",
       "  'checkpoint_ns': '',\n",
       "  'checkpoint_id': '1f0a6638-7473-6a50-8007-e3eaf97b8375'}}"
      ]
     },
     "execution_count": 20,
     "metadata": {},
     "output_type": "execute_result"
    }
   ],
   "execution_count": 20
  },
  {
   "metadata": {
    "ExecuteTime": {
     "end_time": "2025-10-11T05:35:49.199022Z",
     "start_time": "2025-10-11T05:35:49.194192Z"
    }
   },
   "cell_type": "code",
   "source": [
    "forked_state = graph.get_state_history(\n",
    "    {\n",
    "        'configurable': {\n",
    "            'thread_id': '0_x',\n",
    "            'checkpoint_ns': '',\n",
    "            'checkpoint_id': '1f0a6638-7473-6a50-8007-e3eaf97b8375'\n",
    "        }\n",
    "    }\n",
    ")\n",
    "\n",
    "list(forked_state)"
   ],
   "id": "328f1ca21d3c1dfa",
   "outputs": [
    {
     "data": {
      "text/plain": [
       "[StateSnapshot(values={'messages': [HumanMessage(content='I live in Europe now. And the city I live in is Valencia.', additional_kwargs={}, response_metadata={}, id='909bad83-022e-442d-9490-b700010fcf58'), AIMessage(content='Valencia is a beautiful city in Spain, known for its rich history, stunning architecture, and delicious cuisine, including the famous paella. It also boasts lovely beaches, vibrant cultural scenes, and beautiful parks like the Turia Gardens. If you have any questions about things to do, places to visit, or local customs in Valencia, feel free to ask!', additional_kwargs={'refusal': None}, response_metadata={'token_usage': {'completion_tokens': 72, 'prompt_tokens': 22, 'total_tokens': 94, 'completion_tokens_details': {'accepted_prediction_tokens': 0, 'audio_tokens': 0, 'reasoning_tokens': 0, 'rejected_prediction_tokens': 0}, 'prompt_tokens_details': {'audio_tokens': 0, 'cached_tokens': 0}}, 'model_name': 'gpt-4o-mini-2024-07-18', 'system_fingerprint': 'fp_560af6e559', 'id': 'chatcmpl-CPMJY1TcYTkusgznhzc82HpJFum2m', 'service_tier': 'default', 'finish_reason': 'stop', 'logprobs': None}, id='run--12fe4e29-da3a-445a-9612-f7a09264183e-0', usage_metadata={'input_tokens': 22, 'output_tokens': 72, 'total_tokens': 94, 'input_token_details': {'audio': 0, 'cache_read': 0}, 'output_token_details': {'audio': 0, 'reasoning': 0}}), HumanMessage(content='how old are you', additional_kwargs={}, response_metadata={}, id='43e66168-9386-431d-a8e8-89b1d13fb499'), AIMessage(content='I don’t have an age in the traditional sense, but I was created by OpenAI and released in November 2022. My knowledge is up to date until October 2023. Is there anything specific you’d like to know?', additional_kwargs={'refusal': None}, response_metadata={'token_usage': {'completion_tokens': 48, 'prompt_tokens': 106, 'total_tokens': 154, 'completion_tokens_details': {'accepted_prediction_tokens': 0, 'audio_tokens': 0, 'reasoning_tokens': 0, 'rejected_prediction_tokens': 0}, 'prompt_tokens_details': {'audio_tokens': 0, 'cached_tokens': 0}}, 'model_name': 'gpt-4o-mini-2024-07-18', 'system_fingerprint': 'fp_560af6e559', 'id': 'chatcmpl-CPMK6Gxj2BVuW8xCMbMA74rcMrhNE', 'service_tier': 'default', 'finish_reason': 'stop', 'logprobs': None}, id='run--f2e4e080-1510-42e0-9e1e-41695a335db1-0', usage_metadata={'input_tokens': 106, 'output_tokens': 48, 'total_tokens': 154, 'input_token_details': {'audio': 0, 'cache_read': 0}, 'output_token_details': {'audio': 0, 'reasoning': 0}}), HumanMessage(content='I live in Europe now. And the city I live in is Zagreb.', additional_kwargs={}, response_metadata={}, id='d10038ab-ccb0-4821-aeb4-8f3213a0e7dc')]}, next=('chatbot',), config={'configurable': {'thread_id': '0_x', 'checkpoint_ns': '', 'checkpoint_id': '1f0a6638-7473-6a50-8007-e3eaf97b8375'}}, metadata={'source': 'update', 'step': 7, 'parents': {}}, created_at='2025-10-11T05:31:25.005044+00:00', parent_config={'configurable': {'thread_id': '0_x', 'checkpoint_ns': '', 'checkpoint_id': '1f0a6625-238d-6285-8006-81c8073903dd'}}, tasks=(PregelTask(id='25152b28-70a4-f3fc-591c-4bf21ac603bc', name='chatbot', path=('__pregel_pull', 'chatbot'), error=None, interrupts=(), state=None, result=None),), interrupts=())]"
      ]
     },
     "execution_count": 23,
     "metadata": {},
     "output_type": "execute_result"
    }
   ],
   "execution_count": 23
  },
  {
   "metadata": {
    "ExecuteTime": {
     "end_time": "2025-10-11T05:41:20.604302Z",
     "start_time": "2025-10-11T05:41:17.142624Z"
    }
   },
   "cell_type": "code",
   "source": [
    "\n",
    "# 업데이트 된 시점부터 다시 대화 시작.\n",
    "result = graph.invoke(\n",
    "    None,\n",
    "    {\n",
    "        'configurable': {\n",
    "            'thread_id': '0_x',\n",
    "            'checkpoint_ns': '',\n",
    "            'checkpoint_id': '1f0a6638-7473-6a50-8007-e3eaf97b8375'\n",
    "        }\n",
    "    }\n",
    ")\n",
    "\n",
    "for message in result[\"messages\"]:\n",
    "    message.pretty_print()"
   ],
   "id": "469c8bb3e064bb99",
   "outputs": [
    {
     "name": "stdout",
     "output_type": "stream",
     "text": [
      "================================\u001B[1m Human Message \u001B[0m=================================\n",
      "\n",
      "I live in Europe now. And the city I live in is Valencia.\n",
      "==================================\u001B[1m Ai Message \u001B[0m==================================\n",
      "\n",
      "Valencia is a beautiful city in Spain, known for its rich history, stunning architecture, and delicious cuisine, including the famous paella. It also boasts lovely beaches, vibrant cultural scenes, and beautiful parks like the Turia Gardens. If you have any questions about things to do, places to visit, or local customs in Valencia, feel free to ask!\n",
      "================================\u001B[1m Human Message \u001B[0m=================================\n",
      "\n",
      "how old are you\n",
      "==================================\u001B[1m Ai Message \u001B[0m==================================\n",
      "\n",
      "I don’t have an age in the traditional sense, but I was created by OpenAI and released in November 2022. My knowledge is up to date until October 2023. Is there anything specific you’d like to know?\n",
      "================================\u001B[1m Human Message \u001B[0m=================================\n",
      "\n",
      "I live in Europe now. And the city I live in is Zagreb.\n",
      "==================================\u001B[1m Ai Message \u001B[0m==================================\n",
      "\n",
      "Zagreb is the capital and largest city of Croatia, known for its charming mix of 18th and 19th-century architecture, vibrant cultural scene, and beautiful green spaces. The city's historic upper town (Gornji Grad) features landmarks like St. Mark's Church and the Zagreb Cathedral, while the lower town (Donji Grad) is home to shops, cafes, and parks. Are you looking for information on specific places to visit, activities to do, or anything else in Zagreb?\n"
     ]
    }
   ],
   "execution_count": 28
  }
 ],
 "metadata": {
  "kernelspec": {
   "display_name": "Python 3",
   "language": "python",
   "name": "python3"
  },
  "language_info": {
   "codemirror_mode": {
    "name": "ipython",
    "version": 2
   },
   "file_extension": ".py",
   "mimetype": "text/x-python",
   "name": "python",
   "nbconvert_exporter": "python",
   "pygments_lexer": "ipython2",
   "version": "2.7.6"
  }
 },
 "nbformat": 4,
 "nbformat_minor": 5
}
