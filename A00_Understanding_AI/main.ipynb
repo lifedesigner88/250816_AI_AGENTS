{
 "cells": [
  {
   "metadata": {
    "ExecuteTime": {
     "end_time": "2025-09-29T06:00:13.285762Z",
     "start_time": "2025-09-29T06:00:12.700345Z"
    }
   },
   "cell_type": "code",
   "source": [
    "import openai, json\n",
    "\n",
    "client = openai.OpenAI()\n",
    "\n",
    "messages = []\n"
   ],
   "id": "35a31ca17d688fb8",
   "outputs": [],
   "execution_count": 1
  },
  {
   "metadata": {
    "ExecuteTime": {
     "end_time": "2025-09-29T05:39:06.061348Z",
     "start_time": "2025-09-29T05:39:06.056254Z"
    }
   },
   "cell_type": "code",
   "source": [
    "def get_weather(city):\n",
    "    return \"33degrees celcius.\"\n",
    "\n",
    "\n",
    "FUNCTION_MAP = {\"get_weather\": get_weather}"
   ],
   "id": "89cefa70c2ed0ba2",
   "outputs": [],
   "execution_count": 3
  },
  {
   "metadata": {
    "ExecuteTime": {
     "end_time": "2025-09-29T05:39:06.078942Z",
     "start_time": "2025-09-29T05:39:06.075301Z"
    }
   },
   "cell_type": "code",
   "source": [
    "TOOLS = [\n",
    "    {\n",
    "        \"type\": \"function\",\n",
    "        \"function\": {\n",
    "            \"name\": \"get_weather\",\n",
    "            \"description\": \"Get the weather in a city.\",\n",
    "            \"parameters\": {\n",
    "                \"type\": \"object\",\n",
    "                \"properties\": {\n",
    "                    \"city\": {\n",
    "                        \"type\": \"string\",\n",
    "                        \"description\": \"The city to get the weather for.\",\n",
    "                    }\n",
    "                },\n",
    "                \"required\": [\"city\"]\n",
    "            }\n",
    "        }\n",
    "    }\n",
    "]"
   ],
   "id": "2c253b019dc8582d",
   "outputs": [],
   "execution_count": 4
  },
  {
   "metadata": {
    "ExecuteTime": {
     "end_time": "2025-09-29T05:39:06.093772Z",
     "start_time": "2025-09-29T05:39:06.087615Z"
    }
   },
   "cell_type": "code",
   "source": [
    "from openai.types.chat import ChatCompletionMessage\n",
    "\n",
    "\n",
    "def process_ai_response(message: ChatCompletionMessage):\n",
    "    if message.tool_calls:\n",
    "        messages.append({\n",
    "            \"role\": \"assistant\",\n",
    "            \"content\": message.content or \"\",\n",
    "            \"tool_calls\": [\n",
    "                {\n",
    "                    \"id\": tool_call.id,\n",
    "                    \"type\": \"function\",\n",
    "                    \"function\": {\n",
    "                        \"name\": tool_call.function.name,\n",
    "                        \"arguments\": tool_call.function.arguments,\n",
    "                    }\n",
    "                } for tool_call in message.tool_calls\n",
    "            ]\n",
    "        })\n",
    "\n",
    "        for tool_call in message.tool_calls:\n",
    "            function_name = tool_call.function.name\n",
    "            arguments = tool_call.function.arguments\n",
    "\n",
    "            print(f\"🔷 -- Calling function: {function_name} with arguments: {arguments}\")\n",
    "\n",
    "            try:\n",
    "                arguments = json.loads(arguments)\n",
    "            except json.JSONDecodeError:\n",
    "                arguments = {}\n",
    "\n",
    "            function_to_run = FUNCTION_MAP.get(function_name)\n",
    "\n",
    "            result = function_to_run(**arguments)\n",
    "\n",
    "            print(f\"Ran {function_name} with args {arguments} for a result of {result}\")\n",
    "\n",
    "            messages.append({\n",
    "                \"role\": \"tool\",\n",
    "                \"tool_call_id\": tool_call.id,\n",
    "                \"name\": function_name,\n",
    "                \"content\": result or \"\",\n",
    "            })\n",
    "\n",
    "        call_ai()\n",
    "    else:\n",
    "        messages.append({\"role\": \"assistant\", \"content\": message.content})\n",
    "        print(f\"--- 👁️ AI: {message.content}\")\n",
    "\n",
    "\n",
    "def call_ai():\n",
    "    response = client.chat.completions.create(\n",
    "        model=\"gpt-4o-mini\",\n",
    "        messages=messages,\n",
    "        tools=TOOLS,\n",
    "    )\n",
    "    process_ai_response(response.choices[0].message)"
   ],
   "id": "e0d75d15b44ed521",
   "outputs": [],
   "execution_count": 5
  },
  {
   "metadata": {
    "ExecuteTime": {
     "end_time": "2025-09-29T05:39:34.757855Z",
     "start_time": "2025-09-29T05:39:06.103357Z"
    }
   },
   "cell_type": "code",
   "source": [
    "while True:\n",
    "    userMessage = input(\"Send a message to the LLM... \")\n",
    "\n",
    "    if userMessage == \"quit\" or userMessage == \"q\":\n",
    "        break\n",
    "    else:\n",
    "        messages.append({\"role\": \"user\", \"content\": userMessage})\n",
    "        print(f\"--- 🧑‍🦲 User: {userMessage}\")\n",
    "        call_ai()"
   ],
   "id": "2389f9914a0b601b",
   "outputs": [
    {
     "name": "stdout",
     "output_type": "stream",
     "text": [
      "--- 🧑‍🦲 User: 됬다. \n",
      "--- 👁️ AI: 무엇이 됐다는 말씀인가요? 더 도움이 필요하시면 알려주세요!\n"
     ]
    }
   ],
   "execution_count": 6
  }
 ],
 "metadata": {
  "kernelspec": {
   "display_name": "Python 3 (ipykernel)",
   "language": "python",
   "name": "python3"
  },
  "language_info": {
   "codemirror_mode": {
    "name": "ipython",
    "version": 2
   },
   "file_extension": ".py",
   "mimetype": "text/x-python",
   "name": "python",
   "nbconvert_exporter": "python",
   "pygments_lexer": "ipython2",
   "version": "2.7.6"
  }
 },
 "nbformat": 4,
 "nbformat_minor": 5
}
