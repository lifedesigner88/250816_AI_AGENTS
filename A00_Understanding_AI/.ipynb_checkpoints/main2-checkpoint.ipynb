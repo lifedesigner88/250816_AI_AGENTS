{
 "cells": [
  {
   "cell_type": "code",
   "id": "initial_id",
   "metadata": {
    "collapsed": true,
    "ExecuteTime": {
     "end_time": "2025-09-29T06:47:16.115195Z",
     "start_time": "2025-09-29T06:47:11.251871Z"
    }
   },
   "source": [
    "import json\n",
    "import openai\n",
    "\n",
    "client = openai.OpenAI()\n",
    "\n",
    "response = client.chat.completions.create(\n",
    "    model=\"gpt-5-nano\",\n",
    "    messages=[\n",
    "        {\n",
    "            \"role\": \"user\",\n",
    "            \"content\": \"hello\"\n",
    "\n",
    "        }\n",
    "    ]\n",
    ")\n",
    "\n",
    "print(\"응답 내용:\")\n",
    "print(response.choices[0].message.content)\n",
    "\n",
    "# 방법 2: JSON 형태로 예쁘게 출력\n",
    "print(\"\\n전체 응답 (JSON 형태):\")\n",
    "print(json.dumps(response.model_dump(), indent=2, ensure_ascii=False))\n",
    "\n",
    "# 방법 3: 주요 정보만 구조화해서 출력\n",
    "print(\"\\n구조화된 응답:\")\n",
    "print(f\"모델: {response.model}\")\n",
    "print(f\"생성된 시간: {response.created}\")\n",
    "print(f\"응답 내용: {response.choices[0].message.content}\")\n",
    "print(f\"토큰 사용량: {response.usage.total_tokens} (입력: {response.usage.prompt_tokens}, 출력: {response.usage.completion_tokens})\")"
   ],
   "outputs": [
    {
     "name": "stdout",
     "output_type": "stream",
     "text": [
      "응답 내용:\n",
      "Hi there! How can I help today? I can answer questions, explain concepts, draft or edit text, help with code, plan or brainstorm ideas, translate or summarize, and more. Tell me what you’re aiming to do or drop a prompt, and I’ll dive in.\n",
      "\n",
      "전체 응답 (JSON 형태):\n",
      "{\n",
      "  \"id\": \"chatcmpl-CL1xAJ3VYv5mFRQ94quDvR2YwtBAq\",\n",
      "  \"choices\": [\n",
      "    {\n",
      "      \"finish_reason\": \"stop\",\n",
      "      \"index\": 0,\n",
      "      \"logprobs\": null,\n",
      "      \"message\": {\n",
      "        \"content\": \"Hi there! How can I help today? I can answer questions, explain concepts, draft or edit text, help with code, plan or brainstorm ideas, translate or summarize, and more. Tell me what you’re aiming to do or drop a prompt, and I’ll dive in.\",\n",
      "        \"refusal\": null,\n",
      "        \"role\": \"assistant\",\n",
      "        \"annotations\": [],\n",
      "        \"audio\": null,\n",
      "        \"function_call\": null,\n",
      "        \"tool_calls\": null\n",
      "      }\n",
      "    }\n",
      "  ],\n",
      "  \"created\": 1759128432,\n",
      "  \"model\": \"gpt-5-nano-2025-08-07\",\n",
      "  \"object\": \"chat.completion\",\n",
      "  \"service_tier\": \"default\",\n",
      "  \"system_fingerprint\": null,\n",
      "  \"usage\": {\n",
      "    \"completion_tokens\": 386,\n",
      "    \"prompt_tokens\": 7,\n",
      "    \"total_tokens\": 393,\n",
      "    \"completion_tokens_details\": {\n",
      "      \"accepted_prediction_tokens\": 0,\n",
      "      \"audio_tokens\": 0,\n",
      "      \"reasoning_tokens\": 320,\n",
      "      \"rejected_prediction_tokens\": 0\n",
      "    },\n",
      "    \"prompt_tokens_details\": {\n",
      "      \"audio_tokens\": 0,\n",
      "      \"cached_tokens\": 0\n",
      "    }\n",
      "  }\n",
      "}\n",
      "\n",
      "구조화된 응답:\n",
      "모델: gpt-5-nano-2025-08-07\n",
      "생성된 시간: 1759128432\n",
      "응답 내용: Hi there! How can I help today? I can answer questions, explain concepts, draft or edit text, help with code, plan or brainstorm ideas, translate or summarize, and more. Tell me what you’re aiming to do or drop a prompt, and I’ll dive in.\n",
      "토큰 사용량: 393 (입력: 7, 출력: 386)\n"
     ]
    }
   ],
   "execution_count": 5
  }
 ],
 "metadata": {
  "kernelspec": {
   "display_name": "Python 3 (ipykernel)",
   "language": "python",
   "name": "python3"
  },
  "language_info": {
   "codemirror_mode": {
    "name": "ipython",
    "version": 2
   },
   "file_extension": ".py",
   "mimetype": "text/x-python",
   "name": "python",
   "nbconvert_exporter": "python",
   "pygments_lexer": "ipython2",
   "version": "2.7.6"
  }
 },
 "nbformat": 4,
 "nbformat_minor": 5
}
