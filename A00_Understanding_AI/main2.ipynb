{
 "cells": [
  {
   "metadata": {
    "collapsed": true,
    "ExecuteTime": {
     "end_time": "2025-09-30T03:09:31.884011Z",
     "start_time": "2025-09-30T03:09:31.682100Z"
    }
   },
   "cell_type": "code",
   "source": [
    "import openai\n",
    "\n",
    "client = openai.OpenAI()\n",
    "messages = []\n",
    "\n"
   ],
   "id": "a9e6cda6082ea6e2",
   "outputs": [],
   "execution_count": 32
  },
  {
   "metadata": {
    "ExecuteTime": {
     "end_time": "2025-09-30T03:09:31.892134Z",
     "start_time": "2025-09-30T03:09:31.889624Z"
    }
   },
   "cell_type": "code",
   "source": [
    "def get_weather(city):\n",
    "    return \"33 degress celcius.\"\n",
    "\n",
    "\n",
    "FUNCTION_MAP = {\"get_weather\": get_weather}"
   ],
   "id": "b83aaf111973be02",
   "outputs": [],
   "execution_count": 33
  },
  {
   "metadata": {
    "ExecuteTime": {
     "end_time": "2025-09-30T03:09:31.902779Z",
     "start_time": "2025-09-30T03:09:31.899684Z"
    }
   },
   "cell_type": "code",
   "source": [
    "TOOLS = [\n",
    "    {\n",
    "        \"type\": \"function\",\n",
    "        \"function\": {\n",
    "            \"name\": \"get_weather\",\n",
    "            \"description\": \"A function to get the weather of a city.\",\n",
    "            \"parameters\": {\n",
    "                \"type\": \"object\",\n",
    "                \"properties\": {\n",
    "                    \"city\": {\n",
    "                        \"type\": \"string\",\n",
    "                        \"description\": \"The name of the city to get the weather of.\"\n",
    "                    }\n",
    "                }\n",
    "            },\n",
    "            \"required\": [\"city\"],\n",
    "        }\n",
    "    }\n",
    "]"
   ],
   "id": "9264c2e0157c016f",
   "outputs": [],
   "execution_count": 34
  },
  {
   "metadata": {
    "ExecuteTime": {
     "end_time": "2025-09-30T03:09:31.914050Z",
     "start_time": "2025-09-30T03:09:31.910395Z"
    }
   },
   "cell_type": "code",
   "source": [
    "import json\n",
    "\n",
    "def call_ai():\n",
    "    response = client.chat.completions.create(\n",
    "        model=\"gpt-5-nano-2025-08-07\",\n",
    "        messages=messages,\n",
    "        tools=TOOLS,\n",
    "    )\n",
    "    print(\"🔥🔥🔥\")\n",
    "    print(json.dumps(response.choices[0].message.model_dump(), indent=4, ensure_ascii=False))\n",
    "    print(\"🔥🔥🔥\")\n",
    "    content = response.choices[0].message.content\n",
    "    messages.append({\n",
    "        \"role\": \"assistant\",\n",
    "        \"content\": content,\n",
    "    })\n",
    "    print(f\"🔵 AI: {content}\")"
   ],
   "id": "2cf3edf21975a57e",
   "outputs": [],
   "execution_count": 35
  },
  {
   "metadata": {
    "ExecuteTime": {
     "end_time": "2025-09-30T03:10:53.711450Z",
     "start_time": "2025-09-30T03:09:31.923348Z"
    }
   },
   "cell_type": "code",
   "source": [
    "while True:\n",
    "    message = input(\"Send the message to LLM\")\n",
    "    if message == 'quit' or message == 'q':\n",
    "        break\n",
    "    else:\n",
    "        messages.append({\n",
    "            \"role\": \"user\",\n",
    "            \"content\": message\n",
    "        })\n",
    "    print(f\"🟢 User: {message}\")\n",
    "    call_ai()\n",
    "\n"
   ],
   "id": "dbb6e8952bdfa58d",
   "outputs": [
    {
     "name": "stdout",
     "output_type": "stream",
     "text": [
      "user: let me know todays weather\n",
      "🔥🔥🔥\n",
      "{\n",
      "    \"content\": \"Sure—which city or location would you like today's weather for? Once you tell me the city, I’ll fetch it. Also, do you prefer Celsius or Fahrenheit?\",\n",
      "    \"refusal\": null,\n",
      "    \"role\": \"assistant\",\n",
      "    \"annotations\": [],\n",
      "    \"audio\": null,\n",
      "    \"function_call\": null,\n",
      "    \"tool_calls\": null\n",
      "}\n",
      "🔥🔥🔥\n",
      "ai: Sure—which city or location would you like today's weather for? Once you tell me the city, I’ll fetch it. Also, do you prefer Celsius or Fahrenheit?\n",
      "user: tokyo in Japan\n",
      "🔥🔥🔥\n",
      "{\n",
      "    \"content\": null,\n",
      "    \"refusal\": null,\n",
      "    \"role\": \"assistant\",\n",
      "    \"annotations\": [],\n",
      "    \"audio\": null,\n",
      "    \"function_call\": null,\n",
      "    \"tool_calls\": [\n",
      "        {\n",
      "            \"id\": \"call_ADSsQeXKX2ao21O2AisfGsJN\",\n",
      "            \"function\": {\n",
      "                \"arguments\": \"{\\\"city\\\":\\\"Tokyo, Japan\\\"}\",\n",
      "                \"name\": \"get_weather\"\n",
      "            },\n",
      "            \"type\": \"function\"\n",
      "        }\n",
      "    ]\n",
      "}\n",
      "🔥🔥🔥\n",
      "ai: None\n"
     ]
    }
   ],
   "execution_count": 36
  }
 ],
 "metadata": {
  "kernelspec": {
   "display_name": "Python 3 (ipykernel)",
   "language": "python",
   "name": "python3"
  },
  "language_info": {
   "codemirror_mode": {
    "name": "ipython",
    "version": 2
   },
   "file_extension": ".py",
   "mimetype": "text/x-python",
   "name": "python",
   "nbconvert_exporter": "python",
   "pygments_lexer": "ipython2",
   "version": "2.7.6"
  }
 },
 "nbformat": 4,
 "nbformat_minor": 5
}
