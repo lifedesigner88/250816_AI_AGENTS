{
 "cells": [
  {
   "metadata": {
    "collapsed": true
   },
   "cell_type": "code",
   "source": [
    "import openai\n",
    "\n",
    "client = openai.OpenAI()\n",
    "messages = []\n",
    "\n",
    "# print(json.dumps(response.model_dump(), indent=4, ensure_ascii=False))\n"
   ],
   "id": "1df21a11b8ec5a9d",
   "outputs": [],
   "execution_count": null
  },
  {
   "metadata": {},
   "cell_type": "code",
   "source": [
    "def call_ai():\n",
    "    response = client.chat.completions.create(\n",
    "        model=\"gpt-5-nano-2025-08-07\",\n",
    "        messages=messages,\n",
    "    )\n",
    "    content = response.choices[0].message.content\n",
    "    messages.append({\n",
    "        \"role\": \"assistant\",\n",
    "        \"content\": content,\n",
    "    })\n",
    "    print(f\"ai: {content}\")"
   ],
   "id": "d0554f4d258bdd74",
   "outputs": [],
   "execution_count": null
  },
  {
   "metadata": {},
   "cell_type": "code",
   "source": [
    "while True:\n",
    "    message = input(\"Send the message to LLM\")\n",
    "    if message == 'quit' or message == 'q':\n",
    "        break\n",
    "    else:\n",
    "        messages.append({\n",
    "            \"role\": \"user\",\n",
    "            \"content\": message\n",
    "        })\n",
    "    print(f\"user: {message}\")\n",
    "    call_ai()\n",
    "\n"
   ],
   "id": "e3579fbfe905202d",
   "outputs": [],
   "execution_count": null
  }
 ],
 "metadata": {
  "kernelspec": {
   "display_name": "Python 3 (ipykernel)",
   "language": "python",
   "name": "python3"
  },
  "language_info": {
   "codemirror_mode": {
    "name": "ipython",
    "version": 2
   },
   "file_extension": ".py",
   "mimetype": "text/x-python",
   "name": "python",
   "nbconvert_exporter": "python",
   "pygments_lexer": "ipython2",
   "version": "2.7.6"
  }
 },
 "nbformat": 4,
 "nbformat_minor": 5
}
