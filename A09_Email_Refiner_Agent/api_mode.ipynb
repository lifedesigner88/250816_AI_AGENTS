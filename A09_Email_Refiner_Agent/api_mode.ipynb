{
 "cells": [
  {
   "cell_type": "code",
   "id": "initial_id",
   "metadata": {
    "collapsed": true
   },
   "source": [
    "import requests\n",
    "\n",
    "BASE_URL = \"http://127.0.0.1:8000\"\n",
    "APP_NAME = \"travel_advisor_agent\"\n",
    "USER_ID = \"u_123\"\n"
   ],
   "outputs": [],
   "execution_count": null
  },
  {
   "metadata": {},
   "cell_type": "code",
   "source": [
    "CREATESESSION = f\"/apps/{APP_NAME}/users/{USER_ID}/sessions\"\n",
    "response = requests.post(f\"{BASE_URL}{CREATESESSION}\")\n",
    "SESSION_ID = response.json()[\"id\"]\n",
    "\n",
    "print(SESSION_ID, \"Session ID\")"
   ],
   "id": "25a9cda9291e0a00",
   "outputs": [],
   "execution_count": null
  },
  {
   "metadata": {},
   "cell_type": "code",
   "source": [
    "message = {\n",
    "    \"appName\": APP_NAME,\n",
    "    \"userId\": USER_ID,\n",
    "    \"sessionId\": SESSION_ID,\n",
    "    \"newMessage\": {\n",
    "        \"parts\": [{\"text\": \"도쿄에 놀러가고 싶어.\"}],\n",
    "        \"role\": \"user\"\n",
    "    }\n",
    "}\n",
    "\n",
    "response = requests.post(f\"{BASE_URL}/run\", json=message)\n",
    "print(response.json())"
   ],
   "id": "1068d2ccf0b27ed",
   "outputs": [],
   "execution_count": null
  },
  {
   "metadata": {},
   "cell_type": "code",
   "source": [
    "data = response.json()\n",
    "\n",
    "for event in data:\n",
    "    content = event.get(\"content\")\n",
    "    parts = content.get(\"parts\")\n",
    "    for part in parts:\n",
    "        function_call = part.get(\"functionCall\", None)\n",
    "        if function_call:\n",
    "            print(function_call.get(\"name\"))\n",
    "        text = part.get(\"text\", None)\n",
    "        if text:\n",
    "            print(text)\n",
    "    print(\"=\" * 60)"
   ],
   "id": "4c9365db3d4bdf28",
   "outputs": [],
   "execution_count": null
  },
  {
   "metadata": {},
   "cell_type": "code",
   "source": [
    "import sseclient\n",
    "import json\n",
    "\n",
    "message = {\n",
    "    \"appName\": APP_NAME,\n",
    "    \"userId\": USER_ID,\n",
    "    \"sessionId\": SESSION_ID,\n",
    "    \"newMessage\": {\n",
    "        \"parts\": [{\"text\": \"What is the weather there?\"}],\n",
    "        \"role\": \"user\",\n",
    "    },\n",
    "    \"streaming\": True,\n",
    "}\n",
    "response = requests.post(\n",
    "    f\"{BASE_URL}/run_sse\",\n",
    "    json=message,\n",
    "    stream=True,\n",
    ")\n",
    "\n",
    "client = sseclient.SSEClient(response)\n",
    "\n",
    "for event in client.events():\n",
    "    data = json.loads(event.data)\n",
    "    content = data.get(\"content\")\n",
    "    parts = content.get(\"parts\")\n",
    "    for part in parts:\n",
    "        function_call = part.get(\"functionCall\", None)\n",
    "        if function_call:\n",
    "            print(function_call.get(\"name\"))\n",
    "        text = part.get(\"text\", None)\n",
    "        if text:\n",
    "            print(text)\n",
    "    print(\"=\" * 60)"
   ],
   "id": "d6c18d995927883",
   "outputs": [],
   "execution_count": null
  }
 ],
 "metadata": {
  "kernelspec": {
   "display_name": "Python 3",
   "language": "python",
   "name": "python3"
  },
  "language_info": {
   "codemirror_mode": {
    "name": "ipython",
    "version": 2
   },
   "file_extension": ".py",
   "mimetype": "text/x-python",
   "name": "python",
   "nbconvert_exporter": "python",
   "pygments_lexer": "ipython2",
   "version": "2.7.6"
  }
 },
 "nbformat": 4,
 "nbformat_minor": 5
}
