{
 "cells": [
  {
   "cell_type": "code",
   "id": "initial_id",
   "metadata": {
    "collapsed": true,
    "ExecuteTime": {
     "end_time": "2025-10-09T05:04:36.240283Z",
     "start_time": "2025-10-09T05:04:36.237452Z"
    }
   },
   "source": [
    "import requests\n",
    "\n",
    "BASE_URL = \"http://127.0.0.1:8000\"\n",
    "APP_NAME = \"travel_advisor_agent\"\n",
    "USER_ID = \"u_123\"\n"
   ],
   "outputs": [],
   "execution_count": 16
  },
  {
   "metadata": {
    "ExecuteTime": {
     "end_time": "2025-10-09T05:05:46.684937Z",
     "start_time": "2025-10-09T05:05:46.678907Z"
    }
   },
   "cell_type": "code",
   "source": [
    "CREATESESSION = f\"/apps/{APP_NAME}/users/{USER_ID}/sessions\"\n",
    "response = requests.post(f\"{BASE_URL}{CREATESESSION}\")\n",
    "SESSION_ID = response.json()[\"id\"]\n",
    "\n",
    "print(SESSION_ID, \"Session ID\")"
   ],
   "id": "25a9cda9291e0a00",
   "outputs": [
    {
     "name": "stdout",
     "output_type": "stream",
     "text": [
      "203b0bee-2b47-4420-b0b0-141e51a6f26f Session ID\n"
     ]
    }
   ],
   "execution_count": 20
  },
  {
   "metadata": {
    "ExecuteTime": {
     "end_time": "2025-10-09T05:05:58.634072Z",
     "start_time": "2025-10-09T05:05:49.605517Z"
    }
   },
   "cell_type": "code",
   "source": [
    "message = {\n",
    "    \"appName\": APP_NAME,\n",
    "    \"userId\": USER_ID,\n",
    "    \"sessionId\": SESSION_ID,\n",
    "    \"newMessage\": {\n",
    "        \"parts\": [{\"text\": \"도쿄에 놀러가고 싶어.\"}],\n",
    "        \"role\": \"user\"\n",
    "    }\n",
    "}\n",
    "\n",
    "response = requests.post(f\"{BASE_URL}/run\", json=message)\n",
    "print(response.json())"
   ],
   "id": "1068d2ccf0b27ed",
   "outputs": [
    {
     "name": "stdout",
     "output_type": "stream",
     "text": [
      "[{'content': {'parts': [{'functionCall': {'id': 'call_HtGuQYR0N18ricXPYOUuasZN', 'args': {'location': 'Tokyo'}, 'name': 'get_weather'}}, {'functionCall': {'id': 'call_Bha0ZeeYGXDQNvkM5DAce9Ao', 'args': {'location': 'Tokyo', 'category': 'general'}, 'name': 'get_local_attractions'}}], 'role': 'model'}, 'partial': False, 'usageMetadata': {'candidatesTokenCount': 50, 'promptTokenCount': 371, 'totalTokenCount': 421}, 'invocationId': 'e-a3b505c7-c49f-4e60-99f3-b7b817b1e904', 'author': 'TravelAdvisorAgent', 'actions': {'stateDelta': {}, 'artifactDelta': {}, 'requestedAuthConfigs': {}, 'requestedToolConfirmations': {}}, 'longRunningToolIds': [], 'id': 'b26e81f4-35c1-4451-a21a-ea88c48275bd', 'timestamp': 1759986352.554622}, {'content': {'parts': [{'functionResponse': {'id': 'call_HtGuQYR0N18ricXPYOUuasZN', 'name': 'get_weather', 'response': {'location': 'Tokyo', 'temperature': '22°C', 'condition': 'Partly cloudy', 'humidity': '65%', 'wind': '12 km/h', 'forecast': 'Mild weather with occasional clouds expected throughout the day'}}}, {'functionResponse': {'id': 'call_Bha0ZeeYGXDQNvkM5DAce9Ao', 'name': 'get_local_attractions', 'response': {'location': 'Tokyo', 'category': 'general', 'attractions': [], 'total_count': 0}}}], 'role': 'user'}, 'invocationId': 'e-a3b505c7-c49f-4e60-99f3-b7b817b1e904', 'author': 'TravelAdvisorAgent', 'actions': {'stateDelta': {}, 'artifactDelta': {}, 'requestedAuthConfigs': {}, 'requestedToolConfirmations': {}}, 'id': '263db5d4-8fba-4ca4-8f17-3d3fe1b0ecdf', 'timestamp': 1759986354.948235}, {'content': {'parts': [{'text': '도쿄 여행을 계획하시다니 좋네요! 현재 도쿄의 날씨는 부분적으로 구름이 있고 기온은 약 22°C입니다. 바람은 12 km/h로 불고 있으며, 습도는 65%입니다. 오늘은 대체로 온화한 날씨가 예상되고 있습니다.\\n\\n도쿄에는 흥미로운 명소가 많이 있습니다. 일반적으로 도쿄에서 놓치지 말아야 할 인기 있는 관광지는 다음과 같습니다:\\n\\n1. **도쿄 타워** - 도쿄의 스카이라인을 감상할 수 있는 랜드마크.\\n2. **메이지 신궁** - 전통적인 일본의 신사를 체험할 수 있는 곳.\\n3. **아사쿠사와 센소지** - 고즈넉한 절과 전통적인 거리 풍경.\\n4. **시부야와 시부야 교차로** - 활기 넘치는 도심의 교차로.\\n5. **긴자** - 쇼핑과 레스토랑이 가득한 지역.\\n\\n여행을 준비하면서 이러한 장소들을 방문해보시면 좋을 것 같습니다. 특별히 알고 싶으신 카테고리의 명소가 있다면 그에 대한 정보를 더 제공해 드릴 수 있습니다!'}], 'role': 'model'}, 'partial': False, 'usageMetadata': {'candidatesTokenCount': 275, 'promptTokenCount': 510, 'totalTokenCount': 785}, 'invocationId': 'e-a3b505c7-c49f-4e60-99f3-b7b817b1e904', 'author': 'TravelAdvisorAgent', 'actions': {'stateDelta': {}, 'artifactDelta': {}, 'requestedAuthConfigs': {}, 'requestedToolConfirmations': {}}, 'id': 'a649a9ae-c2f4-41a1-aa92-d92647782f5d', 'timestamp': 1759986354.950794}]\n"
     ]
    }
   ],
   "execution_count": 21
  },
  {
   "metadata": {
    "ExecuteTime": {
     "end_time": "2025-10-09T05:06:09.972858Z",
     "start_time": "2025-10-09T05:06:09.959406Z"
    }
   },
   "cell_type": "code",
   "source": [
    "data = response.json()\n",
    "\n",
    "for event in data:\n",
    "    content = event.get(\"content\")\n",
    "    parts = content.get(\"parts\")\n",
    "    for part in parts:\n",
    "        function_call = part.get(\"functionCall\", None)\n",
    "        if function_call:\n",
    "            print(function_call.get(\"name\"))\n",
    "        text = part.get(\"text\", None)\n",
    "        if text:\n",
    "            print(text)\n",
    "    print(\"=\" * 60)"
   ],
   "id": "4c9365db3d4bdf28",
   "outputs": [
    {
     "name": "stdout",
     "output_type": "stream",
     "text": [
      "get_weather\n",
      "get_local_attractions\n",
      "============================================================\n",
      "============================================================\n",
      "도쿄 여행을 계획하시다니 좋네요! 현재 도쿄의 날씨는 부분적으로 구름이 있고 기온은 약 22°C입니다. 바람은 12 km/h로 불고 있으며, 습도는 65%입니다. 오늘은 대체로 온화한 날씨가 예상되고 있습니다.\n",
      "\n",
      "도쿄에는 흥미로운 명소가 많이 있습니다. 일반적으로 도쿄에서 놓치지 말아야 할 인기 있는 관광지는 다음과 같습니다:\n",
      "\n",
      "1. **도쿄 타워** - 도쿄의 스카이라인을 감상할 수 있는 랜드마크.\n",
      "2. **메이지 신궁** - 전통적인 일본의 신사를 체험할 수 있는 곳.\n",
      "3. **아사쿠사와 센소지** - 고즈넉한 절과 전통적인 거리 풍경.\n",
      "4. **시부야와 시부야 교차로** - 활기 넘치는 도심의 교차로.\n",
      "5. **긴자** - 쇼핑과 레스토랑이 가득한 지역.\n",
      "\n",
      "여행을 준비하면서 이러한 장소들을 방문해보시면 좋을 것 같습니다. 특별히 알고 싶으신 카테고리의 명소가 있다면 그에 대한 정보를 더 제공해 드릴 수 있습니다!\n",
      "============================================================\n"
     ]
    }
   ],
   "execution_count": 22
  }
 ],
 "metadata": {
  "kernelspec": {
   "display_name": "Python 3",
   "language": "python",
   "name": "python3"
  },
  "language_info": {
   "codemirror_mode": {
    "name": "ipython",
    "version": 2
   },
   "file_extension": ".py",
   "mimetype": "text/x-python",
   "name": "python",
   "nbconvert_exporter": "python",
   "pygments_lexer": "ipython2",
   "version": "2.7.6"
  }
 },
 "nbformat": 4,
 "nbformat_minor": 5
}
