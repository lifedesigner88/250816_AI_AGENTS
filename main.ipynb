{
 "cells": [
  {
   "metadata": {
    "ExecuteTime": {
     "end_time": "2025-08-16T07:24:24.674032Z",
     "start_time": "2025-08-16T07:24:24.083193Z"
    }
   },
   "cell_type": "code",
   "source": [
    "import openai\n",
    "\n",
    "client = openai.OpenAI()\n",
    "\n",
    "messages = []\n"
   ],
   "id": "35a31ca17d688fb8",
   "outputs": [],
   "execution_count": 1
  },
  {
   "metadata": {
    "ExecuteTime": {
     "end_time": "2025-08-16T07:24:26.969995Z",
     "start_time": "2025-08-16T07:24:26.957316Z"
    }
   },
   "cell_type": "code",
   "source": [
    "def call_ai():\n",
    "    response = client.chat.completions.create(\n",
    "        model=\"gpt-4o-mini\",\n",
    "        messages=messages,\n",
    "    )\n",
    "    message = response.choices[0].message.content\n",
    "    messages.append({\"role\": \"assistant\", \"content\": message})\n",
    "    print(f\"AI: {message}\")\n"
   ],
   "id": "78ee5a737290c7e0",
   "outputs": [],
   "execution_count": 2
  },
  {
   "metadata": {
    "ExecuteTime": {
     "end_time": "2025-08-16T07:27:28.225337Z",
     "start_time": "2025-08-16T07:24:30.550768Z"
    }
   },
   "cell_type": "code",
   "source": [
    "while True:\n",
    "    message = input(\"Send a message to the LLM... \")\n",
    "\n",
    "    if message == \"quit\" or message == \"q\":\n",
    "        break\n",
    "    else:\n",
    "        messages.append({\"role\": \"user\", \"content\": message})\n",
    "        call_ai()"
   ],
   "id": "2389f9914a0b601b",
   "outputs": [
    {
     "name": "stdout",
     "output_type": "stream",
     "text": [
      "AI: Nice to meet you, Sejong! How can I assist you today?\n",
      "AI: Yes, I remember your name is Sejong! How can I help you today?\n",
      "AI: I don't have a physical location since I'm an AI, but I'm here to help you no matter where you are! It's great to connect with someone from Korea. What would you like to talk about?\n",
      "AI: The first question you asked was, \"did you remember my name?\" As for the closest island country to Korea, that would likely be Japan, specifically the islands of Tsushima or the main island of Honshu, depending on where in Korea you are located. Is there anything else you’d like to know?\n"
     ]
    }
   ],
   "execution_count": 3
  },
  {
   "metadata": {},
   "cell_type": "code",
   "outputs": [],
   "execution_count": null,
   "source": "",
   "id": "28bc30dd4e2ec3a7"
  }
 ],
 "metadata": {
  "kernelspec": {
   "display_name": "Python 3 (ipykernel)",
   "language": "python",
   "name": "python3"
  },
  "language_info": {
   "codemirror_mode": {
    "name": "ipython",
    "version": 2
   },
   "file_extension": ".py",
   "mimetype": "text/x-python",
   "name": "python",
   "nbconvert_exporter": "python",
   "pygments_lexer": "ipython2",
   "version": "2.7.6"
  }
 },
 "nbformat": 4,
 "nbformat_minor": 5
}
