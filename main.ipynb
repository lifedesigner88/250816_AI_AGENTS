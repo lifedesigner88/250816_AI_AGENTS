{
 "cells": [
  {
   "metadata": {
    "ExecuteTime": {
     "end_time": "2025-08-16T06:26:01.599275Z",
     "start_time": "2025-08-16T06:26:00.775034Z"
    }
   },
   "cell_type": "code",
   "source": [
    "import openai\n",
    "\n",
    "PROMPT = \"\"\"\n",
    "I have the following functions in my system.\n",
    "\n",
    "'get_weather'\n",
    "'get_currency'\n",
    "'get_news'\n",
    "\n",
    "All of them receive the name of a country as an argument (i.e. get_weather('Spain'))\n",
    "\n",
    "Please, answer with the name of the function that you would like me to run.\n",
    "\n",
    "Please, say nothing else, just the name of the function with the arguments.\n",
    "\n",
    "Answer the following question:\n",
    "\n",
    "What is the weather in Korea?\n",
    "\"\"\"\n",
    "\n",
    "client = openai.OpenAI()\n",
    "response = client.chat.completions.create(\n",
    "    model=\"gpt-4o-mini\",\n",
    "    messages=[\n",
    "        {\n",
    "            \"role\": \"user\",\n",
    "            \"content\": PROMPT\n",
    "        }\n",
    "    ]\n",
    ")\n",
    "\n",
    "\n",
    "response.choices[0].message.content"
   ],
   "id": "5cd199bf4e278940",
   "outputs": [
    {
     "data": {
      "text/plain": [
       "\"get_weather('Korea')\""
      ]
     },
     "execution_count": 10,
     "metadata": {},
     "output_type": "execute_result"
    }
   ],
   "execution_count": 10
  }
 ],
 "metadata": {
  "kernelspec": {
   "display_name": "Python 3 (ipykernel)",
   "language": "python",
   "name": "python3"
  },
  "language_info": {
   "codemirror_mode": {
    "name": "ipython",
    "version": 2
   },
   "file_extension": ".py",
   "mimetype": "text/x-python",
   "name": "python",
   "nbconvert_exporter": "python",
   "pygments_lexer": "ipython2",
   "version": "2.7.6"
  }
 },
 "nbformat": 4,
 "nbformat_minor": 5
}
