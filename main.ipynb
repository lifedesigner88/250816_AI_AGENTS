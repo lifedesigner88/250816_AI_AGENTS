{
 "cells": [
  {
   "metadata": {
    "ExecuteTime": {
     "end_time": "2025-08-17T01:23:18.358100Z",
     "start_time": "2025-08-17T01:23:18.177622Z"
    }
   },
   "cell_type": "code",
   "source": [
    "import openai, json\n",
    "\n",
    "client = openai.OpenAI()\n",
    "\n",
    "messages = []\n"
   ],
   "id": "35a31ca17d688fb8",
   "outputs": [],
   "execution_count": 53
  },
  {
   "metadata": {
    "ExecuteTime": {
     "end_time": "2025-08-17T01:23:18.374600Z",
     "start_time": "2025-08-17T01:23:18.371138Z"
    }
   },
   "cell_type": "code",
   "source": [
    "def get_weather(city):\n",
    "    return \"33degrees celcius.\"\n",
    "\n",
    "\n",
    "FUNCTION_MAP = {\"get_weather\": get_weather}"
   ],
   "id": "89cefa70c2ed0ba2",
   "outputs": [
    {
     "name": "stdout",
     "output_type": "stream",
     "text": [
      "London : 33degrees celcius.\n"
     ]
    }
   ],
   "execution_count": 54
  },
  {
   "metadata": {
    "ExecuteTime": {
     "end_time": "2025-08-17T01:23:18.398996Z",
     "start_time": "2025-08-17T01:23:18.396269Z"
    }
   },
   "cell_type": "code",
   "source": [
    "TOOLS = [\n",
    "    {\n",
    "        \"type\": \"function\",\n",
    "        \"function\": {\n",
    "            \"name\": \"get_weather\",\n",
    "            \"description\": \"Get the weather in a city.\",\n",
    "            \"parameters\": {\n",
    "                \"type\": \"object\",\n",
    "                \"properties\": {\n",
    "                    \"city\": {\n",
    "                        \"type\": \"string\",\n",
    "                        \"description\": \"The city to get the weather for.\",\n",
    "                    }\n",
    "                },\n",
    "                \"required\": [\"city\"]\n",
    "            }\n",
    "        }\n",
    "    }\n",
    "]"
   ],
   "id": "2c253b019dc8582d",
   "outputs": [],
   "execution_count": 55
  },
  {
   "metadata": {
    "ExecuteTime": {
     "end_time": "2025-08-17T01:23:18.426951Z",
     "start_time": "2025-08-17T01:23:18.422281Z"
    }
   },
   "cell_type": "code",
   "source": [
    "from openai.types.chat import ChatCompletionMessage\n",
    "\n",
    "\n",
    "def process_ai_response(message: ChatCompletionMessage):\n",
    "    if message.tool_calls:\n",
    "        messages.append({\n",
    "            \"role\": \"assistant\",\n",
    "            \"content\": message.content or \"\",\n",
    "            \"tool_calls\": [\n",
    "                {\n",
    "                    \"id\": tool_call.id,\n",
    "                    \"type\": \"function\",\n",
    "                    \"function\": {\n",
    "                        \"name\": tool_call.function.name,\n",
    "                        \"arguments\": tool_call.function.arguments,\n",
    "                    }\n",
    "                } for tool_call in message.tool_calls\n",
    "            ]\n",
    "        })\n",
    "\n",
    "        for tool_call in message.tool_calls:\n",
    "            function_name = tool_call.function.name\n",
    "            arguments = tool_call.function.arguments\n",
    "\n",
    "            print(f\"🔷 -- Calling function: {function_name} with arguments: {arguments}\")\n",
    "\n",
    "            try:\n",
    "                arguments = json.loads(arguments)\n",
    "            except json.JSONDecodeError:\n",
    "                arguments = {}\n",
    "\n",
    "            function_to_run = FUNCTION_MAP.get(function_name)\n",
    "\n",
    "            result = function_to_run(**arguments)\n",
    "\n",
    "            print(f\"Ran {function_name} with args {arguments} for a result of {result}\")\n",
    "\n",
    "            messages.append({\n",
    "                \"role\": \"tool\",\n",
    "                \"tool_call_id\": tool_call.id,\n",
    "                \"name\": function_name,\n",
    "                \"content\": result or \"\",\n",
    "            })\n",
    "\n",
    "        call_ai()\n",
    "    else:\n",
    "        messages.append({\"role\": \"assistant\", \"content\": message.content})\n",
    "        print(f\"--- 👁️ AI: {message.content}\")\n",
    "\n",
    "\n",
    "def call_ai():\n",
    "    response = client.chat.completions.create(\n",
    "        model=\"gpt-4o-mini\",\n",
    "        messages=messages,\n",
    "        tools=TOOLS,\n",
    "    )\n",
    "    process_ai_response(response.choices[0].message)"
   ],
   "id": "e0d75d15b44ed521",
   "outputs": [],
   "execution_count": 56
  },
  {
   "metadata": {
    "ExecuteTime": {
     "end_time": "2025-08-17T01:23:39.269319Z",
     "start_time": "2025-08-17T01:23:18.437978Z"
    }
   },
   "cell_type": "code",
   "source": [
    "while True:\n",
    "    userMessage = input(\"Send a message to the LLM... \")\n",
    "\n",
    "    if userMessage == \"quit\" or userMessage == \"q\":\n",
    "        break\n",
    "    else:\n",
    "        messages.append({\"role\": \"user\", \"content\": userMessage})\n",
    "        print(f\"--- 🧑‍🦲 User: {userMessage}\")\n",
    "        call_ai()"
   ],
   "id": "2389f9914a0b601b",
   "outputs": [
    {
     "name": "stdout",
     "output_type": "stream",
     "text": [
      "--- 🧑‍🦲 User: let me knows the weather of seoule\n",
      "🔷 -- Calling function: get_weather with arguments: {\"city\":\"seoul\"}\n",
      "Ran get_weather with args {'city': 'seoul'} for a result of seoul : 33degrees celcius.\n",
      "--- 👁️ AI: The weather in Seoul is 33 degrees Celsius.\n"
     ]
    }
   ],
   "execution_count": 57
  }
 ],
 "metadata": {
  "kernelspec": {
   "display_name": "Python 3 (ipykernel)",
   "language": "python",
   "name": "python3"
  },
  "language_info": {
   "codemirror_mode": {
    "name": "ipython",
    "version": 2
   },
   "file_extension": ".py",
   "mimetype": "text/x-python",
   "name": "python",
   "nbconvert_exporter": "python",
   "pygments_lexer": "ipython2",
   "version": "2.7.6"
  }
 },
 "nbformat": 4,
 "nbformat_minor": 5
}
