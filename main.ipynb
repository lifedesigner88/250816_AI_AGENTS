{
 "cells": [
  {
   "metadata": {
    "ExecuteTime": {
     "end_time": "2025-08-16T08:57:30.928666Z",
     "start_time": "2025-08-16T08:57:30.743532Z"
    }
   },
   "cell_type": "code",
   "source": [
    "import openai\n",
    "\n",
    "client = openai.OpenAI()\n",
    "\n",
    "messages = []\n"
   ],
   "id": "35a31ca17d688fb8",
   "outputs": [],
   "execution_count": 38
  },
  {
   "metadata": {
    "ExecuteTime": {
     "end_time": "2025-08-16T08:57:30.938526Z",
     "start_time": "2025-08-16T08:57:30.934585Z"
    }
   },
   "cell_type": "code",
   "source": [
    "def get_weather(city):\n",
    "    return \"33degrees celcius.\"\n",
    "\n",
    "\n",
    "FUNCTION_MAP = {\"get_weather\": get_weather}"
   ],
   "id": "89cefa70c2ed0ba2",
   "outputs": [],
   "execution_count": 39
  },
  {
   "metadata": {
    "ExecuteTime": {
     "end_time": "2025-08-16T08:57:30.952714Z",
     "start_time": "2025-08-16T08:57:30.947154Z"
    }
   },
   "cell_type": "code",
   "source": [
    "TOOLS = [\n",
    "    {\n",
    "        \"type\": \"function\",\n",
    "        \"function\": {\n",
    "            \"name\": \"get_weather\",\n",
    "            \"description\": \"Get the weather in a city.\",\n",
    "            \"parameters\": {\n",
    "                \"type\": \"object\",\n",
    "                \"properties\": {\n",
    "                    \"city\": {\n",
    "                        \"type\": \"string\",\n",
    "                        \"description\": \"The city to get the weather for.\",\n",
    "                    }\n",
    "                },\n",
    "                \"required\": [\"city\"]\n",
    "            }\n",
    "        }\n",
    "    }\n",
    "]"
   ],
   "id": "2c253b019dc8582d",
   "outputs": [],
   "execution_count": 40
  },
  {
   "metadata": {
    "ExecuteTime": {
     "end_time": "2025-08-16T08:57:30.972370Z",
     "start_time": "2025-08-16T08:57:30.967666Z"
    }
   },
   "cell_type": "code",
   "source": [
    "def call_ai():\n",
    "    response = client.chat.completions.create(\n",
    "        model=\"gpt-4o-mini\",\n",
    "        messages=messages,\n",
    "        tools=TOOLS,\n",
    "    )\n",
    "    print(response)\n",
    "    message = response.choices[0].message.content\n",
    "    messages.append({\"role\": \"assistant\", \"content\": message})\n",
    "    print(f\"AI: {message}\")\n"
   ],
   "id": "78ee5a737290c7e0",
   "outputs": [],
   "execution_count": 41
  },
  {
   "metadata": {},
   "cell_type": "code",
   "source": [
    "while True:\n",
    "    userMessage = input(\"Send a message to the LLM... \")\n",
    "\n",
    "    if userMessage == \"quit\" or userMessage == \"q\":\n",
    "        break\n",
    "    else:\n",
    "        messages.append({\"role\": \"user\", \"content\": userMessage})\n",
    "        print(f\"User: {userMessage}\")\n",
    "        call_ai()"
   ],
   "id": "2389f9914a0b601b",
   "outputs": [],
   "execution_count": null
  }
 ],
 "metadata": {
  "kernelspec": {
   "display_name": "Python 3 (ipykernel)",
   "language": "python",
   "name": "python3"
  },
  "language_info": {
   "codemirror_mode": {
    "name": "ipython",
    "version": 2
   },
   "file_extension": ".py",
   "mimetype": "text/x-python",
   "name": "python",
   "nbconvert_exporter": "python",
   "pygments_lexer": "ipython2",
   "version": "2.7.6"
  }
 },
 "nbformat": 4,
 "nbformat_minor": 5
}
