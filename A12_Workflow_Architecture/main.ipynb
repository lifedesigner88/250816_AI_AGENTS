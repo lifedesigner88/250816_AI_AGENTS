{
 "cells": [
  {
   "metadata": {
    "ExecuteTime": {
     "end_time": "2025-10-12T06:53:45.708994Z",
     "start_time": "2025-10-12T06:53:45.704727Z"
    }
   },
   "cell_type": "code",
   "source": [
    "from typing_extensions import TypedDict\n",
    "from typing import List\n",
    "\n",
    "from langgraph.graph import StateGraph, START, END\n",
    "from langchain.chat_models import init_chat_model\n",
    "\n",
    "from pydantic import BaseModel\n",
    "\n",
    "llm = init_chat_model(\"openai:gpt-4o\")"
   ],
   "id": "45357ee1f8c6ae30",
   "outputs": [],
   "execution_count": 22
  },
  {
   "metadata": {
    "ExecuteTime": {
     "end_time": "2025-10-12T06:53:45.737563Z",
     "start_time": "2025-10-12T06:53:45.733468Z"
    }
   },
   "cell_type": "code",
   "source": [
    "class State(TypedDict):\n",
    "    dish: str\n",
    "    ingredients: list[dict]\n",
    "    recipe_steps: str\n",
    "    plating_instructions: str\n",
    "\n",
    "\n",
    "class Ingredient(BaseModel):\n",
    "    name: str\n",
    "    quantity: str\n",
    "    unit: str\n",
    "\n",
    "\n",
    "class IngredientsOutput(BaseModel):\n",
    "    ingredients: List[Ingredient]"
   ],
   "id": "ca41fd9f20d0fe3f",
   "outputs": [],
   "execution_count": 23
  },
  {
   "metadata": {
    "ExecuteTime": {
     "end_time": "2025-10-12T06:53:45.752269Z",
     "start_time": "2025-10-12T06:53:45.748225Z"
    }
   },
   "cell_type": "code",
   "source": [
    "def list_ingredients(state: State):\n",
    "    structured_llm = llm.with_structured_output(IngredientsOutput)\n",
    "    ing_res = structured_llm.invoke(\n",
    "        f\"\"\"\n",
    "        {state[\"dish\"]}를 만드는데 필요한 재료들을 5~8개 사이로 정리해서 알려줘.\n",
    "        \"\"\"\n",
    "    )\n",
    "    return {\"ingredients\": ing_res.ingredients}\n",
    "\n",
    "\n",
    "def create_recipe(state: State):\n",
    "    recipe_res = llm.invoke(\n",
    "        f\"\"\"\n",
    "        {state[\"dish\"]}를 만들기위한 재료 목록이야 {state[\"ingredients\"]}\n",
    "        이재료들을 조리 순서에 맞춰서 레시피를 완성해줘.\n",
    "        10단계 이상 넘지않고 각각 200단어 정도의 길이로 만들어줘.\n",
    "        최종 요리가 어떤 모습일지 100단어 이내로 설명하는 부분을 넣어줘.\n",
    "        \"\"\"\n",
    "    )\n",
    "    return {\"recipe_steps\": recipe_res.content}\n",
    "\n",
    "\n",
    "def discribe_plating(state: State):\n",
    "    plating_res = llm.invoke(\n",
    "        f\"\"\"\n",
    "        {state[\"dish\"]}를 만든 과정은 {state[\"recipe_steps\"]} 이런데\n",
    "        최종 접시에 플레이팅 하면 좋은 전략을 3가지 제안해줘.\n",
    "        \"\"\"\n",
    "    )\n",
    "\n",
    "    return {\"plating_instructions\": plating_res.content}\n",
    "\n"
   ],
   "id": "72d79b8c0f112f6",
   "outputs": [],
   "execution_count": 24
  },
  {
   "metadata": {
    "ExecuteTime": {
     "end_time": "2025-10-12T06:54:04.178394Z",
     "start_time": "2025-10-12T06:53:45.764728Z"
    }
   },
   "cell_type": "code",
   "source": [
    "graph_builder = StateGraph(State)\n",
    "\n",
    "(\n",
    "    graph_builder\n",
    "    .add_node(\"list_ingredients\", list_ingredients)\n",
    "    .add_node(\"create_recipe\", create_recipe)\n",
    "    .add_node(\"discribe_plating\", discribe_plating)\n",
    "\n",
    "    .add_edge(START, \"list_ingredients\")\n",
    "    .add_edge(\"list_ingredients\", \"create_recipe\")\n",
    "    .add_edge(\"create_recipe\", \"discribe_plating\")\n",
    "    .add_edge(\"discribe_plating\", END)\n",
    ")\n",
    "\n",
    "graph = graph_builder.compile()\n",
    "\n",
    "graph.invoke(\n",
    "    {\n",
    "        \"dish\": \"hummus\"\n",
    "    }\n",
    ")"
   ],
   "id": "180abaef7787a6ed",
   "outputs": [
    {
     "data": {
      "text/plain": [
       "{'dish': 'hummus',\n",
       " 'ingredients': [Ingredient(name='Chickpeas', quantity='1', unit='can (15 oz)'),\n",
       "  Ingredient(name='Tahini', quantity='1/4', unit='cup'),\n",
       "  Ingredient(name='Lemon Juice', quantity='2', unit='tablespoons'),\n",
       "  Ingredient(name='Garlic', quantity='1', unit='clove, minced'),\n",
       "  Ingredient(name='Olive Oil', quantity='2', unit='tablespoons'),\n",
       "  Ingredient(name='Salt', quantity='1/2', unit='teaspoon'),\n",
       "  Ingredient(name='Ground Cumin', quantity='1/2', unit='teaspoon'),\n",
       "  Ingredient(name='Water', quantity='2-3', unit='tablespoons')],\n",
       " 'recipe_steps': '훔무스를 만드는 과정은 간단하지만 정성을 들이면 더욱 풍부한 맛을 낼 수 있습니다. 아래의 단계를 따라가며 부드럽고 크리미한 훔무스를 완성해보세요.\\n\\n1. 병아리콩 준비: 캔에 들어 있는 병아리콩을 체에 걸러 헹궈줍니다. 흐르는 물에 충분히 씻어낸 후 물기가 없도록 잘 털어줍니다. 이는 훔무스의 질감을 더욱 부드럽게 만들어 줍니다.\\n\\n2. 레몬 주스로 기본 맛 만들기: 레몬 주스를 작은 볼에 짜 넣고, 다진 마늘 1쪽 분량을 함께 섞어 마늘 레몬 소스를 만듭니다. 이 혼합물이 원래 병아리콩의 맛을 부드럽게 만들어주고 감칠맛을 더해줍니다.\\n\\n3. 모든 재료 결합: 푸드 프로세서에 병아리콩, 타히니, 레몬 주스-마늘 소스를 함께 넣고, 올리브 오일, 소금, 커민을 추가합니다. 모든 재료가 잘 섞이도록 합니다.\\n\\n4. 혼합 시작: 푸드 프로세서를 작동시켜 모든 재료가 고르게 섞이도록 합니다. 약 1분간 저속으로 갈아줍니다. 혼합물이 너무 뻑뻑할 경우, 물 2-3 스푼을 추가하여 원하는 농도를 조절합니다.\\n\\n5. 크림화: 부드럽고 크리미한 질감을 원한다면 더 오랜 시간 동안 푸드 프로세서를 작동시킵니다. 중간에 멈춰서 충분히 섞이지 않은 부분을 골고루 섞을 수 있도록 주걱으로 휘저어줍니다.\\n\\n6. 맛 조정: 마지막으로 소금과 레몬 주스를 더 넣어 개인의 입맛에 맞게 조정합니다. 이때 커민의 향을 확인하고 부족하다면 소량 추가합니다.\\n\\n7. 플레이팅: 완성된 훔무스를 예쁜 접시에 담아 그 위에 약간의 올리브 오일을 뿌리고, 파슬리나 파프리카 가루로 장식하십시오.\\n\\n최종적으로 완성된 훔무스는 부드럽고 크리미한 질감의 금빛 페이스트 형태를 띱니다. 접시에 담긴 훔무스는 올리브 오일로 윤기가 흐르며, 파프리카 가루나 다진 파슬리로 장식하여 시각적으로도 매력적입니다. 고소한 타히니의 풍미와 레몬의 산미, 마늘의 은은한 향이 조화를 이뤄 입맛을 돋웁니다. 빵이나 채소 스틱을 곁들여 즐기기에 완벽한 애피타이저로, 친구나 가족을 위한 멋진 파티 요리로도 손색이 없습니다.',\n",
       " 'plating_instructions': '훔무스를 더욱 매력적으로 플레이팅하기 위해 다음의 세 가지 전략을 고려해 보세요:\\n\\n1. **다채로운 색상의 기타 재료 추가**: 접시에 훔무스를 도톰하게 펼친 후, 주변에 신선한 채소(예: 오이, 당근, 청경채 등)를 색상을 고려해 배치합니다. 채소는 작게 잘라 스틱 형태로 두면, 손님들이 쉽게 집어 먹을 수 있습니다. 컬러풀한 채소는 시각적으로 풍부함을 더하며, 훔무스의 부드럽고 담백한 맛과 잘 어우러집니다.\\n\\n2. **다양한 질감과 형태의 토핑 사용**: 훔무스 위에 구운 병아리콩과 함께 다진 파슬리, 파프리카 가루, 혹은 크러쉬드 레드 페퍼를 뿌립니다. 구운 병아리콩은 식감에 재미를 더해줄 뿐 아니라, 어떠한 곡선이나 패턴을 그리면 훔무스를 장식적으로 배치할 수 있습니다.\\n\\n3. **올리브 오일 드리즐과 가니시 장식**: 훔무스를 접시에 담은 후 중심부터 바깥쪽으로 살짝 구멍을 내며 올리브 오일을 스파이럴 형태로 뿌립니다. 그 위에 잘게 썬 허브(파슬리, 고수 등)를 흩뿌리거나 올리브 등을 둥글게 배열하여 장식합니다. 올리브 오일의 윤기와 허브의 신선함이 시각적이고 미각적인 매력을 동시에 제공합니다.\\n\\n이러한 전략들을 통해 훔무스의 풍미는 물론 시각적인 아름다움도 함께 강조할 수 있습니다.'}"
      ]
     },
     "execution_count": 25,
     "metadata": {},
     "output_type": "execute_result"
    }
   ],
   "execution_count": 25
  }
 ],
 "metadata": {
  "kernelspec": {
   "name": "python3",
   "language": "python",
   "display_name": "Python 3 (ipykernel)"
  }
 },
 "nbformat": 4,
 "nbformat_minor": 5
}
