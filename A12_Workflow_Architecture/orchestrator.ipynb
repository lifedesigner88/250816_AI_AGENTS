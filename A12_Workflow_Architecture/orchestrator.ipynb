{
 "cells": [
  {
   "metadata": {
    "ExecuteTime": {
     "end_time": "2025-10-13T06:46:16.288835Z",
     "start_time": "2025-10-13T06:46:16.285173Z"
    }
   },
   "cell_type": "code",
   "source": [
    "from pydantic import BaseModel\n",
    "from typing_extensions import TypedDict, Annotated\n",
    "from operator import add\n",
    "\n",
    "from langchain.chat_models import init_chat_model\n",
    "from langgraph.graph import StateGraph, START, END\n",
    "\n",
    "llm = init_chat_model(\"openai:gpt-4o\")"
   ],
   "id": "673dacc702ff4416",
   "outputs": [],
   "execution_count": 75
  },
  {
   "metadata": {
    "ExecuteTime": {
     "end_time": "2025-10-13T06:46:16.312508Z",
     "start_time": "2025-10-13T06:46:16.309662Z"
    }
   },
   "cell_type": "code",
   "source": [
    "with open(\"README.md\", \"r\", encoding=\"utf-8\") as file:\n",
    "    readme = file.read()"
   ],
   "id": "ce8d1f2821c9aac7",
   "outputs": [],
   "execution_count": 76
  },
  {
   "metadata": {
    "ExecuteTime": {
     "end_time": "2025-10-13T06:46:16.327915Z",
     "start_time": "2025-10-13T06:46:16.321043Z"
    }
   },
   "cell_type": "code",
   "source": [
    "\n",
    "import random\n",
    "import time\n",
    "\n",
    "\n",
    "class State(TypedDict):\n",
    "    doc: str\n",
    "    final_summary: str\n",
    "    chunkedList: Annotated[list[dict], add]\n",
    "\n",
    "\n",
    "class ChunkedOutput(BaseModel):\n",
    "    index: int\n",
    "    chunck: str\n",
    "\n",
    "\n",
    "class ChunkListOutput(BaseModel):\n",
    "    chunks: list[ChunkedOutput]\n",
    "\n",
    "\n",
    "from langgraph.types import Send\n",
    "\n",
    "\n",
    "def chunk_ai(state: State):\n",
    "    doc = state.get(\"doc\", \"\")\n",
    "    output_structured_llm = llm.with_structured_output(ChunkListOutput)\n",
    "\n",
    "    chunked_res = output_structured_llm.invoke(\n",
    "        f\"\"\"\n",
    "        문서를 읽고 적당한 의미 단위로 나눈 뒤 각각의 내용을 한국어로 다시 한번 정리하고 재구성해줘.\n",
    "\n",
    "        <doc>\n",
    "        문서:{doc}\n",
    "        </doc>\n",
    "        \"\"\"\n",
    "    )\n",
    "\n",
    "    return [Send(\"make_example\", chunk) for chunk in chunked_res.chunks]\n",
    "\n",
    "\n",
    "def make_example(arg: ChunkedOutput):\n",
    "    index = arg.index\n",
    "    chunk = arg.chunck\n",
    "\n",
    "    inte = random.randint(0, 2) * random.randint(1, 3)\n",
    "    print(f\"✅✅{index}✅{inte}✅✅\")\n",
    "    time.sleep(inte)\n",
    "\n",
    "    ex_res = llm.invoke(\n",
    "        f\"\"\"\n",
    "        아래 제시되는 문장을 읽고 떠오르는 한국의 명언이나 속담 또는 절절한 문장을 생성해줘. 길이는 대략 40글자 내외로\n",
    "\n",
    "        <doc>\n",
    "        문장 : {chunk}\n",
    "        </doc>\n",
    "        \"\"\"\n",
    "    )\n",
    "    print(f\"⌛⌛{index}⌛{inte}⌛⌛\")\n",
    "    return {\n",
    "        \"chunkedList\": [{\"index\": index, \"chunk\": chunk, \"example\": ex_res.content}],\n",
    "    }\n",
    "\n",
    "\n",
    "def final_content(state: State):\n",
    "    unsorted_chunked_list = state.get(\"chunkedList\", [])\n",
    "    sorted_chunked_list = sorted(unsorted_chunked_list, key=lambda x: x[\"index\"], reverse=False)\n",
    "\n",
    "    final_res = llm.invoke(\n",
    "        f\"\"\"\n",
    "        아래의 데이터를 읽고 800자 분량의 요약본을 만들어줘\n",
    "\n",
    "        <data>\n",
    "        데이터 : {sorted_chunked_list}\n",
    "        </data>\n",
    "        \"\"\"\n",
    "    )\n",
    "\n",
    "    return {\n",
    "        \"final_summary\": final_res.content,\n",
    "    }\n"
   ],
   "id": "34e480f89616ad7e",
   "outputs": [],
   "execution_count": 77
  },
  {
   "metadata": {
    "ExecuteTime": {
     "end_time": "2025-10-13T06:46:38.783037Z",
     "start_time": "2025-10-13T06:46:16.334346Z"
    }
   },
   "cell_type": "code",
   "source": [
    "graph_builder = StateGraph(State)\n",
    "\n",
    "(\n",
    "    graph_builder\n",
    "\n",
    "    .add_node(\"make_example\", make_example)\n",
    "    .add_node(\"final_content\", final_content)\n",
    "\n",
    "    .add_conditional_edges(START, chunk_ai, [\"make_example\"])\n",
    "    .add_edge(\"make_example\", \"final_content\")\n",
    "    .add_edge(\"final_content\", END)\n",
    ")\n",
    "\n",
    "graph = graph_builder.compile()\n",
    "\n",
    "graph.invoke({\n",
    "    \"doc\": readme\n",
    "})"
   ],
   "id": "aff6deeac87f1190",
   "outputs": [
    {
     "name": "stdout",
     "output_type": "stream",
     "text": [
      "✅✅1✅1✅✅\n",
      "✅✅2✅0✅✅\n",
      "✅✅3✅1✅✅\n",
      "✅✅4✅3✅✅\n",
      "✅✅5✅0✅✅\n",
      "⌛⌛5⌛0⌛⌛\n",
      "⌛⌛2⌛0⌛⌛\n",
      "⌛⌛1⌛1⌛⌛\n",
      "⌛⌛3⌛1⌛⌛\n",
      "⌛⌛4⌛3⌛⌛\n"
     ]
    },
    {
     "data": {
      "text/plain": [
       "{'doc': \"'네, 안녕하세요. 오늘은, 오늘 책도, 오늘 아침에 읽은 책도, 여기 보이시죠? 넥서스입니다, 넥서스. 오늘도 제가 아침에 책을 읽었고요. 이렇게 1차적으로는 수첩에다가 이렇게 적습니다. 1차적으로 좋은 문장들을\\n적고, 이렇게 문장들을 적은 다음에 적고, 제가 챕터별로 딱 3개의 문장만 뽑아서 살짝 제 스타일대로 요약을 합니다. 요약을 하고 나서 질문 하나씩 적고, 답변을 다는 방식으로 이렇게 준비를 하고 있습니다. 지금\\n이틀 정도 해봤는데, 상당히 좋은 것 같아요. 책의 내용도 많이 기억에 남고, 요약을 하다보니까 더 많은 생각을 할 수 있게 되고, 그런 것 같습니다. 그래서 일단 잠깐 보시면은, 짜잔, 넥서스죠? 저번 1편에서도\\n보여드리긴 했는데, 이번 하루의 책이고요. 오늘은 목차를 보면은, 저번 영상에서는 프로로그를 담았고, 이번에는 정보란 무엇인가, 정보가 뭔지, 그리고 이야기, 이야기에 대한 두 장을 제가 요약을 했고요. 보시면은,\\n정보란 무엇인가, 여기서 인상 깊었던 구절을 제가 조금 변형해서 적어봤습니다. 책 이름이 넥서스인데, 궁극적으로는 각 개인은 서로 다른 세계관을 가지며, 그것은 그 사람의 성격과 인생사가 교차하면 형성된다. 정보란\\n무엇인가잖아요? 정보는 사회적 연결고리, 넥서스라는 거죠. 그러니까 종이랑 종이랑 붙이는 풀처럼 사람들을 연결해주는 그런 사회적 연결고리가 넥서스고, 그것도 정보를 정의한다고 얘기를 하는 것 같습니다. 사람들은 정말\\n서로 다른 세계관을 가지죠. 그래서 여러분들의 세계관은, 그 세계관에서는 무엇이 가치 있다고 생각하시는지, 그걸 한번 생각해보시면 좋을 것 같아요. 네, 두 번째입니다. 이 문장도 참 좋았는데요. 과학적이나 정치\\n연설 같은 몇 가지 유형의 정보는, 사람들에게 현실을 정확하게 표현해서 사람들을 하나로 묶으려고 하죠. 그런데 사람들을 묶는데 효과적인 정보는 이런 사실이 아니고, 허구인 매력적인 정보가 오히려 사람들에게 잘\\n퍼지고, 사람들을 잘 묶는다는 얘기죠. 그래서 좋은 정보는, 정보를 사람들을 묶는 매개체로 생각해본다고 하면은, 좋은 정보는 정확한 정보가 아닐 때가 많다는 거죠. 그래서 여러분들에게 허구로 보이지만, 저거 진짜\\n거짓말인데, 그것도 많은 사람들이 함께 믿고 있는 정보가 있다면 뭐가 있을지 생각해보시면 좋을 것 같아요. 네, 다음입니다. 결국 역사적으로 보면, 지금 호모사피엔스가 다른 종들을 다 정복하고, 상당한 힘을 가지고\\n있잖아요. 그 호모사피엔스가 세계를 정복한 이유는, 거짓, 오류, 환상을 믿는 능력을 바탕으로 많은 개개인들이 연결되어 개인이 할 수 없는 거대한 일을 할 수 있었기 때문이다. 이런 문장도 중요하죠. 그래서 저도\\n20대 때 종교단체에 오래 있었는데, 때는 외롭지 않았어요. 신화를 바탕으로 많은 사람들이 항상 만났기 때문에 외롭지 않았는데, 점점 종교에 나오고, 진실을 추구하고, 과학을 공부하면서 외로워지는 부분이 있는 것\\n같아요. 그럼에도 계속 진실을 추구해야 하는 이유는 여러분들은 뭐라고 생각하시는지, 혹은 비록 거짓일지라도, 외로움보다는 거짓대로 사는 것이 나은 것인지, 이런 부분들을 좀 생각해보시면 좋을 것 같습니다. 그래서\\n정보란 무엇인가? 다음에서 세 가지 질문을 뽑아봤고요. 그래서 정보, 정보란 무엇일까? 이 책에서 정보라는 키워드를 많이 다루는데, 정보는 이제 사람들은 결국 나랑 만날 사람, 내가 이 사람을 만나야 될지, 아니면\\n만나지 말아야 될지, 그걸 판단하는 데 필요한 게 정보잖아요. 나랑 가치관이 비슷하면 계속 만나는 게 편하고, 나와 가치관이 다르면 계속 상대를 설득해야 되고, 그런 측면에서 정보, 정보는 사람들을 묵는데 접촉대\\n같은 역할을 하는 것이고, 그걸 넥서스라고 부른다. 이렇게 보시면 될 것 같아요. 물론 당연히 저자의 의도와는 다를 수 있는데, 저는 그렇게 읽게 되었습니다. 그리고 챕터 두 번째 것도 읽게 되었는데요, 다시 한번\\n같이 볼게요. 챕터 2, 그래서 여러 가지 정보들이 있는데, 이야기, 드라마나 이런 것처럼, 이야기가 그런 수많은 사람들을 무한하게 연결시킨다, 이런 챕터이고요. 여기도 정말 좋은 문장들이 많았는데, 딱 세 개만\\n제가 편집해서 뽑아봤습니다. 얼마나 무한하냐면, 가톨릭 교회는 44억 명 정도가 어떤 하나의 스토리를 공유해서 연결이 됐고, 그리고 세계무용망은 80억 모든 사피엔스를 연결한다. 그래서 세계무용망을 연결한 장치는\\n화폐, 기업, 상표에 관련된 이야기들이다. 저 80억에 저도 들어가 있습니다. 저도 이제 자본주의에 살고 있잖아요. 그래서 당연히 화폐, 기업, 상표에 관련된 이야기를 믿고 있는데, 여러분들도 화폐, 기업, 상표에\\n관련된 이야기들을 믿고 계신지 한번 생각해보시면 좋을 것 같아요. 그리고 사람들을 결속시키는 허구적인 정보는 진실에 비해 두 가지 고유한 이점을 가지고 있다. 허구는 간단하고 진실은 복잡할 때가 많다. 진실은\\n고통스럽고 불편한데, 허구는 매력적이다. 이것도 많은 생각을 하게 되는 문장인 것 같은데요. 예를 들면 다이어트를 한다고 했을 때, 다이어트를 하는 방법은 정말 고통스럽죠. 먹고 싶은 거 참아야 되고, 하기 싫은\\n운동을 해야 되고, 매우 힘들죠. 그런데 사람들이 많이 열광하는 다이어트 방식은 힘 안 들이고 다이어트하는 방법, 이런 것들이죠. 많은 사람들이 거기에 많이 끌리고 돈을 쓰는데, 장기적으로 더 고통이죠. 그리고\\n종교도 마찬가지죠. 종교도 진실을 내가 다 이해하고 개개인적으로 선택하려면 힘든데, 종교에서는 종교의 가르침을 잘 따르면 좋은 결과가 나온다고 확정을 해주니까 참 편하죠. 그래서 진실이 고통스러울 때가 많아요.\\n그래서 꼭 진실이 좋지는 않다는 생각이 들고, 진실이 잘 퍼지지도 않고, 그런 것 같습니다. 그리고 사람들이 진실에 불안할 정도로 다가가려고 하면, 사회는 진실을 제한하여 질서를 유지할 것이다. 많은 정부와 교회가\\n지하교육을 금지하여 질서를 위해 진실을 희생하는 쪽을 선택하는 이유다. 이것들도 그런 경우가 많이 있죠. 미성년자들이 보지 말아야 하는 영화들 이런 것도 있잖아요. 그리고 민감한 주제들이긴 한데, 질서 유지를 위해서\\n그냥 거짓말인 줄 알면서도 넘어가는 그런 진실들도 있죠. 그런 게 뭐가 있는지에 대해서 이야기를 좀 나눠보면 좋을 것 같아요. 그래서 이런 인사이트를 주는 문장들이 많이 있습니다. 그래서 세 가지 질문 여러분들 한번\\n적어보시면 좋을 것 같습니다. 그래서 저도 여기 노션 페이지에 적고 있어요. 그 이전에 프롤로그 했던 질문이 있고, 이거는 유튜브 밑에 링크를 알아드릴 텐데, 좋았던 문장 적고 질문 세 가지 적으면서 답변을\\n적어봤으니까요. 관심 있는 분들은 한번 읽어주시면 좋을 것 같고요. 그래서 다 제 생각을 적은 거기 때문에 여러분들 생각이 당연히 다를 수 있을 것 같아요. 중요한 건 이런 질문들을 하고 고민해보는 이런 습관들은\\n중요한 것 같습니다. 그리고 이제 주말마다 책을 읽기 때문에 다음 주 주말에 이 후의 이야기들을 한번 읽어보고 정리를 해보겠습니다. 그래서 지금 유튜브 두 번째인데요. 확실히 첫 번째 보다는 조금 더 말을 잘하는 것\\n같아요. 점점 발전하겠죠? 지금 넥서스 책을 읽는데 저는 너무 지금 내용이 좋은 것 같아요. 아무래도 제가 이전 작들을 다 읽어서 그런지 생각할 것들이 많고, 예전 기억들도 다시 회상이 되고 하는 것 같습니다.\\n그래서 앞으로 주말에 아침에 책을 읽고, 요약을 하고 영상으로 정리하는 이런 루틴을 한동안 유지하도록 하겠습니다. 그러면은 여기서 오늘 영상 마치겠습니다. 감사합니다. 종료\\\\n'\",\n",
       " 'final_summary': \"주어진 데이터는 '넥서스'라는 책에 대한 요약문들을 담고 있습니다. 이 책에서 정보는 사회적 접착제로 설명되며, 사람들을 이어주는 중요한 역할을 한다고 주장합니다. 또한, 정보의 매력은 진실성보다는 허구에 있을 수 있으며, 이는 사람들 사이의 관계를 더 효과적으로 맺게 할 수 있습니다. 첫 번째 단락에서는 정보의 가치가 각 개인의 세계관에 따라 달라진다고 설명하며, 매력적이고 허구적인 정보가 사람들을 더 잘 연결할 수 있다고 주장합니다. 두 번째 단락에서는 매력적인 허구가 과학적 정보를 넘어설 수 있는 힘을 강조하며, 사피엔스가 세계를 정복할 때도 이러한 오류와 환상에 기반한 목표가 중요한 역할을 했다고 설명합니다. 세 번째 단락은 정보가 대화와 만남의 도구이며, 사람들이 지속적인 관계를 유지할 수 있게 도와주는 역할을 한다고 설명합니다. 네 번째 단락에서는 이야기의 힘에 대해 다루며, 자본주의 사회에서 허구적인 정보가 진실보다 쉽게 전파되어 사회를 구성하는 데 기여한다고 설명합니다. 마지막 다섯 번째 단락에서는 정보가 사회적 합의와 위계를 형성하는 방식을 통해, 때로는 진실이 사회적 불안을 일으킬 수 있음을 지적하며, 대화를 통해 다양한 관점을 갖는 것이 중요하다고 제안합니다. 책을 통해 얻은 인사이트를 바탕으로 독자들이 다양한 방식으로 사고를 계속 이어나가는 것이 제안되고 있습니다.\",\n",
       " 'chunkedList': [{'index': 1,\n",
       "   'chunk': \"**첫 번째 단락 요약**\\n\\n이제까지 저는 '넥서스'라는 책을 읽으면서 정보라는 것에 대해 탐구하고 있습니다. 이 책에서 정보는 사람들을 이어주는 사회적 접착제로 설명되며, 각 개인의 세계관에 따라 그 가치가 달라질 수 있습니다. 특히, 정확한 정보보다는 매력적이고 허구적인 정보가 사람들을 더욱 효과적으로 연결한다고 주장합니다. 저는 이러한 정보를 요약하고 질문을 추가하여 제 개인적인 해석을 발전시키고 있습니다.\",\n",
       "   'example': '\"진실보다 매혹적인 허구가 마음을 사로잡는다.\"'},\n",
       "  {'index': 2,\n",
       "   'chunk': '**두 번째 단락 요약**\\n\\n문장 예를 들어, 과학적 정보를 넘어 매력적 허구가 사람들을 더 잘 연결한다고 할 수 있습니다. 사피엔스가 세계를 정복할 때도 오류와 환상을 바탕으로 공동의 실현 불가능한 목표를 이루는 데 성공했습니다. 이 문장에서 저는 허구의 힘을 새롭게 생각하게 되었고, 개인의 경험을 통해 더욱 공감할 수 있었습니다. 여러분들도 평생 거짓말을 믿음으로써 단합된 경험이 있는지 생각해 보세요.',\n",
       "   'example': '\"거짓이 모이면 진실보다 강하다.\"  \\n허구나 환상이 때로는 사람들을 하나로 묶고, 진실 이상의 힘을 발휘할 수 있다는 점을 강조하는 문장입니다.'},\n",
       "  {'index': 3,\n",
       "   'chunk': '**세 번째 단락 요약**\\n\\n정보의 정의에 대한 요약을 통해 여러 관점에서 정보를 분석해 봅니다. 제 해석으로 정보는 비슷한 가치관이 사람들과의 지속적인 관계를 가능하게 하고, 가치를 다르게 보는 사람들과의 대화가 필요하게 만듭니다. 여기서 정보란 만남과 판단의 도구로 작용합니다. 따라서 사회적 연결 고리인 정보의 중요성을 강하게 경험하고 있습니다.',\n",
       "   'example': '“정보는 마음을 잇는 다리, 소통은 그 다리를 걷는 발걸음.”'},\n",
       "  {'index': 4,\n",
       "   'chunk': '**네 번째 단락 요약**\\n\\n이야기의 힘에 대해서도 깊이 다루고 있습니다. 이야기는 사람들을 무한하게 연결하는 능력이 있으며, 우리의 자본주의에서는 기업, 화폐 등과 같은 스토리가 엄청난 역할을 하고 있습니다. 허구적인 정보가 진실보다 쉽게 전파됨으로써 사회를 구성하고 있음을 보게 됩니다. 이에 대한 예로 다이어트 광고가 진실보다 허구에 기반하지만 끌리는 이유를 들고 있습니다. 때문에 진실의 복잡성과 고통을 수반하는 경향에 대해 생각하게 됩니다.',\n",
       "   'example': '\"사람들은 이야기를 먹고 자라며, 허구는 현실을 넘어서기도 한다.\"'},\n",
       "  {'index': 5,\n",
       "   'chunk': '**다섯 번째 단락 요약**\\n\\n마무리로에 정보의 방식으로 인해 사회적 합의와 위계가 형성됨을 봅니다. 사회는 진실이 불안을 일으킬 때 종종 진실을 제한합니다. 때로는 질서를 위한 희생도 필요합니다. 독자들이 각자의 관점에서 정보를 바라보고 대화를 나누는 기회를 갖는 것이 중요하다는 인사이트를 제시합니다. 그리고 책에서 받은 인상을 기반으로 주말마다 이러한 사고를 이어나가고 있습니다.',\n",
       "   'example': '\"진실은 불편하나, 그 결실은 조화라.\"'}]}"
      ]
     },
     "execution_count": 78,
     "metadata": {},
     "output_type": "execute_result"
    }
   ],
   "execution_count": 78
  },
  {
   "metadata": {
    "ExecuteTime": {
     "end_time": "2025-10-13T06:46:39.135506Z",
     "start_time": "2025-10-13T06:46:38.791169Z"
    }
   },
   "cell_type": "code",
   "source": "display(graph)",
   "id": "92f1a1a9baa90a78",
   "outputs": [
    {
     "data": {
      "text/plain": [
       "<langgraph.graph.state.CompiledStateGraph object at 0x000001BA7557A7A0>"
      ],
      "image/png": "[encoded data removed]"
     },
     "metadata": {},
     "output_type": "display_data",
     "jetTransient": {
      "display_id": null
     }
    }
   ],
   "execution_count": 79
  }
 ],
 "metadata": {
  "kernelspec": {
   "display_name": "Python 3",
   "language": "python",
   "name": "python3"
  },
  "language_info": {
   "codemirror_mode": {
    "name": "ipython",
    "version": 2
   },
   "file_extension": ".py",
   "mimetype": "text/x-python",
   "name": "python",
   "nbconvert_exporter": "python",
   "pygments_lexer": "ipython2",
   "version": "2.7.6"
  }
 },
 "nbformat": 4,
 "nbformat_minor": 5
}
