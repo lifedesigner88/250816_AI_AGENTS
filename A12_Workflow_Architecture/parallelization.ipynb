{
 "cells": [
  {
   "metadata": {
    "ExecuteTime": {
     "end_time": "2025-10-13T04:54:52.942476Z",
     "start_time": "2025-10-13T04:54:52.939017Z"
    }
   },
   "cell_type": "code",
   "source": [
    "from typing_extensions import TypedDict\n",
    "from langgraph.graph import StateGraph, START, END\n",
    "from langchain.chat_models import init_chat_model\n",
    "\n",
    "llm = init_chat_model(\"openai:gpt-4o\")"
   ],
   "id": "636804c1a8d7e81f",
   "outputs": [],
   "execution_count": 7
  },
  {
   "metadata": {
    "ExecuteTime": {
     "end_time": "2025-10-13T04:54:52.962103Z",
     "start_time": "2025-10-13T04:54:52.959559Z"
    }
   },
   "cell_type": "code",
   "source": [
    "class State(TypedDict):\n",
    "    document: str\n",
    "    summary: str\n",
    "    sentiment: str\n",
    "    key_points: str\n",
    "    recommendation: str\n",
    "    final_analysis: str"
   ],
   "id": "bf8bfabcbb95cc90",
   "outputs": [],
   "execution_count": 8
  },
  {
   "metadata": {
    "ExecuteTime": {
     "end_time": "2025-10-13T04:54:52.976426Z",
     "start_time": "2025-10-13T04:54:52.972292Z"
    }
   },
   "cell_type": "code",
   "source": [
    "def get_summary(state: State):\n",
    "    response = llm.invoke(\n",
    "        f\"Write a 3-sentence summary of this document in Korean {state[\"document\"]}\"\n",
    "    )\n",
    "    return {\n",
    "        \"summary\": response.content,\n",
    "    }\n",
    "\n",
    "\n",
    "def get_sentiment(state: State):\n",
    "    response = llm.invoke(\n",
    "        f\"Analyse the sentiment and tone of this document in Korean {state[\"document\"]}\"\n",
    "    )\n",
    "    return {\n",
    "        \"sentiment\": response.content,\n",
    "    }\n",
    "\n",
    "\n",
    "def get_key_points(state: State):\n",
    "    response = llm.invoke(\n",
    "        f\"List the 5 most important points of this document in Korean {state[\"document\"]}\"\n",
    "    )\n",
    "    return {\n",
    "        \"key_points\": response.content,\n",
    "    }\n",
    "\n",
    "\n",
    "def get_recommendation(state: State):\n",
    "    response = llm.invoke(\n",
    "        f\"Based on the document, list 3 recommended next steps in Korean {state[\"document\"]}\"\n",
    "    )\n",
    "    return {\n",
    "        \"recommendation\": response.content,\n",
    "    }\n",
    "\n",
    "\n",
    "def get_final_analysis(state: State):\n",
    "    response = llm.invoke(\n",
    "        f\"\"\"\n",
    "    Give me an analysis of the following report in Korean\n",
    "\n",
    "    DOCUMENT ANALYSIS REPORT\n",
    "    ========================\n",
    "\n",
    "    EXECUTIVE SUMMARY:\n",
    "    {state['summary']}\n",
    "\n",
    "    SENTIMENT ANALYSIS:\n",
    "    {state['sentiment']}\n",
    "\n",
    "    KEY POINTS:\n",
    "    {state.get(\"key_points\", \"\")}\n",
    "\n",
    "    RECOMMENDATIONS:\n",
    "    {state.get('recommendation', \"N/A\")}\n",
    "    \"\"\"\n",
    "    )\n",
    "    return {\n",
    "        \"final_analysis\": response.content,\n",
    "    }"
   ],
   "id": "d25684e7a05aa02b",
   "outputs": [],
   "execution_count": 9
  },
  {
   "metadata": {
    "ExecuteTime": {
     "end_time": "2025-10-13T04:54:52.990350Z",
     "start_time": "2025-10-13T04:54:52.984034Z"
    }
   },
   "cell_type": "code",
   "source": [
    "graph_builder = StateGraph(State)\n",
    "\n",
    "graph_builder.add_node(\"get_summary\", get_summary)\n",
    "graph_builder.add_node(\"get_sentiment\", get_sentiment)\n",
    "graph_builder.add_node(\"get_key_points\", get_key_points)\n",
    "graph_builder.add_node(\"get_recommendation\", get_recommendation)\n",
    "graph_builder.add_node(\"get_final_analysis\", get_final_analysis)\n",
    "\n",
    "\n",
    "graph_builder.add_edge(START, \"get_summary\")\n",
    "graph_builder.add_edge(START, \"get_sentiment\")\n",
    "graph_builder.add_edge(START, \"get_key_points\")\n",
    "graph_builder.add_edge(START, \"get_recommendation\")\n",
    "\n",
    "graph_builder.add_edge(\"get_summary\", \"get_final_analysis\")\n",
    "graph_builder.add_edge(\"get_sentiment\", \"get_final_analysis\")\n",
    "graph_builder.add_edge(\"get_key_points\", \"get_final_analysis\")\n",
    "graph_builder.add_edge(\"get_recommendation\", \"get_final_analysis\")\n",
    "\n",
    "graph_builder.add_edge(\"get_final_analysis\", END)\n",
    "\n",
    "\n",
    "graph = graph_builder.compile()"
   ],
   "id": "f8b4c4454bd80c35",
   "outputs": [],
   "execution_count": 10
  },
  {
   "metadata": {
    "ExecuteTime": {
     "end_time": "2025-10-13T04:55:30.095157Z",
     "start_time": "2025-10-13T04:55:28.850006Z"
    }
   },
   "cell_type": "code",
   "source": "display(graph)",
   "id": "26e61222603227ec",
   "outputs": [
    {
     "data": {
      "text/plain": [
       "<langgraph.graph.state.CompiledStateGraph object at 0x0000022204671310>"
      ],
      "image/png": "[encoded data removed]"
     },
     "metadata": {},
     "output_type": "display_data",
     "jetTransient": {
      "display_id": null
     }
    }
   ],
   "execution_count": 12
  },
  {
   "metadata": {
    "ExecuteTime": {
     "end_time": "2025-10-13T04:55:03.225679Z",
     "start_time": "2025-10-13T04:54:52.996737Z"
    }
   },
   "cell_type": "code",
   "outputs": [
    {
     "name": "stdout",
     "output_type": "stream",
     "text": [
      "{'get_summary': {'summary': \"이 문서는 '넥서스'라는 책을 읽고 주요 내용을 요약한 내용입니다. 책에서는 정보의 사회적 연결 고리 역할과 거짓 정보가 사람들을 묶는 매개체로 작용할 수 있음을 설명합니다. 또한, 허구적 정보가 진실에 비해 간단하고 매력적이며, 사회가 진실을 제한하여 질서를 유지하는 경향에 대해 논의합니다.\"}} \n",
      "\n",
      "{'get_sentiment': {'sentiment': '이 문서는 상당히 긍정적인 톤과 감정을 가지고 있습니다. 문서를 작성한 사람은 책을 읽고 요약하는 경험에 대해 매우 긍정적인 감정을 표현하고 있습니다. 글에서 종종 \"상당히 좋은 것 같아요\", \"생각할 것들이 많고\", \"기억들이 다시 회상되고\"와 같은 구절을 사용하여 독서 경험이 만족스럽고 의미 있는 것으로 느껴진다고 말하고 있습니다.\\n\\n또한, 문서 작성자는 자신의 독서 방법론(읽은 내용을 요약하고 질문을 만들어보는 것)이 기억에 도움이 되며 많은 생각을 하게 만든다는 점을 강조하고 있습니다. 이는 자기 계발과 지적 성장에 대한 긍정적인 태도를 나타냅니다.\\n\\n전체적으로 이 문서는 책 읽기와 그로 인한 사색의 중요성을 강조하며, 작성자가 이 과정을 즐기고 있으며 그로부터 많은 것들을 배우고 있다는 것을 잘 보여줍니다. 또한, 다른 사람들과 생각을 나누고자 하는 열린 태도를 가지고 있어, 독서 경험을 통해 교류할 준비가 되어 있음을 보이고 있습니다.'}} \n",
      "\n",
      "{'get_key_points': {'key_points': '1. **독서와 요약의 중요성**: 아침마다 책을 읽고, 노트에 좋은 문장들을 적어 요약하는 습관을 통해 더 많은 생각을 하게 되고 책의 내용을 잘 기억할 수 있음.\\n\\n2. **정보의 정의와 역할**: 정보는 사회적 연결고리, 즉 넥서스로서 사람들을 연결해주는 역할을 하며, 개인들이 서로 다른 세계관을 가질 수 있도록 돕는 중요한 요소임.\\n\\n3. **허구와 진실의 상반된 영향력**: 허구적인 정보가 진실보다 사람들을 더 효과적으로 결속시킬 때가 많으며, 이는 허구가 간단하고 매력적인 반면, 진실은 복잡하고 불편할 수 있기 때문임.\\n\\n4. **호모 사피엔스와 협업 능력**: 인간이 거짓, 오류, 환상을 믿는 능력을 바탕으로 대규모 협업을 통해 다른 종을 정복하고 세상을 지배할 수 있었으며, 이는 거짓 정보에 기반한 결속력과 연관됨.\\n\\n5. **질서 유지와 진실의 제한**: 사회는 종종 질서를 유지하기 위해 진실을 제한하거나 희생하며, 이는 지하교육 금지 등 여러 사례에서 나타나는 현상임.'}} \n",
      "\n",
      "{'get_recommendation': {'recommendation': 'Based on the document you provided, here are three recommended next steps in Korean:\\n\\n1. **세 가지 질문 만들기**: 책에서 인상 깊은 문장을 세 개 뽑고, 이를 바탕으로 세 가지 질문을 작성합니다. 이 질문들을 가지고 본인의 생각을 정리해보고, 다른 사람들과 토론할 주제로 발전시킵니다.\\n\\n2. **노트에 요약하기**: 책을 읽은 후, 각 챕터별로 요약을 진행합니다. 좋은 문장은 따로 메모하여 본인 스타일대로 요약한 후, 질문과 답변을 작성해 자신의 생각을 정리합니다.\\n\\n3. **정기적인 독서 및 리뷰 루틴 유지하기**: 주말마다 아침에 책을 읽고, 그 내용을 요약하여 혼자 되새김질하거나 기록합니다. 이 과정을 통해 책의 내용을 더 깊이 이해하고 발전시키며, 대화의 소재로 삼습니다.\\n\\n이 루틴을 통해 책의 내용을 체계적으로 정리하고 다양한 관점에서 생각해 볼 수 있습니다.'}} \n",
      "\n",
      "{'get_final_analysis': {'final_analysis': \"이 문서 분석 보고서는 '넥서스'라는 책을 통해 정보의 사회적 역할과 허구 정보의 매력에 대해 논의하며, 책을 읽고 요약하는 중요성에 대한 깊은 통찰을 제공합니다. 문서는 긍정적인 톤으로 작성되어 있으며, 독서 경험을 통해 얻은 만족감과 배움을 강조하고 있습니다. 주요 내용은 다음과 같습니다:\\n\\n1. **독서와 요약의 중요성**: 정기적인 독서와 노트 필기는 사고를 촉진하고 기억을 도와줍니다. 이 습관은 독서로부터 배우는 것을 극대화합니다.\\n\\n2. **정보의 역할**: 정보는 사회적 연결고리로서 개인의 세계관 형성에 기여하며, 넥서스 역할을 통해 사람들을 연결합니다.\\n\\n3. **허구와 진실의 영향력**: 허구는 간단하고 매력적이기 때문에 종종 진실보다 사람들을 더 강하게 결속시킵니다. 이는 사회적 결속력에 중요합니다.\\n\\n4. **인간의 협업 능력**: 인간은 허구와 오류를 수용하는 능력을 통해 대규모 협업을 가능케 했고, 이를 통해 다른 종을 지배하게 되었습니다.\\n\\n5. **질서 유지와 진실의 제한**: 사회는 질서를 유지하기 위해 때때로 진실을 희생합니다. 이는 지식의 제한과 같은 사례에서 나타납니다.\\n\\n문서 작성자는 이러한 주제들을 통해 독서의 중요성 및 그로 인한 사색의 가치를 강조하고 있으며, 다음의 행동을 추천합니다:\\n\\n- 책에서 인상 깊은 문장을 기반으로 세 가지 질문을 만들고 토론 주제로 발전시킬 것.\\n- 각 챕터별 요약 및 질문 답변을 작성해 자신의 생각을 체계화할 것.\\n- 정기적인 독서 및 리뷰를 통해 책의 내용을 더 깊이 이해하고 발전시킬 것.\\n\\n제안을 통해 책의 내용을 다양한 각도에서 체계적으로 정리하며, 사고를 확장할 수 있을 것입니다.\"}} \n",
      "\n"
     ]
    }
   ],
   "execution_count": 11,
   "source": [
    "with open(\"README.md\", \"r\", encoding=\"utf-8\") as file:\n",
    "    document = file.read()\n",
    "\n",
    "for chunk in graph.stream(\n",
    "    {\"document\": document},\n",
    "    stream_mode=\"updates\",\n",
    "):\n",
    "    print(chunk, \"\\n\")"
   ],
   "id": "c30dd099e34ebbc"
  }
 ],
 "metadata": {
  "kernelspec": {
   "name": "python3",
   "language": "python",
   "display_name": "Python 3 (ipykernel)"
  }
 },
 "nbformat": 4,
 "nbformat_minor": 5
}
