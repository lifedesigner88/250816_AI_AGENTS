{
 "cells": [
  {
   "metadata": {
    "ExecuteTime": {
     "end_time": "2025-10-13T04:24:47.524822Z",
     "start_time": "2025-10-13T04:24:47.520780Z"
    }
   },
   "cell_type": "code",
   "source": [
    "from typing_extensions import TypedDict, Literal\n",
    "\n",
    "from langgraph.types import Command\n",
    "from langgraph.graph import StateGraph, START, END\n",
    "\n",
    "from langchain.chat_models import init_chat_model\n",
    "from pydantic import BaseModel\n",
    "\n",
    "llm = init_chat_model(\"openai:gpt-5-nano\")\n",
    "\n",
    "dumb_llm = init_chat_model(\"openai:gpt-3.5-turbo\")\n",
    "average_llm = init_chat_model(\"openai:gpt-4o\")\n",
    "dumb_llm = init_chat_model(\"openai:gpt-5-2025-08-07\")"
   ],
   "id": "1a724939b6e41a9b",
   "outputs": [],
   "execution_count": 27
  },
  {
   "metadata": {
    "ExecuteTime": {
     "end_time": "2025-10-13T04:24:47.551116Z",
     "start_time": "2025-10-13T04:24:47.547117Z"
    }
   },
   "cell_type": "code",
   "source": [
    "class State(TypedDict):\n",
    "    question: str\n",
    "    difficulty: str\n",
    "    answer: str\n",
    "    model_used: str\n",
    "\n",
    "\n",
    "class DifficultyResponse(BaseModel):\n",
    "    difficulty_level: Literal[\"easy\", \"medium\", \"hard\"]"
   ],
   "id": "1101e747abc5b345",
   "outputs": [],
   "execution_count": 28
  },
  {
   "metadata": {
    "ExecuteTime": {
     "end_time": "2025-10-13T04:24:47.562606Z",
     "start_time": "2025-10-13T04:24:47.558701Z"
    }
   },
   "cell_type": "code",
   "source": [
    "def assess_difficulty(state: State):\n",
    "    structured_llm = llm.with_structured_output(DifficultyResponse)\n",
    "\n",
    "    assess_res = structured_llm.invoke(\n",
    "        f\"\"\"\n",
    "        Assess the difficulty of this question\n",
    "        Question: {state[\"question\"]}\n",
    "\n",
    "         - EASY : simple facts, basic definitions, yes/no anwers\n",
    "         - MEDIUM : Requires explanation, compariosn, analysis\n",
    "         - HARD : Complex reasioning, Multiple steps, deep experties.\n",
    "\n",
    "        \"\"\"\n",
    "    )\n",
    "    difficulty_level = assess_res.difficulty_level\n",
    "    goto = \"assess_difficulty\"\n",
    "\n",
    "    if difficulty_level == \"easy\":\n",
    "        goto = \"dumb_node\"\n",
    "    elif difficulty_level == \"medium\":\n",
    "        goto = \"average_node\"\n",
    "    elif difficulty_level == \"hard\":\n",
    "        goto = \"smart_node\"\n",
    "\n",
    "    return Command(\n",
    "        goto=goto,\n",
    "        update={\n",
    "            \"difficulty\": difficulty_level,\n",
    "        }\n",
    "    )\n",
    "\n",
    "\n",
    "def dumb_node(state: State):\n",
    "    easy_res = dumb_llm.invoke(state[\"question\"])\n",
    "    return {\n",
    "        \"answer\": easy_res.content,\n",
    "        \"model_used\": \"gpt-3.5\"\n",
    "    }\n",
    "\n",
    "\n",
    "def average_node(state: State):\n",
    "    med_res = average_llm.invoke(state[\"question\"])\n",
    "    return {\n",
    "        \"answer\": med_res.content,\n",
    "        \"model_used\": \"gpt-4o\"\n",
    "    }\n",
    "\n",
    "\n",
    "def smart_node(state: State):\n",
    "    hard_res = dumb_llm.invoke(state[\"question\"])\n",
    "    return {\n",
    "        \"answer\": hard_res.content,\n",
    "        \"model_used\": \"gpt-5\"\n",
    "    }\n",
    "\n"
   ],
   "id": "51d18344bbaa823b",
   "outputs": [],
   "execution_count": 29
  },
  {
   "metadata": {
    "ExecuteTime": {
     "end_time": "2025-10-13T04:24:47.913977Z",
     "start_time": "2025-10-13T04:24:47.571882Z"
    }
   },
   "cell_type": "code",
   "source": [
    "graph_builder = StateGraph(State)\n",
    "(\n",
    "    graph_builder\n",
    "    .add_node(\"assess_difficulty\", assess_difficulty,\n",
    "              destinations={\n",
    "                  \"dumb_node\",\n",
    "                  \"average_node\",\n",
    "                  \"smart_node\"\n",
    "              })\n",
    "    .add_node(\"dumb_node\", dumb_node)\n",
    "    .add_node(\"average_node\", average_node)\n",
    "    .add_node(\"smart_node\", smart_node)\n",
    "\n",
    "    .add_edge(START, \"assess_difficulty\")\n",
    "    .add_edge(\"dumb_node\", END)\n",
    "    .add_edge(\"average_node\", END)\n",
    "    .add_edge(\"smart_node\", END)\n",
    ")\n",
    "\n",
    "graph = graph_builder.compile()\n",
    "\n",
    "display(graph)"
   ],
   "id": "d9cd12133c00609d",
   "outputs": [
    {
     "data": {
      "text/plain": [
       "<langgraph.graph.state.CompiledStateGraph object at 0x0000019FEF8A56D0>"
      ],
      "image/png": "[encoded data removed]"
     },
     "metadata": {},
     "output_type": "display_data",
     "jetTransient": {
      "display_id": null
     }
    }
   ],
   "execution_count": 30
  },
  {
   "metadata": {
    "ExecuteTime": {
     "end_time": "2025-10-13T04:24:58.241462Z",
     "start_time": "2025-10-13T04:24:47.920452Z"
    }
   },
   "cell_type": "code",
   "source": [
    "graph.invoke({\n",
    "    \"question\" : \"what is your name?>\"\n",
    "})"
   ],
   "id": "9f7c7686041fdaca",
   "outputs": [
    {
     "data": {
      "text/plain": [
       "{'question': 'what is your name?>',\n",
       " 'difficulty': 'easy',\n",
       " 'answer': 'I’m an AI assistant. You can call me ChatGPT. How can I help you today?',\n",
       " 'model_used': 'gpt-3.5'}"
      ]
     },
     "execution_count": 31,
     "metadata": {},
     "output_type": "execute_result"
    }
   ],
   "execution_count": 31
  },
  {
   "metadata": {
    "ExecuteTime": {
     "end_time": "2025-10-13T04:25:07.530787Z",
     "start_time": "2025-10-13T04:24:58.247829Z"
    }
   },
   "cell_type": "code",
   "source": [
    "graph.invoke({\n",
    "    \"question\" : \"can you predict of Korea population of 2026\"\n",
    "})"
   ],
   "id": "bf81e70a55ad877b",
   "outputs": [
    {
     "data": {
      "text/plain": [
       "{'question': 'can you predict of Korea population of 2026',\n",
       " 'difficulty': 'medium',\n",
       " 'answer': \"I can't provide real-time data or future predictions beyond 2023. However, I can suggest how you might approach making a population estimate for South Korea in 2026.\\n\\n1. **Current Trends**: Review the most recent data from sources like the Korean Statistical Information Service (KOSIS) or the United Nations World Population Prospects for trends in population growth or decline, such as birth rate, death rate, and immigration patterns.\\n\\n2. **Growth Rate**: Calculate the annual growth rate using historical data. If the growth rate is relatively stable, you can apply this rate to estimate future population numbers.\\n\\n3. **Demographic Policy**: Consider any demographic policies that might affect population growth, such as incentives for higher birth rates or changes in immigration policy.\\n\\n4. **Socioeconomic Factors**: Economic conditions, societal trends, and external factors (like the COVID-19 pandemic) can significantly influence population dynamics.\\n\\nBy combining these factors, you can create a model to make a more educated estimate. However, for precise and official estimates, checking demographic research reports or government forecasts published closer to 2026 would be necessary.\",\n",
       " 'model_used': 'gpt-4o'}"
      ]
     },
     "execution_count": 32,
     "metadata": {},
     "output_type": "execute_result"
    }
   ],
   "execution_count": 32
  },
  {
   "metadata": {
    "ExecuteTime": {
     "end_time": "2025-10-13T04:25:45.882118Z",
     "start_time": "2025-10-13T04:25:07.564876Z"
    }
   },
   "cell_type": "code",
   "source": [
    "graph.invoke({\n",
    "    \"question\" : \"let me know trand of Samsung Stock in 2027\"\n",
    "})"
   ],
   "id": "9cfedc5a689ed660",
   "outputs": [
    {
     "data": {
      "text/plain": [
       "{'question': 'let me know trand of Samsung Stock in 2027',\n",
       " 'difficulty': 'hard',\n",
       " 'answer': 'Do you mean:\\n- The actual price trend in 2027 (year-to-date performance), or\\n- An outlook/forecast for how Samsung Electronics’ stock might trend in 2027?\\n\\nI can’t access live 2027 data here, but here’s a concise 2027 outlook framework for Samsung Electronics (KRX:005930 / 005935, OTC: SSNLF):\\n\\nWhat likely drives the 2027 trend\\n- Memory cycle: DRAM/DDR5/HBM demand from AI servers; supply discipline vs SK hynix/Micron.\\n- HBM execution: yields, customer qualifications, and share gains/losses in HBM3E/HBM4.\\n- Foundry progress: 3nm/2nm GAA yields and marquee customer wins vs TSMC.\\n- Mobile and on-device AI: higher DRAM/NAND per device supporting ASPs.\\n- Capex/FCF: spending on Pyeongtaek/Taylor fabs vs cash generation; dividends/buybacks.\\n- FX and macro: KRW/USD, global growth, geopolitics/export controls.\\n\\nScenarios for 2027\\n- Bull case: Strong HBM share and foundry wins; AI server demand stays robust; margins expand. Stock likely in an uptrend.\\n- Base case: Memory upcycle moderates but remains healthy; foundry improves gradually. Stock trends modestly up or range-bound.\\n- Bear case: HBM delays or oversupply, weak handset demand, or macro shock. Stock trends down with semis.\\n\\nHow to judge the trend quickly\\n- Price vs 200-day moving average and relative strength vs KOSPI/semis peers.\\n- EPS revisions for 2027 and memory ASP trends (DRAM/NAND spot/contract).\\n- Valuation vs history (e.g., P/B vs ROE) and capital return announcements.\\n\\nIf you want the actual 2027 YTD trend, tell me the ticker/market (e.g., 005930.KS or SSNLF) and I’ll guide you on pulling the latest chart/data or summarize it if you provide the numbers.',\n",
       " 'model_used': 'gpt-5'}"
      ]
     },
     "execution_count": 33,
     "metadata": {},
     "output_type": "execute_result"
    }
   ],
   "execution_count": 33
  }
 ],
 "metadata": {
  "kernelspec": {
   "name": "python3",
   "language": "python",
   "display_name": "Python 3 (ipykernel)"
  }
 },
 "nbformat": 4,
 "nbformat_minor": 5
}
