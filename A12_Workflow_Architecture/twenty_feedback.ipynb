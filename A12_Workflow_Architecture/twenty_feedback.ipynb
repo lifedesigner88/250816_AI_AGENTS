{
 "cells": [
  {
   "cell_type": "code",
   "id": "initial_id",
   "metadata": {
    "collapsed": true,
    "ExecuteTime": {
     "end_time": "2025-10-14T02:52:42.263901Z",
     "start_time": "2025-10-14T02:52:42.258341Z"
    }
   },
   "source": [
    "from operator import add\n",
    "\n",
    "from typing import TypedDict, Annotated\n",
    "\n",
    "from langgraph.types import Command\n",
    "from pydantic import BaseModel\n",
    "from langchain.chat_models import init_chat_model\n",
    "\n",
    "llm = init_chat_model(\"openai:gpt-4o\")\n",
    "\n",
    "class AnswerOutput(BaseModel):\n",
    "    attempt: int\n",
    "    answer: str\n",
    "\n",
    "\n",
    "class FeedbackOutput(BaseModel):\n",
    "    attempt: int\n",
    "    feedback: str\n",
    "\n",
    "\n",
    "class State(TypedDict):\n",
    "    answer: str\n",
    "    player_answers: Annotated[list[AnswerOutput], add]\n",
    "    feedbacks: Annotated[list[FeedbackOutput], add]\n",
    "\n"
   ],
   "outputs": [],
   "execution_count": 46
  },
  {
   "metadata": {
    "ExecuteTime": {
     "end_time": "2025-10-14T02:52:42.322592Z",
     "start_time": "2025-10-14T02:52:42.313263Z"
    }
   },
   "cell_type": "code",
   "source": [
    "\n",
    "def player(state: State) -> {\"player_answers\": list[AnswerOutput]}:\n",
    "    player_answers = state.get(\"player_answers\", [])\n",
    "    feedbacks = state.get(\"feedbacks\", [])\n",
    "\n",
    "    player_llm = llm.with_structured_output(AnswerOutput)\n",
    "\n",
    "    player_res = player_llm.invoke(\n",
    "        f\"\"\"\n",
    "\n",
    "        지금 한국어로 스무고개 게임을 하고 있습니다. 당신은 피드백을 바탕으로 정답을 맞춰야 합니다. 정답은 한국어로 한 단어 입니다.\n",
    "\n",
    "        지금은 {len(player_answers)}째 시도 입니다.\n",
    "\n",
    "        0번째 시도라면 아무 단어나 제시해주세요.\n",
    "\n",
    "        이전에 상대방이 준 피드백 을 참고해서 새로운 정답을 제시해 주세요.\n",
    "\n",
    "        이것은 그동안 답변했던 정답들입니다.\n",
    "        <player_answers>\n",
    "        {player_answers}\n",
    "        </player_answers>\n",
    "\n",
    "        이것은 그 정답들에 대한 피드백입니다. attempt 값을 가지고 다음 정답을 추론해 주세요.\n",
    "        </feedbacks>\n",
    "        {feedbacks}\n",
    "        </feedbacks>\n",
    "\n",
    "        답변할 때 이전 시도횟수에서 +1 해서 답변을 해주세요.\n",
    "        \"\"\"\n",
    "    )\n",
    "    print(f\" 🔥‍ - ✅{player_res.answer}\")\n",
    "    return {\n",
    "        \"player_answers\": [{\"attempt\": player_res.attempt, \"answer\": player_res.answer}],\n",
    "    }\n",
    "\n",
    "\n",
    "def feedback(state: State) -> {\"feedbacks\": list[FeedbackOutput]}:\n",
    "\n",
    "    answer = state[\"answer\"]\n",
    "    player_answers = state.get(\"player_answers\", [])\n",
    "    feedbacks = state.get(\"feedbacks\", [])\n",
    "\n",
    "    feedback_llm = llm.with_structured_output(FeedbackOutput)\n",
    "    feedback_res = feedback_llm.invoke(\n",
    "        f\"\"\"\n",
    "\n",
    "        지금 한국어로 스무고개 게임을 하고 있습니다, 당신은 상대방이 정답을 맞출 수 있도록 힌트를 피드백으로 돌려주어야 합니다.\n",
    "\n",
    "        여기 정답이 있습니다.\n",
    "        <answer>\n",
    "        {answer}\n",
    "        </answer>\n",
    "\n",
    "\n",
    "        그 동안 상대방에게 주었던 피드백 목록입니다.\n",
    "        <feedbacks>\n",
    "        {feedbacks}\n",
    "        </feedbacks>\n",
    "\n",
    "        attempt 번호에 대한 상대방의 오답입니다.\n",
    "        <player_answers>\n",
    "        {player_answers}\n",
    "        </player_answers>\n",
    "\n",
    "        상대방에서 20번의 기회가 있기때문에 10번정도에 맞출 수 있도록 점차 피드백을 추상적인 수준에서 제시해 주시고, 점점 구체화 해주세요.\n",
    "        피드백에 정답을 직접 언급해서는 안됩니다.\n",
    "\n",
    "        피드백의 길이는 한 문장으로 주세요, 200글자 보다 작아야 합니다.\n",
    "        시도 횟수(attempt)는 {len(player_answers)}로 되돌려 주세요.\n",
    "\n",
    "        \"\"\"\n",
    "    )\n",
    "\n",
    "    print(f\" 🏃‍ - ➡️{feedback_res.feedback}\")\n",
    "    return Command(\n",
    "        goto=\"player\",\n",
    "        update={\n",
    "            \"feedbacks\": [{\"attempt\": feedback_res.attempt, \"feedback\": feedback_res.feedback}]\n",
    "        }\n",
    "    )\n",
    "\n",
    "\n",
    "def gate(state: State):\n",
    "    player_answers = state.get(\"player_answers\", [])\n",
    "    last_answer = player_answers[-1]\n",
    "    if last_answer[\"answer\"] == state[\"answer\"]:\n",
    "        return \"sucess\"\n",
    "    elif last_answer[\"attempt\"] == 20:  # 20 번째 시도에서 종료.\n",
    "        return \"fail\"\n",
    "    return \"feedback\"\n",
    "\n",
    "\n",
    "def print_result(state: State):\n",
    "    answer = state[\"answer\"]\n",
    "    player_answers = state.get(\"player_answers\", [])\n",
    "    feedbacks = state.get(\"feedbacks\", [])\n",
    "\n",
    "    print(\"==========================================\")\n",
    "    print(f\"정답은 : {answer}\")\n",
    "    print(\"==========================================\")\n",
    "    for ans in player_answers:\n",
    "        print(f\"시도했던 정답들 :{ans[\"attempt\"]}. {ans[\"answer\"]}\")\n",
    "    print(\"==========================================\")\n",
    "    for feed in feedbacks:\n",
    "        print(f\"피드백들 : {feed['attempt']}. {feed['feedback']}\")\n",
    "    print(\"==========================================\")\n",
    "\n",
    "def sucess(state: State):\n",
    "    print_result(state)\n",
    "    print(\"🎉🎉🎉🎉🎉🎉🎉🎉🎉 성공!! 🎉🎉🎉🎉🎉🎉🎉🎉🎉\")\n",
    "\n",
    "def fail(state: State):\n",
    "    print_result(state)\n",
    "    print(\"😭😭😭😭😭😭😭😭😭 20번이 넘었습니다. 😭😭😭😭😭😭😭😭😭\")\n"
   ],
   "id": "e77e9cf43f0f2bc1",
   "outputs": [],
   "execution_count": 47
  },
  {
   "metadata": {
    "ExecuteTime": {
     "end_time": "2025-10-14T02:52:42.350534Z",
     "start_time": "2025-10-14T02:52:42.330310Z"
    }
   },
   "cell_type": "code",
   "source": [
    "from langgraph.graph import StateGraph, START, END\n",
    "\n",
    "graph_builder = StateGraph(State)\n",
    "(\n",
    "    graph_builder\n",
    "    .add_node(\"player\", player)\n",
    "    .add_node(\"feedback\", feedback, destinations={\"player\"})\n",
    "    .add_node(\"sucess\", sucess)\n",
    "    .add_node(\"fail\", fail)\n",
    "\n",
    "    .add_edge(START, \"player\")\n",
    "    .add_conditional_edges(\"player\", gate, {\n",
    "        \"sucess\": \"sucess\",\n",
    "        \"fail\" : \"fail\",\n",
    "        \"feedback\": \"feedback\",\n",
    "    })\n",
    ")\n",
    "\n",
    "graph = graph_builder.compile()"
   ],
   "id": "f08b59aaf909be40",
   "outputs": [],
   "execution_count": 48
  },
  {
   "metadata": {
    "ExecuteTime": {
     "end_time": "2025-10-14T02:52:42.751403Z",
     "start_time": "2025-10-14T02:52:42.358284Z"
    }
   },
   "cell_type": "code",
   "source": "display(graph)",
   "id": "5025d2bcc4eb1623",
   "outputs": [
    {
     "data": {
      "text/plain": [
       "<langgraph.graph.state.CompiledStateGraph object at 0x00000204816C0F30>"
      ],
      "image/png": "[encoded data removed]"
     },
     "metadata": {},
     "output_type": "display_data",
     "jetTransient": {
      "display_id": null
     }
    }
   ],
   "execution_count": 49
  },
  {
   "metadata": {
    "ExecuteTime": {
     "end_time": "2025-10-14T02:52:49.897717Z",
     "start_time": "2025-10-14T02:52:42.760332Z"
    }
   },
   "cell_type": "code",
   "source": [
    "graph.invoke({\n",
    "    \"answer\": \"토마토\"\n",
    "},\n",
    "    {\"recursion_limit\": 40}\n",
    ")"
   ],
   "id": "b2044b5b2bbc859b",
   "outputs": [
    {
     "name": "stdout",
     "output_type": "stream",
     "text": [
      " 🔥‍ - ✅나무\n",
      " 🏃‍ - ➡️정답은 자연에서 자라지만 나무는 아닙니다.\n",
      " 🔥‍ - ✅꽃\n",
      " 🏃‍ - ➡️정답은 식용 가능하고, 일반적으로 붉은색입니다.\n",
      " 🔥‍ - ✅사과\n",
      " 🏃‍ - ➡️정답은 과일 혹은 채소로서, 샐러드에 자주 사용됩니다.\n",
      " 🔥‍ - ✅토마토\n",
      "==========================================\n",
      "정답은 : 토마토\n",
      "==========================================\n",
      "시도했던 정답들 :1. 나무\n",
      "시도했던 정답들 :2. 꽃\n",
      "시도했던 정답들 :3. 사과\n",
      "시도했던 정답들 :4. 토마토\n",
      "==========================================\n",
      "피드백들 : 1. 정답은 자연에서 자라지만 나무는 아닙니다.\n",
      "피드백들 : 2. 정답은 식용 가능하고, 일반적으로 붉은색입니다.\n",
      "피드백들 : 3. 정답은 과일 혹은 채소로서, 샐러드에 자주 사용됩니다.\n",
      "==========================================\n",
      "🎉🎉🎉🎉🎉🎉🎉🎉🎉 성공!! 🎉🎉🎉🎉🎉🎉🎉🎉🎉\n"
     ]
    },
    {
     "data": {
      "text/plain": [
       "{'answer': '토마토',\n",
       " 'player_answers': [{'attempt': 1, 'answer': '나무'},\n",
       "  {'attempt': 2, 'answer': '꽃'},\n",
       "  {'attempt': 3, 'answer': '사과'},\n",
       "  {'attempt': 4, 'answer': '토마토'}],\n",
       " 'feedbacks': [{'attempt': 1, 'feedback': '정답은 자연에서 자라지만 나무는 아닙니다.'},\n",
       "  {'attempt': 2, 'feedback': '정답은 식용 가능하고, 일반적으로 붉은색입니다.'},\n",
       "  {'attempt': 3, 'feedback': '정답은 과일 혹은 채소로서, 샐러드에 자주 사용됩니다.'}]}"
      ]
     },
     "execution_count": 50,
     "metadata": {},
     "output_type": "execute_result"
    }
   ],
   "execution_count": 50
  }
 ],
 "metadata": {
  "kernelspec": {
   "display_name": "Python 3",
   "language": "python",
   "name": "python3"
  },
  "language_info": {
   "codemirror_mode": {
    "name": "ipython",
    "version": 2
   },
   "file_extension": ".py",
   "mimetype": "text/x-python",
   "name": "python",
   "nbconvert_exporter": "python",
   "pygments_lexer": "ipython2",
   "version": "2.7.6"
  }
 },
 "nbformat": 4,
 "nbformat_minor": 5
}
