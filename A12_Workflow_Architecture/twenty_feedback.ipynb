{
 "cells": [
  {
   "cell_type": "code",
   "id": "initial_id",
   "metadata": {
    "collapsed": true,
    "ExecuteTime": {
     "end_time": "2025-10-13T08:00:08.220032Z",
     "start_time": "2025-10-13T08:00:08.215029Z"
    }
   },
   "source": [
    "from operator import add\n",
    "\n",
    "from typing import TypedDict, Annotated\n",
    "from pydantic import BaseModel\n",
    "from langchain.chat_models import init_chat_model\n",
    "\n",
    "llm = init_chat_model(\"openai:gpt-4o\")\n",
    "\n",
    "\n",
    "class AnswerOutput(BaseModel):\n",
    "    attempt: int\n",
    "    answer: str\n",
    "\n",
    "\n",
    "class FeedbackOutput(BaseModel):\n",
    "    result: bool\n",
    "    attempt: int\n",
    "    feedback: str\n",
    "\n",
    "\n",
    "class State(TypedDict):\n",
    "    answer: str\n",
    "    player_answers: Annotated[list[AnswerOutput], add]\n",
    "    feedbacks: Annotated[list[FeedbackOutput], add]\n",
    "\n"
   ],
   "outputs": [],
   "execution_count": 39
  },
  {
   "metadata": {
    "ExecuteTime": {
     "end_time": "2025-10-13T08:00:08.232851Z",
     "start_time": "2025-10-13T08:00:08.228504Z"
    }
   },
   "cell_type": "code",
   "source": [
    "\n",
    "def player(state: State) -> {\"player_answers\": list[AnswerOutput]}:\n",
    "    player_answers = state.get(\"player_answers\", [])\n",
    "    feedbacks = state.get(\"feedbacks\", [])\n",
    "\n",
    "    player_llm = llm.with_structured_output(AnswerOutput)\n",
    "\n",
    "    player_res = player_llm.invoke(\n",
    "        f\"\"\"\n",
    "\n",
    "        지금 스무고개 게임을 하고 있습니다. 당신은 피드백을 바탕으로 정답을 맞춰야 합니다.\n",
    "\n",
    "        지금은 {len(player_answers)}째 시도 입니다.\n",
    "\n",
    "        0번째 시도라면 아무 단어나 제시해주세요.\n",
    "\n",
    "        이전에 상대방이 준 피드백 을 참고해서 새로운 정답을 제시해 주세요.\n",
    "\n",
    "        이것은 그동안 답변했던 정답들입니다.\n",
    "        <player_answers>\n",
    "        {player_answers}\n",
    "        </player_answers>\n",
    "\n",
    "        이것은 그 정답들에 대한 피드백입니다. attempt 값을 가지고 다음 정답을 추론해 주세요.\n",
    "        </feedbacks>\n",
    "        {feedbacks}\n",
    "        </feedbacks>\n",
    "\n",
    "        답변할 때 이전 시도횟수에서 +1 해서 답변을 해주세요.\n",
    "        \"\"\"\n",
    "    )\n",
    "    return {\n",
    "        \"player_answers\": [{\"attempt\": player_res.attempt, \"answer\": player_res.answer}],\n",
    "    }\n",
    "\n",
    "def feedback(state: State) -> {\"feedbacks\" : list[FeedbackOutput]}:\n",
    "    print(\"feedBadk🎉\")\n",
    "\n",
    "\n",
    "def gate (state: State):\n",
    "    player_answers = state.get(\"player_answers\", [])\n",
    "    last_answer = player_answers[-1]\n",
    "    print(\"last_answer\", last_answer[\"answer\"], \"🔥🔥\")\n",
    "\n",
    "    return last_answer == state[\"answer\"]\n"
   ],
   "id": "e77e9cf43f0f2bc1",
   "outputs": [],
   "execution_count": 40
  },
  {
   "metadata": {
    "ExecuteTime": {
     "end_time": "2025-10-13T08:00:08.244447Z",
     "start_time": "2025-10-13T08:00:08.238793Z"
    }
   },
   "cell_type": "code",
   "source": [
    "from langgraph.graph import StateGraph, START, END\n",
    "\n",
    "graph_builder = StateGraph(State)\n",
    "(\n",
    "    graph_builder\n",
    "    .add_node(\"player\", player)\n",
    "    .add_node(\"feedback\", feedback)\n",
    "\n",
    "        .add_edge(START, \"player\")\n",
    "    .add_conditional_edges(\"player\", gate, {\n",
    "        True: END,\n",
    "        False: \"feedback\",\n",
    "    })\n",
    ")\n",
    "\n",
    "graph = graph_builder.compile()"
   ],
   "id": "f08b59aaf909be40",
   "outputs": [],
   "execution_count": 41
  },
  {
   "metadata": {
    "ExecuteTime": {
     "end_time": "2025-10-13T08:00:09.354204Z",
     "start_time": "2025-10-13T08:00:08.251555Z"
    }
   },
   "cell_type": "code",
   "source": [
    "graph.invoke({\n",
    "    \"answer\" : \"사과\"\n",
    "}\n",
    ")"
   ],
   "id": "e83de8b632aa33fd",
   "outputs": [
    {
     "name": "stdout",
     "output_type": "stream",
     "text": [
      "last_answer 바나나 🔥🔥\n"
     ]
    },
    {
     "data": {
      "text/plain": [
       "{'answer': '사과',\n",
       " 'player_answers': [{'attempt': 1, 'answer': '바나나'}],\n",
       " 'feedbacks': []}"
      ]
     },
     "execution_count": 42,
     "metadata": {},
     "output_type": "execute_result"
    }
   ],
   "execution_count": 42
  },
  {
   "metadata": {
    "ExecuteTime": {
     "end_time": "2025-10-13T08:00:09.361724Z",
     "start_time": "2025-10-13T08:00:09.359886Z"
    }
   },
   "cell_type": "code",
   "source": "",
   "id": "5025d2bcc4eb1623",
   "outputs": [],
   "execution_count": null
  }
 ],
 "metadata": {
  "kernelspec": {
   "display_name": "Python 3",
   "language": "python",
   "name": "python3"
  },
  "language_info": {
   "codemirror_mode": {
    "name": "ipython",
    "version": 2
   },
   "file_extension": ".py",
   "mimetype": "text/x-python",
   "name": "python",
   "nbconvert_exporter": "python",
   "pygments_lexer": "ipython2",
   "version": "2.7.6"
  }
 },
 "nbformat": 4,
 "nbformat_minor": 5
}
